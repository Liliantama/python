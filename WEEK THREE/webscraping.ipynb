{
 "cells": [
  {
   "cell_type": "code",
   "execution_count": 1,
   "metadata": {},
   "outputs": [
    {
     "name": "stdout",
     "output_type": "stream",
     "text": [
      "Requirement already satisfied: beautifulsoup4 in c:\\users\\admin\\dox\\lilly\\mydox\\lib\\site-packages (4.12.3)\n",
      "Requirement already satisfied: soupsieve>1.2 in c:\\users\\admin\\dox\\lilly\\mydox\\lib\\site-packages (from beautifulsoup4) (2.5)\n"
     ]
    }
   ],
   "source": [
    "! pip install beautifulsoup4"
   ]
  },
  {
   "cell_type": "code",
   "execution_count": 2,
   "metadata": {},
   "outputs": [
    {
     "name": "stdout",
     "output_type": "stream",
     "text": [
      "Requirement already satisfied: requests in c:\\users\\admin\\dox\\lilly\\mydox\\lib\\site-packages (2.32.3)\n",
      "Requirement already satisfied: charset-normalizer<4,>=2 in c:\\users\\admin\\dox\\lilly\\mydox\\lib\\site-packages (from requests) (3.3.2)\n",
      "Requirement already satisfied: idna<4,>=2.5 in c:\\users\\admin\\dox\\lilly\\mydox\\lib\\site-packages (from requests) (3.7)\n",
      "Requirement already satisfied: urllib3<3,>=1.21.1 in c:\\users\\admin\\dox\\lilly\\mydox\\lib\\site-packages (from requests) (2.2.1)\n",
      "Requirement already satisfied: certifi>=2017.4.17 in c:\\users\\admin\\dox\\lilly\\mydox\\lib\\site-packages (from requests) (2024.6.2)\n"
     ]
    }
   ],
   "source": [
    "! pip install requests"
   ]
  },
  {
   "cell_type": "code",
   "execution_count": 3,
   "metadata": {},
   "outputs": [],
   "source": [
    "import requests\n",
    "from bs4 import BeautifulSoup"
   ]
  },
  {
   "cell_type": "code",
   "execution_count": 4,
   "metadata": {},
   "outputs": [],
   "source": [
    "url=\"https://www.careerpointkenya.co.ke/\""
   ]
  },
  {
   "cell_type": "code",
   "execution_count": 5,
   "metadata": {},
   "outputs": [
    {
     "data": {
      "text/plain": [
       "<Response [200]>"
      ]
     },
     "execution_count": 5,
     "metadata": {},
     "output_type": "execute_result"
    }
   ],
   "source": [
    "requests.get(url)"
   ]
  },
  {
   "cell_type": "code",
   "execution_count": 6,
   "metadata": {},
   "outputs": [],
   "source": [
    "response=requests.get(url)"
   ]
  },
  {
   "cell_type": "code",
   "execution_count": 7,
   "metadata": {},
   "outputs": [],
   "source": [
    "soup=BeautifulSoup(response.text, 'html.parser')"
   ]
  },
  {
   "cell_type": "code",
   "execution_count": 8,
   "metadata": {},
   "outputs": [
    {
     "data": {
      "text/plain": [
       "'Latest 137 Jobs Vacancies In Kenya - Career Point Kenya'"
      ]
     },
     "execution_count": 8,
     "metadata": {},
     "output_type": "execute_result"
    }
   ],
   "source": [
    "soup.title.string"
   ]
  },
  {
   "cell_type": "code",
   "execution_count": 9,
   "metadata": {},
   "outputs": [],
   "source": [
    "url2=\"https://www.careerpointkenya.co.ke/recruitment-agencies-kenya/\""
   ]
  },
  {
   "cell_type": "code",
   "execution_count": 10,
   "metadata": {},
   "outputs": [
    {
     "data": {
      "text/plain": [
       "<Response [200]>"
      ]
     },
     "execution_count": 10,
     "metadata": {},
     "output_type": "execute_result"
    }
   ],
   "source": [
    "requests.get(url2)"
   ]
  },
  {
   "cell_type": "code",
   "execution_count": 11,
   "metadata": {},
   "outputs": [],
   "source": [
    "response=requests.get(url2)"
   ]
  },
  {
   "cell_type": "code",
   "execution_count": 12,
   "metadata": {},
   "outputs": [],
   "source": [
    "soup=BeautifulSoup(response.text, 'html.parser')"
   ]
  },
  {
   "cell_type": "code",
   "execution_count": 13,
   "metadata": {},
   "outputs": [
    {
     "data": {
      "text/plain": [
       "'Recruitment Agencies In Kenya | Career Point Kenya'"
      ]
     },
     "execution_count": 13,
     "metadata": {},
     "output_type": "execute_result"
    }
   ],
   "source": [
    "soup.title.string"
   ]
  },
  {
   "cell_type": "code",
   "execution_count": 14,
   "metadata": {},
   "outputs": [
    {
     "data": {
      "text/plain": [
       "[<li class=\"menu-item menu-item-type-post_type menu-item-object-page menu-item-home menu-item-779105\" id=\"menu-item-779105\"><a href=\"https://www.careerpointkenya.co.ke/\">Home</a></li>,\n",
       " <li class=\"menu-item menu-item-type-post_type_archive menu-item-object-job menu-item-779040\" id=\"menu-item-779040\"><a href=\"https://www.careerpointkenya.co.ke/jobs/\">Latest Jobs</a></li>,\n",
       " <li class=\"menu-item menu-item-type-post_type menu-item-object-page menu-item-562955\" id=\"menu-item-562955\"><a href=\"https://www.careerpointkenya.co.ke/cv-writing-services-kenya/\">CV Writing</a></li>,\n",
       " <li class=\"menu-item menu-item-type-post_type menu-item-object-page current-menu-item page_item page-item-586393 current_page_item menu-item-586395\" id=\"menu-item-586395\"><a aria-current=\"page\" href=\"https://www.careerpointkenya.co.ke/recruitment-agencies-kenya/\">Recruitment Firms</a></li>,\n",
       " <li class=\"menu-item menu-item-type-post_type menu-item-object-page menu-item-710363\" id=\"menu-item-710363\"><a href=\"https://www.careerpointkenya.co.ke/top-common-interview-questions-and-answers-in-kenya/\">Best Interview Answers</a></li>,\n",
       " <li class=\"menu-item menu-item-type-post_type menu-item-object-page menu-item-710364\" id=\"menu-item-710364\"><a href=\"https://www.careerpointkenya.co.ke/short-courses-in-kenya-best/\">New Short Courses</a></li>,\n",
       " <li class=\"menu-item menu-item-type-post_type menu-item-object-page menu-item-551359\" id=\"menu-item-551359\"><a href=\"https://www.careerpointkenya.co.ke/free-job-advertising/\">Free Job Posting</a></li>,\n",
       " <li class=\"wp-block-navigation-item wp-block-navigation-link\" style=\"font-size: 20px;\"><a class=\"wp-block-navigation-item__content\" href=\"https://www.careerpointkenya.co.ke/category/accounting-jobs-in-kenya/\" title=\"Accounting Jobs\"><span class=\"wp-block-navigation-item__label\">Accounting Jobs</span></a></li>,\n",
       " <li class=\"wp-block-navigation-item wp-block-navigation-link\" style=\"font-size: 20px;\"><a class=\"wp-block-navigation-item__content\" href=\"https://www.careerpointkenya.co.ke/category/administration-jobs-in-kenya/\" title=\"Administration Jobs\"><span class=\"wp-block-navigation-item__label\">Administration Jobs</span></a></li>,\n",
       " <li class=\"wp-block-navigation-item wp-block-navigation-link\" style=\"font-size: 20px;\"><a class=\"wp-block-navigation-item__content\" href=\"https://www.careerpointkenya.co.ke/category/banking-jobs-in-kenya/\" title=\"Banking Jobs\"><span class=\"wp-block-navigation-item__label\">Banking Jobs</span></a></li>,\n",
       " <li class=\"wp-block-navigation-item wp-block-navigation-link\" style=\"font-size: 20px;\"><a class=\"wp-block-navigation-item__content\" href=\"https://www.careerpointkenya.co.ke/category/customer-service-jobs-in-kenya/\" title=\"Customer Service Jobs\"><span class=\"wp-block-navigation-item__label\">Customer Service Jobs</span></a></li>,\n",
       " <li class=\"wp-block-navigation-item wp-block-navigation-link\" style=\"font-size: 20px;\"><a class=\"wp-block-navigation-item__content\" href=\"https://www.careerpointkenya.co.ke/category/driver-jobs-in-kenya/\" title=\"Driver Jobs\"><span class=\"wp-block-navigation-item__label\">Driver Jobs</span></a></li>,\n",
       " <li class=\"wp-block-navigation-item wp-block-navigation-link\" style=\"font-size: 20px;\"><a class=\"wp-block-navigation-item__content\" href=\"https://www.careerpointkenya.co.ke/category/engineering-jobs-in-kenya/\" title=\"Driver Jobs\"><span class=\"wp-block-navigation-item__label\">Engineering Jobs</span></a></li>,\n",
       " <li class=\"wp-block-navigation-item wp-block-navigation-link\" style=\"font-size: 20px;\"><a class=\"wp-block-navigation-item__content\" href=\"https://www.careerpointkenya.co.ke/category/hr-jobs-in-kenya/\" title=\"HR Jobs\"><span class=\"wp-block-navigation-item__label\">HR Jobs</span></a></li>,\n",
       " <li class=\"wp-block-navigation-item wp-block-navigation-link\" style=\"font-size: 20px;\"><a class=\"wp-block-navigation-item__content\" href=\"https://www.careerpointkenya.co.ke/category/internships-in-kenya/\"><span class=\"wp-block-navigation-item__label\">Internships Jobs</span></a></li>,\n",
       " <li class=\"wp-block-navigation-item wp-block-navigation-link\" style=\"font-size: 20px;\"><a class=\"wp-block-navigation-item__content\" href=\"https://www.careerpointkenya.co.ke/category/it-jobs-in-kenya/\" title=\"IT Jobs\"><span class=\"wp-block-navigation-item__label\">IT Jobs</span></a></li>,\n",
       " <li class=\"wp-block-navigation-item wp-block-navigation-link\" style=\"font-size: 20px;\"><a class=\"wp-block-navigation-item__content\" href=\"https://www.careerpointkenya.co.ke/category/legal-jobs-in-kenya/\" title=\"Legal Jobs\"><span class=\"wp-block-navigation-item__label\">Legal Jobs</span></a></li>,\n",
       " <li class=\"wp-block-navigation-item wp-block-navigation-link\" style=\"font-size: 20px;\"><a class=\"wp-block-navigation-item__content\" href=\"https://www.careerpointkenya.co.ke/category/ngo-jobs-in-kenya/\" title=\"NGO Jobs\"><span class=\"wp-block-navigation-item__label\">NGO Jobs</span></a></li>,\n",
       " <li class=\"wp-block-navigation-item wp-block-navigation-link\" style=\"font-size: 20px;\"><a class=\"wp-block-navigation-item__content\" href=\"https://www.careerpointkenya.co.ke/category/nursing-jobs-in-kenya/\" title=\"Nursing Jobs\"><span class=\"wp-block-navigation-item__label\">Nursing Jobs</span></a></li>,\n",
       " <li class=\"wp-block-navigation-item wp-block-navigation-link\" style=\"font-size: 20px;\"><a class=\"wp-block-navigation-item__content\" href=\"https://www.careerpointkenya.co.ke/category/procurement-jobs-in-kenya/\" title=\"Procurement Jobs\"><span class=\"wp-block-navigation-item__label\">Procurement Jobs</span></a></li>,\n",
       " <li class=\"wp-block-navigation-item wp-block-navigation-link\" style=\"font-size: 20px;\"><a class=\"wp-block-navigation-item__content\" href=\"https://www.careerpointkenya.co.ke/category/security-jobs-in-kenya/\" title=\"Security Jobs\"><span class=\"wp-block-navigation-item__label\">Security Jobs</span></a></li>,\n",
       " <li class=\"wp-block-navigation-item wp-block-navigation-link\" style=\"font-size: 20px;\"><a class=\"wp-block-navigation-item__content\" href=\"https://www.careerpointkenya.co.ke/category/teaching-jobs-in-kenya/\" title=\"Teaching Jobs\"><span class=\"wp-block-navigation-item__label\">Teaching Jobs</span></a></li>,\n",
       " <li class=\"wp-block-navigation-item wp-block-navigation-link\" style=\"font-size: 20px;\"><a class=\"wp-block-navigation-item__content\" href=\"https://www.careerpointkenya.co.ke/category/agricultural-jobs-in-kenya/\"><span class=\"wp-block-navigation-item__label\">Agricultural Jobs</span></a></li>,\n",
       " <li class=\"wp-block-navigation-item wp-block-navigation-link\" style=\"font-size: 20px;\"><a class=\"wp-block-navigation-item__content\" href=\"https://www.careerpointkenya.co.ke/category/airline-jobs-in-kenya/\"><span class=\"wp-block-navigation-item__label\">Airline Jobs</span></a></li>,\n",
       " <li class=\"wp-block-navigation-item wp-block-navigation-link\" style=\"font-size: 20px;\"><a class=\"wp-block-navigation-item__content\" href=\"https://www.careerpointkenya.co.ke/category/audit-jobs-in-kenya/\"><span class=\"wp-block-navigation-item__label\">Audit Jobs</span></a></li>,\n",
       " <li class=\"wp-block-navigation-item wp-block-navigation-link\" style=\"font-size: 20px;\"><a class=\"wp-block-navigation-item__content\" href=\"https://www.careerpointkenya.co.ke/category/communication-jobs-in-kenya/\"><span class=\"wp-block-navigation-item__label\">Communication Jobs</span></a></li>,\n",
       " <li class=\"wp-block-navigation-item wp-block-navigation-link\" style=\"font-size: 20px;\"><a class=\"wp-block-navigation-item__content\" href=\"https://www.careerpointkenya.co.ke/category/credit-control-jobs-in-kenya/\"><span class=\"wp-block-navigation-item__label\">Credit Control Jobs</span></a></li>,\n",
       " <li class=\"wp-block-navigation-item wp-block-navigation-link\" style=\"font-size: 20px;\"><a class=\"wp-block-navigation-item__content\" href=\"https://www.careerpointkenya.co.ke/category/finance-jobs-in-kenya/\"><span class=\"wp-block-navigation-item__label\">Finance Jobs</span></a></li>,\n",
       " <li class=\"wp-block-navigation-item wp-block-navigation-link\" style=\"font-size: 20px;\"><a class=\"wp-block-navigation-item__content\" href=\"https://www.careerpointkenya.co.ke/category/hotel-jobs-in-kenya/\"><span class=\"wp-block-navigation-item__label\">Hotel Jobs</span></a></li>,\n",
       " <li class=\"wp-block-navigation-item wp-block-navigation-link\" style=\"font-size: 20px;\"><a class=\"wp-block-navigation-item__content\" href=\"https://www.careerpointkenya.co.ke/category/insurance-jobs-in-kenya/\"><span class=\"wp-block-navigation-item__label\">Insurance Jobs</span></a></li>,\n",
       " <li class=\"wp-block-navigation-item wp-block-navigation-link\" style=\"font-size: 20px;\"><a class=\"wp-block-navigation-item__content\" href=\"https://www.careerpointkenya.co.ke/category/media-jobs-in-kenya/\"><span class=\"wp-block-navigation-item__label\">Media Jobs</span></a></li>,\n",
       " <li class=\"wp-block-navigation-item wp-block-navigation-link\" style=\"font-size: 20px;\"><a class=\"wp-block-navigation-item__content\" href=\"https://www.careerpointkenya.co.ke/category/nursing-jobs-in-kenya/\"><span class=\"wp-block-navigation-item__label\">Nursing Jobs</span></a></li>,\n",
       " <li class=\"wp-block-navigation-item wp-block-navigation-link\" style=\"font-size: 20px;\"><a class=\"wp-block-navigation-item__content\" href=\"https://www.careerpointkenya.co.ke/category/sales-and-marketing-jobs-in-kenya/\"><span class=\"wp-block-navigation-item__label\">Sales &amp; Marketing Jobs</span></a></li>,\n",
       " <li class=\"wp-block-navigation-item wp-block-navigation-link\" style=\"font-size: 20px;\"><a class=\"wp-block-navigation-item__content\" href=\"https://www.careerpointkenya.co.ke/category/librarian-jobs-in-kenya/\"><span class=\"wp-block-navigation-item__label\">Librarian Jobs</span></a></li>,\n",
       " <li class=\"wp-block-navigation-item wp-block-navigation-link\" style=\"font-size: 20px;\"><a class=\"wp-block-navigation-item__content\" href=\"https://www.careerpointkenya.co.ke/category/logistics-jobs-in-kenya/\"><span class=\"wp-block-navigation-item__label\">Logistics Jobs</span></a></li>,\n",
       " <li class=\"wp-block-navigation-item wp-block-navigation-link\" style=\"font-size: 20px;\"><a class=\"wp-block-navigation-item__content\" href=\"https://www.careerpointkenya.co.ke/category/nutrition-jobs-in-kenya/\"><span class=\"wp-block-navigation-item__label\">Nutrition Jobs</span></a></li>,\n",
       " <li class=\"wp-block-navigation-item wp-block-navigation-link\" style=\"font-size: 20px;\"><a class=\"wp-block-navigation-item__content\" href=\"https://www.careerpointkenya.co.ke/category/parastatal-jobs-in-kenya/\"><span class=\"wp-block-navigation-item__label\">Parastatal Jobs</span></a></li>,\n",
       " <li class=\"wp-block-navigation-item wp-block-navigation-link\" style=\"font-size: 20px;\"><a class=\"wp-block-navigation-item__content\" href=\"https://www.careerpointkenya.co.ke/category/public-health-jobs-in-kenya/\"><span class=\"wp-block-navigation-item__label\">Public Health Jobs</span></a></li>,\n",
       " <li class=\"wp-block-navigation-item wp-block-navigation-link\" style=\"font-size: 20px;\"><a class=\"wp-block-navigation-item__content\" href=\"https://www.careerpointkenya.co.ke/category/public-relations-jobs-in-kenya/\"><span class=\"wp-block-navigation-item__label\">Public Relations Jobs</span></a></li>,\n",
       " <li class=\"wp-block-navigation-item wp-block-navigation-link\" style=\"font-size: 20px;\"><a class=\"wp-block-navigation-item__content\" href=\"https://www.careerpointkenya.co.ke/category/quantity-surveyor-jobs-in-kenya/\"><span class=\"wp-block-navigation-item__label\">Quantity Surveyor Jobs</span></a></li>,\n",
       " <li class=\"wp-block-navigation-item wp-block-navigation-link\" style=\"font-size: 20px;\"><a class=\"wp-block-navigation-item__content\" href=\"https://www.careerpointkenya.co.ke/category/social-work-jobs-in-kenya/\"><span class=\"wp-block-navigation-item__label\">Social Work Jobs</span></a></li>,\n",
       " <li class=\"wp-block-navigation-item wp-block-navigation-link\" style=\"font-size: 20px;\"><a class=\"wp-block-navigation-item__content\" href=\"https://www.careerpointkenya.co.ke/category/supply-chain-jobs-in-kenya/\"><span class=\"wp-block-navigation-item__label\">Supply Chain Jobs</span></a></li>,\n",
       " <li class=\"wp-block-navigation-item wp-block-navigation-link\" style=\"font-size: 20px;\"><a class=\"wp-block-navigation-item__content\" href=\"https://www.careerpointkenya.co.ke/category/tours-travel-jobs-in-kenya/\"><span class=\"wp-block-navigation-item__label\">Tours Travel Jobs</span></a></li>,\n",
       " <li class=\"wp-block-navigation-item wp-block-navigation-link\" style=\"font-size: 20px;\"><a class=\"wp-block-navigation-item__content\" href=\"https://www.corporatestaffing.co.ke/training/public-speaking-training-kenya/\"><span class=\"wp-block-navigation-item__label\">Public Speaking Course</span></a></li>,\n",
       " <li class=\"wp-block-navigation-item wp-block-navigation-link\" style=\"font-size: 20px;\"><a class=\"wp-block-navigation-item__content\" href=\"https://www.corporatestaffing.co.ke/training/project-management-course-in-kenya/\"><span class=\"wp-block-navigation-item__label\">Project Management Training</span></a></li>,\n",
       " <li class=\"wp-block-navigation-item wp-block-navigation-link\" style=\"font-size: 20px;\"><a class=\"wp-block-navigation-item__content\" href=\"https://www.corporatestaffing.co.ke/training/pmp-exam-course/\"><span class=\"wp-block-navigation-item__label\">PMP Course</span></a></li>,\n",
       " <li class=\"wp-block-navigation-item wp-block-navigation-link\" style=\"font-size: 20px;\"><a class=\"wp-block-navigation-item__content\" href=\"https://www.corporatestaffing.co.ke/training/monitoring-and-evaluation-course/\"><span class=\"wp-block-navigation-item__label\">Monitoring &amp; Evaluation Class</span></a></li>,\n",
       " <li class=\"wp-block-navigation-item wp-block-navigation-link\" style=\"font-size: 20px;\"><a class=\"wp-block-navigation-item__content\" href=\"https://www.corporatestaffing.co.ke/training/advanced-excel-training-nairobi/\"><span class=\"wp-block-navigation-item__label\">Advanced Excel Lessons</span></a></li>,\n",
       " <li class=\"wp-block-navigation-item wp-block-navigation-link\" style=\"font-size: 20px;\"><a class=\"wp-block-navigation-item__content\" href=\"https://www.corporatestaffing.co.ke/training/digital-marketing-course-in-kenya/\"><span class=\"wp-block-navigation-item__label\">Digital Marketing Course</span></a></li>,\n",
       " <li class=\"wp-block-navigation-item wp-block-navigation-link\" style=\"font-size: 20px;\"><a class=\"wp-block-navigation-item__content\" href=\"https://www.corporatestaffing.co.ke/training/hr-jobs-2020/\"><span class=\"wp-block-navigation-item__label\">Practical HR Skills Training</span></a></li>,\n",
       " <li class=\"wp-block-navigation-item wp-block-navigation-link\" style=\"font-size: 20px;\"><a class=\"wp-block-navigation-item__content\" href=\"https://www.corporatestaffing.co.ke/training/certificate-in-hr-management/\"><span class=\"wp-block-navigation-item__label\">Certificate In HR Management Course</span></a></li>,\n",
       " <li class=\"wp-block-navigation-item wp-block-navigation-link\" style=\"font-size: 20px;\"><a class=\"wp-block-navigation-item__content\" href=\"https://www.corporatestaffing.co.ke/training/leadership-course-in-kenya/\"><span class=\"wp-block-navigation-item__label\">Leadership &amp; Management Development Training</span></a></li>,\n",
       " <li class=\"wp-block-navigation-item wp-block-navigation-link\" style=\"font-size: 20px;\"><a class=\"wp-block-navigation-item__content\" href=\"https://www.corporatestaffing.co.ke/training/quickbooks-training-in-kenya/\"><span class=\"wp-block-navigation-item__label\">Master QuickBooks &amp; Filing Taxes Class</span></a></li>,\n",
       " <li class=\"wp-block-navigation-item wp-block-navigation-link\" style=\"font-size: 20px;\"><a class=\"wp-block-navigation-item__content\" href=\"https://www.corporatestaffing.co.ke/training/train-the-trainer-tot-course/\"><span class=\"wp-block-navigation-item__label\">Training of Trainers Class</span></a></li>,\n",
       " <li class=\"wp-block-navigation-item wp-block-navigation-link\" style=\"font-size: 20px;\"><a class=\"wp-block-navigation-item__content\" href=\"https://www.corporatestaffing.co.ke/training/customer-service-course-certificate/\"><span class=\"wp-block-navigation-item__label\">Customer Service Training</span></a></li>,\n",
       " <li class=\"wp-block-navigation-item wp-block-navigation-link\" style=\"font-size: 20px;\"><a class=\"wp-block-navigation-item__content\" href=\"https://www.corporatestaffing.co.ke/training/certificate-in-graphic-design-course-in-kenya/\"><span class=\"wp-block-navigation-item__label\">Graphic Design Course</span></a></li>,\n",
       " <li class=\"wp-block-navigation-item wp-block-navigation-link\" style=\"font-size: 20px;\"><a class=\"wp-block-navigation-item__content\" href=\"https://www.corporatestaffing.co.ke/training/communication-skills-course/\"><span class=\"wp-block-navigation-item__label\">Communication Skills Class</span></a></li>,\n",
       " <li class=\"wp-block-navigation-item wp-block-navigation-link\" style=\"font-size: 20px;\"><a class=\"wp-block-navigation-item__content\" href=\"https://www.corporatestaffing.co.ke/training/emotional-intelligence-course/\"><span class=\"wp-block-navigation-item__label\">Emotional Intelligence Course</span></a></li>,\n",
       " <li class=\"wp-block-navigation-item wp-block-navigation-link\" style=\"font-size: 20px;\"><a class=\"wp-block-navigation-item__content\" href=\"https://www.corporatestaffing.co.ke/training/events-management-course-certificate/\"><span class=\"wp-block-navigation-item__label\">Events Planning Lessons</span></a></li>,\n",
       " <li class=\"wp-block-navigation-item wp-block-navigation-link\" style=\"font-size: 20px;\"><a class=\"wp-block-navigation-item__content\" href=\"https://www.corporatestaffing.co.ke/training/spss-training/\"><span class=\"wp-block-navigation-item__label\">SPSS Training</span></a></li>,\n",
       " <li class=\"menu-item menu-item-type-post_type menu-item-object-page menu-item-779036\" id=\"menu-item-779036\"><a href=\"https://www.careerpointkenya.co.ke/jobs/\">New Jobs</a></li>,\n",
       " <li class=\"menu-item menu-item-type-post_type menu-item-object-page menu-item-779037\" id=\"menu-item-779037\"><a href=\"https://www.careerpointkenya.co.ke/cv-writing-services-kenya/\">CV Writing</a></li>,\n",
       " <li class=\"menu-item menu-item-type-post_type menu-item-object-page menu-item-779038\" id=\"menu-item-779038\"><a href=\"https://www.careerpointkenya.co.ke/top-common-interview-questions-and-answers-in-kenya/\">Interview Q&amp;A</a></li>,\n",
       " <li class=\"menu-item menu-item-type-post_type menu-item-object-page menu-item-779035\" id=\"menu-item-779035\"><a href=\"https://www.careerpointkenya.co.ke/short-courses-in-kenya-best/\">Short Courses</a></li>,\n",
       " <li class=\"menu-item menu-item-type-post_type menu-item-object-page menu-item-779033\" id=\"menu-item-779033\"><a href=\"https://www.careerpointkenya.co.ke/free-job-advertising/\">Free Job Advertising</a></li>,\n",
       " <li class=\"menu-item menu-item-type-post_type menu-item-object-page current-menu-item page_item page-item-586393 current_page_item menu-item-779034\" id=\"menu-item-779034\"><a aria-current=\"page\" href=\"https://www.careerpointkenya.co.ke/recruitment-agencies-kenya/\">Agencies Listing</a></li>,\n",
       " <li class=\"menu-item menu-item-type-post_type menu-item-object-page menu-item-privacy-policy menu-item-781681\" id=\"menu-item-781681\"><a href=\"https://www.careerpointkenya.co.ke/privacy-policy/\" rel=\"privacy-policy\">Privacy Policy</a></li>,\n",
       " <li class=\"menu-item menu-item-type-post_type menu-item-object-page menu-item-home menu-item-779105\"><a href=\"https://www.careerpointkenya.co.ke/\">Home</a></li>,\n",
       " <li class=\"menu-item menu-item-type-post_type_archive menu-item-object-job menu-item-779040\"><a href=\"https://www.careerpointkenya.co.ke/jobs/\">Latest Jobs</a></li>,\n",
       " <li class=\"menu-item menu-item-type-post_type menu-item-object-page menu-item-562955\"><a href=\"https://www.careerpointkenya.co.ke/cv-writing-services-kenya/\">CV Writing</a></li>,\n",
       " <li class=\"menu-item menu-item-type-post_type menu-item-object-page current-menu-item page_item page-item-586393 current_page_item menu-item-586395\"><a aria-current=\"page\" href=\"https://www.careerpointkenya.co.ke/recruitment-agencies-kenya/\">Recruitment Firms</a></li>,\n",
       " <li class=\"menu-item menu-item-type-post_type menu-item-object-page menu-item-710363\"><a href=\"https://www.careerpointkenya.co.ke/top-common-interview-questions-and-answers-in-kenya/\">Best Interview Answers</a></li>,\n",
       " <li class=\"menu-item menu-item-type-post_type menu-item-object-page menu-item-710364\"><a href=\"https://www.careerpointkenya.co.ke/short-courses-in-kenya-best/\">New Short Courses</a></li>,\n",
       " <li class=\"menu-item menu-item-type-post_type menu-item-object-page menu-item-551359\"><a href=\"https://www.careerpointkenya.co.ke/free-job-advertising/\">Free Job Posting</a></li>]"
      ]
     },
     "execution_count": 14,
     "metadata": {},
     "output_type": "execute_result"
    }
   ],
   "source": [
    "soup.find_all('li')"
   ]
  },
  {
   "cell_type": "code",
   "execution_count": 15,
   "metadata": {},
   "outputs": [
    {
     "data": {
      "text/plain": [
       "[]"
      ]
     },
     "execution_count": 15,
     "metadata": {},
     "output_type": "execute_result"
    }
   ],
   "source": [
    "soup.find_all('li', class_='menu_item')"
   ]
  },
  {
   "cell_type": "code",
   "execution_count": 16,
   "metadata": {},
   "outputs": [],
   "source": [
    "li_tags=soup.find_all('li', class_=('menu_item'))"
   ]
  },
  {
   "cell_type": "code",
   "execution_count": 17,
   "metadata": {},
   "outputs": [
    {
     "data": {
      "text/plain": [
       "[<a class=\"skip-link screen-reader-text scroll-ignore\" href=\"#main\">Skip to content</a>,\n",
       " <a class=\"brand has-logo-image\" href=\"https://www.careerpointkenya.co.ke/\" rel=\"home\"><img alt=\"Career Point Kenya\" class=\"custom-logo br-lazy\" data-breeze=\"https://www.careerpointkenya.co.ke/wp-content/uploads/2024/02/careerpointkenya-logo.png\" data-brsizes=\"(max-width: 197px) 100vw, 197px\" data-brsrcset=\"https://www.careerpointkenya.co.ke/wp-content/uploads/2024/02/careerpointkenya-logo.png 197w, https://www.careerpointkenya.co.ke/wp-content/uploads/2024/02/careerpointkenya-logo-150x45.png 150w\" decoding=\"async\" height=\"59\" src=\"data:image/svg+xml;base64,PHN2ZyB4bWxucz0naHR0cDovL3d3dy53My5vcmcvMjAwMC9zdmcnIHZpZXdCb3g9JzAgMCAxOTcgNTknPjwvc3ZnPg==\" width=\"197\"/></a>,\n",
       " <a href=\"https://www.careerpointkenya.co.ke/\">Home</a>,\n",
       " <a href=\"https://www.careerpointkenya.co.ke/jobs/\">Latest Jobs</a>,\n",
       " <a href=\"https://www.careerpointkenya.co.ke/cv-writing-services-kenya/\">CV Writing</a>,\n",
       " <a aria-current=\"page\" href=\"https://www.careerpointkenya.co.ke/recruitment-agencies-kenya/\">Recruitment Firms</a>,\n",
       " <a href=\"https://www.careerpointkenya.co.ke/top-common-interview-questions-and-answers-in-kenya/\">Best Interview Answers</a>,\n",
       " <a href=\"https://www.careerpointkenya.co.ke/short-courses-in-kenya-best/\">New Short Courses</a>,\n",
       " <a href=\"https://www.careerpointkenya.co.ke/free-job-advertising/\">Free Job Posting</a>,\n",
       " <a class=\"button header-button button-size-medium button-style-filled\" href=\"https://www.careerpointkenya.co.ke/upload-your-cv/\" rel=\"noopener noreferrer\" target=\"_blank\">Upload Your CV</a>,\n",
       " <a class=\"brand has-logo-image\" href=\"https://www.careerpointkenya.co.ke/\" rel=\"home\"><img alt=\"Career Point Kenya\" class=\"custom-logo br-lazy\" data-breeze=\"https://www.careerpointkenya.co.ke/wp-content/uploads/2024/02/careerpointkenya-logo.png\" data-brsizes=\"(max-width: 197px) 100vw, 197px\" data-brsrcset=\"https://www.careerpointkenya.co.ke/wp-content/uploads/2024/02/careerpointkenya-logo.png 197w, https://www.careerpointkenya.co.ke/wp-content/uploads/2024/02/careerpointkenya-logo-150x45.png 150w\" decoding=\"async\" height=\"59\" src=\"data:image/svg+xml;base64,PHN2ZyB4bWxucz0naHR0cDovL3d3dy53My5vcmcvMjAwMC9zdmcnIHZpZXdCb3g9JzAgMCAxOTcgNTknPjwvc3ZnPg==\" width=\"197\"/></a>,\n",
       " <a class=\"kb-button kt-button button kb-btn779045_8a43db-e1 kt-btn-size-standard kt-btn-width-type-auto kb-btn-global-fill kt-btn-has-text-true kt-btn-has-svg-false wp-block-kadence-singlebtn\" href=\"https://www.careerpointkenya.co.ke/jobs/\"><span class=\"kt-btn-inner-text\">Browse Latest Jobs</span></a>,\n",
       " <a class=\"kb-button kt-button button kb-btn779045_99179f-18 kt-btn-size-standard kt-btn-width-type-auto kb-btn-global-fill kt-btn-has-text-true kt-btn-has-svg-false wp-block-kadence-singlebtn\" href=\"https://www.careerpointkenya.co.ke/free-job-advertising/\"><span class=\"kt-btn-inner-text\">Post A Free Job Advert</span></a>,\n",
       " <a class=\"kb-button kt-button button kb-btn779045_49c093-07 kt-btn-size-standard kt-btn-width-type-auto kb-btn-global-fill kt-btn-has-text-true kt-btn-has-svg-false wp-block-kadence-singlebtn\" href=\"https://www.careerpointkenya.co.ke/cv-writing-services-kenya/\"><span class=\"kt-btn-inner-text\">Professional CV Writing</span></a>,\n",
       " <a class=\"kb-button kt-button button kb-btn779045_56eb5f-48 kt-btn-size-standard kt-btn-width-type-auto kb-btn-global-fill kt-btn-has-text-true kt-btn-has-svg-false wp-block-kadence-singlebtn\" href=\"https://www.careerpointkenya.co.ke/upload-your-cv/\"><span class=\"kt-btn-inner-text\">Upload Your CV</span></a>,\n",
       " <a class=\"kb-button kt-button button kb-btn779045_5037d3-0c kt-btn-size-standard kt-btn-width-type-auto kb-btn-global-fill kt-btn-has-text-true kt-btn-has-svg-false wp-block-kadence-singlebtn\" href=\"https://www.careerpointkenya.co.ke/top-common-interview-questions-and-answers-in-kenya/\"><span class=\"kt-btn-inner-text\">Job Interview Answers</span></a>,\n",
       " <a class=\"kb-button kt-button button kb-btn779045_2ccea3-a8 kt-btn-size-standard kt-btn-width-type-auto kb-btn-global-fill kt-btn-has-text-true kt-btn-has-svg-false wp-block-kadence-singlebtn\" href=\"https://www.careerpointkenya.co.ke/short-courses-in-kenya-best/\"><span class=\"kt-btn-inner-text\">Top Short Courses</span></a>,\n",
       " <a href=\"http://www.corporatestaffing.co.ke/\" rel=\"noopener noreferrer\" target=\"_blank\">Recruitment Agencies in Kenya</a>,\n",
       " <a href=\"https://www.corporatestaffing.co.ke/\" rel=\"noopener noreferrer\" target=\"_blank\">Click here to visit their recruitment website.</a>,\n",
       " <a href=\"https://www.corporatestaffing.co.ke/cc/register-your-cv-for-free/\" rel=\"noopener noreferrer\" target=\"_blank\">Register your CV here</a>,\n",
       " <a href=\"http://www.corporatestaffing.co.ke/\" rel=\"noopener noreferrer\" target=\"_blank\">www.corporatestaffing.co.ke</a>,\n",
       " <a href=\"https://www.careerpointkenya.co.ke/upload-your-cv/\">Click Here To Register Your CV</a>,\n",
       " <a href=\"https://www.careerpointkenya.co.ke/2024/06/14/how-can-employees-remain-relevant-amid-an-ai-revolution/\" rel=\"bookmark\">How Can Employees Remain Relevant Amid an AI Revolution</a>,\n",
       " <a href=\"https://www.careerpointkenya.co.ke/2024/06/13/how-pmp-certification-will-take-your-career-to-the-next-level/\" rel=\"bookmark\">How PMP Certification Will Take Your Career To The Next Level.</a>,\n",
       " <a href=\"https://www.careerpointkenya.co.ke/2024/06/13/signs-your-cv-needs-a-review-from-experts/\" rel=\"bookmark\">5 Signs Your CV Needs a Review from Experts</a>,\n",
       " <a class=\"wp-block-navigation-item__content\" href=\"https://www.careerpointkenya.co.ke/category/accounting-jobs-in-kenya/\" title=\"Accounting Jobs\"><span class=\"wp-block-navigation-item__label\">Accounting Jobs</span></a>,\n",
       " <a class=\"wp-block-navigation-item__content\" href=\"https://www.careerpointkenya.co.ke/category/administration-jobs-in-kenya/\" title=\"Administration Jobs\"><span class=\"wp-block-navigation-item__label\">Administration Jobs</span></a>,\n",
       " <a class=\"wp-block-navigation-item__content\" href=\"https://www.careerpointkenya.co.ke/category/banking-jobs-in-kenya/\" title=\"Banking Jobs\"><span class=\"wp-block-navigation-item__label\">Banking Jobs</span></a>,\n",
       " <a class=\"wp-block-navigation-item__content\" href=\"https://www.careerpointkenya.co.ke/category/customer-service-jobs-in-kenya/\" title=\"Customer Service Jobs\"><span class=\"wp-block-navigation-item__label\">Customer Service Jobs</span></a>,\n",
       " <a class=\"wp-block-navigation-item__content\" href=\"https://www.careerpointkenya.co.ke/category/driver-jobs-in-kenya/\" title=\"Driver Jobs\"><span class=\"wp-block-navigation-item__label\">Driver Jobs</span></a>,\n",
       " <a class=\"wp-block-navigation-item__content\" href=\"https://www.careerpointkenya.co.ke/category/engineering-jobs-in-kenya/\" title=\"Driver Jobs\"><span class=\"wp-block-navigation-item__label\">Engineering Jobs</span></a>,\n",
       " <a class=\"wp-block-navigation-item__content\" href=\"https://www.careerpointkenya.co.ke/category/hr-jobs-in-kenya/\" title=\"HR Jobs\"><span class=\"wp-block-navigation-item__label\">HR Jobs</span></a>,\n",
       " <a class=\"wp-block-navigation-item__content\" href=\"https://www.careerpointkenya.co.ke/category/internships-in-kenya/\"><span class=\"wp-block-navigation-item__label\">Internships Jobs</span></a>,\n",
       " <a class=\"wp-block-navigation-item__content\" href=\"https://www.careerpointkenya.co.ke/category/it-jobs-in-kenya/\" title=\"IT Jobs\"><span class=\"wp-block-navigation-item__label\">IT Jobs</span></a>,\n",
       " <a class=\"wp-block-navigation-item__content\" href=\"https://www.careerpointkenya.co.ke/category/legal-jobs-in-kenya/\" title=\"Legal Jobs\"><span class=\"wp-block-navigation-item__label\">Legal Jobs</span></a>,\n",
       " <a class=\"wp-block-navigation-item__content\" href=\"https://www.careerpointkenya.co.ke/category/ngo-jobs-in-kenya/\" title=\"NGO Jobs\"><span class=\"wp-block-navigation-item__label\">NGO Jobs</span></a>,\n",
       " <a class=\"wp-block-navigation-item__content\" href=\"https://www.careerpointkenya.co.ke/category/nursing-jobs-in-kenya/\" title=\"Nursing Jobs\"><span class=\"wp-block-navigation-item__label\">Nursing Jobs</span></a>,\n",
       " <a class=\"wp-block-navigation-item__content\" href=\"https://www.careerpointkenya.co.ke/category/procurement-jobs-in-kenya/\" title=\"Procurement Jobs\"><span class=\"wp-block-navigation-item__label\">Procurement Jobs</span></a>,\n",
       " <a class=\"wp-block-navigation-item__content\" href=\"https://www.careerpointkenya.co.ke/category/security-jobs-in-kenya/\" title=\"Security Jobs\"><span class=\"wp-block-navigation-item__label\">Security Jobs</span></a>,\n",
       " <a class=\"wp-block-navigation-item__content\" href=\"https://www.careerpointkenya.co.ke/category/teaching-jobs-in-kenya/\" title=\"Teaching Jobs\"><span class=\"wp-block-navigation-item__label\">Teaching Jobs</span></a>,\n",
       " <a class=\"wp-block-navigation-item__content\" href=\"https://www.careerpointkenya.co.ke/category/agricultural-jobs-in-kenya/\"><span class=\"wp-block-navigation-item__label\">Agricultural Jobs</span></a>,\n",
       " <a class=\"wp-block-navigation-item__content\" href=\"https://www.careerpointkenya.co.ke/category/airline-jobs-in-kenya/\"><span class=\"wp-block-navigation-item__label\">Airline Jobs</span></a>,\n",
       " <a class=\"wp-block-navigation-item__content\" href=\"https://www.careerpointkenya.co.ke/category/audit-jobs-in-kenya/\"><span class=\"wp-block-navigation-item__label\">Audit Jobs</span></a>,\n",
       " <a class=\"wp-block-navigation-item__content\" href=\"https://www.careerpointkenya.co.ke/category/communication-jobs-in-kenya/\"><span class=\"wp-block-navigation-item__label\">Communication Jobs</span></a>,\n",
       " <a class=\"wp-block-navigation-item__content\" href=\"https://www.careerpointkenya.co.ke/category/credit-control-jobs-in-kenya/\"><span class=\"wp-block-navigation-item__label\">Credit Control Jobs</span></a>,\n",
       " <a class=\"wp-block-navigation-item__content\" href=\"https://www.careerpointkenya.co.ke/category/finance-jobs-in-kenya/\"><span class=\"wp-block-navigation-item__label\">Finance Jobs</span></a>,\n",
       " <a class=\"wp-block-navigation-item__content\" href=\"https://www.careerpointkenya.co.ke/category/hotel-jobs-in-kenya/\"><span class=\"wp-block-navigation-item__label\">Hotel Jobs</span></a>,\n",
       " <a class=\"wp-block-navigation-item__content\" href=\"https://www.careerpointkenya.co.ke/category/insurance-jobs-in-kenya/\"><span class=\"wp-block-navigation-item__label\">Insurance Jobs</span></a>,\n",
       " <a class=\"wp-block-navigation-item__content\" href=\"https://www.careerpointkenya.co.ke/category/media-jobs-in-kenya/\"><span class=\"wp-block-navigation-item__label\">Media Jobs</span></a>,\n",
       " <a class=\"wp-block-navigation-item__content\" href=\"https://www.careerpointkenya.co.ke/category/nursing-jobs-in-kenya/\"><span class=\"wp-block-navigation-item__label\">Nursing Jobs</span></a>,\n",
       " <a class=\"wp-block-navigation-item__content\" href=\"https://www.careerpointkenya.co.ke/category/sales-and-marketing-jobs-in-kenya/\"><span class=\"wp-block-navigation-item__label\">Sales &amp; Marketing Jobs</span></a>,\n",
       " <a class=\"wp-block-navigation-item__content\" href=\"https://www.careerpointkenya.co.ke/category/librarian-jobs-in-kenya/\"><span class=\"wp-block-navigation-item__label\">Librarian Jobs</span></a>,\n",
       " <a class=\"wp-block-navigation-item__content\" href=\"https://www.careerpointkenya.co.ke/category/logistics-jobs-in-kenya/\"><span class=\"wp-block-navigation-item__label\">Logistics Jobs</span></a>,\n",
       " <a class=\"wp-block-navigation-item__content\" href=\"https://www.careerpointkenya.co.ke/category/nutrition-jobs-in-kenya/\"><span class=\"wp-block-navigation-item__label\">Nutrition Jobs</span></a>,\n",
       " <a class=\"wp-block-navigation-item__content\" href=\"https://www.careerpointkenya.co.ke/category/parastatal-jobs-in-kenya/\"><span class=\"wp-block-navigation-item__label\">Parastatal Jobs</span></a>,\n",
       " <a class=\"wp-block-navigation-item__content\" href=\"https://www.careerpointkenya.co.ke/category/public-health-jobs-in-kenya/\"><span class=\"wp-block-navigation-item__label\">Public Health Jobs</span></a>,\n",
       " <a class=\"wp-block-navigation-item__content\" href=\"https://www.careerpointkenya.co.ke/category/public-relations-jobs-in-kenya/\"><span class=\"wp-block-navigation-item__label\">Public Relations Jobs</span></a>,\n",
       " <a class=\"wp-block-navigation-item__content\" href=\"https://www.careerpointkenya.co.ke/category/quantity-surveyor-jobs-in-kenya/\"><span class=\"wp-block-navigation-item__label\">Quantity Surveyor Jobs</span></a>,\n",
       " <a class=\"wp-block-navigation-item__content\" href=\"https://www.careerpointkenya.co.ke/category/social-work-jobs-in-kenya/\"><span class=\"wp-block-navigation-item__label\">Social Work Jobs</span></a>,\n",
       " <a class=\"wp-block-navigation-item__content\" href=\"https://www.careerpointkenya.co.ke/category/supply-chain-jobs-in-kenya/\"><span class=\"wp-block-navigation-item__label\">Supply Chain Jobs</span></a>,\n",
       " <a class=\"wp-block-navigation-item__content\" href=\"https://www.careerpointkenya.co.ke/category/tours-travel-jobs-in-kenya/\"><span class=\"wp-block-navigation-item__label\">Tours Travel Jobs</span></a>,\n",
       " <a class=\"wp-block-navigation-item__content\" href=\"https://www.corporatestaffing.co.ke/training/public-speaking-training-kenya/\"><span class=\"wp-block-navigation-item__label\">Public Speaking Course</span></a>,\n",
       " <a class=\"wp-block-navigation-item__content\" href=\"https://www.corporatestaffing.co.ke/training/project-management-course-in-kenya/\"><span class=\"wp-block-navigation-item__label\">Project Management Training</span></a>,\n",
       " <a class=\"wp-block-navigation-item__content\" href=\"https://www.corporatestaffing.co.ke/training/pmp-exam-course/\"><span class=\"wp-block-navigation-item__label\">PMP Course</span></a>,\n",
       " <a class=\"wp-block-navigation-item__content\" href=\"https://www.corporatestaffing.co.ke/training/monitoring-and-evaluation-course/\"><span class=\"wp-block-navigation-item__label\">Monitoring &amp; Evaluation Class</span></a>,\n",
       " <a class=\"wp-block-navigation-item__content\" href=\"https://www.corporatestaffing.co.ke/training/advanced-excel-training-nairobi/\"><span class=\"wp-block-navigation-item__label\">Advanced Excel Lessons</span></a>,\n",
       " <a class=\"wp-block-navigation-item__content\" href=\"https://www.corporatestaffing.co.ke/training/digital-marketing-course-in-kenya/\"><span class=\"wp-block-navigation-item__label\">Digital Marketing Course</span></a>,\n",
       " <a class=\"wp-block-navigation-item__content\" href=\"https://www.corporatestaffing.co.ke/training/hr-jobs-2020/\"><span class=\"wp-block-navigation-item__label\">Practical HR Skills Training</span></a>,\n",
       " <a class=\"wp-block-navigation-item__content\" href=\"https://www.corporatestaffing.co.ke/training/certificate-in-hr-management/\"><span class=\"wp-block-navigation-item__label\">Certificate In HR Management Course</span></a>,\n",
       " <a class=\"wp-block-navigation-item__content\" href=\"https://www.corporatestaffing.co.ke/training/leadership-course-in-kenya/\"><span class=\"wp-block-navigation-item__label\">Leadership &amp; Management Development Training</span></a>,\n",
       " <a class=\"wp-block-navigation-item__content\" href=\"https://www.corporatestaffing.co.ke/training/quickbooks-training-in-kenya/\"><span class=\"wp-block-navigation-item__label\">Master QuickBooks &amp; Filing Taxes Class</span></a>,\n",
       " <a class=\"wp-block-navigation-item__content\" href=\"https://www.corporatestaffing.co.ke/training/train-the-trainer-tot-course/\"><span class=\"wp-block-navigation-item__label\">Training of Trainers Class</span></a>,\n",
       " <a class=\"wp-block-navigation-item__content\" href=\"https://www.corporatestaffing.co.ke/training/customer-service-course-certificate/\"><span class=\"wp-block-navigation-item__label\">Customer Service Training</span></a>,\n",
       " <a class=\"wp-block-navigation-item__content\" href=\"https://www.corporatestaffing.co.ke/training/certificate-in-graphic-design-course-in-kenya/\"><span class=\"wp-block-navigation-item__label\">Graphic Design Course</span></a>,\n",
       " <a class=\"wp-block-navigation-item__content\" href=\"https://www.corporatestaffing.co.ke/training/communication-skills-course/\"><span class=\"wp-block-navigation-item__label\">Communication Skills Class</span></a>,\n",
       " <a class=\"wp-block-navigation-item__content\" href=\"https://www.corporatestaffing.co.ke/training/emotional-intelligence-course/\"><span class=\"wp-block-navigation-item__label\">Emotional Intelligence Course</span></a>,\n",
       " <a class=\"wp-block-navigation-item__content\" href=\"https://www.corporatestaffing.co.ke/training/events-management-course-certificate/\"><span class=\"wp-block-navigation-item__label\">Events Planning Lessons</span></a>,\n",
       " <a class=\"wp-block-navigation-item__content\" href=\"https://www.corporatestaffing.co.ke/training/spss-training/\"><span class=\"wp-block-navigation-item__label\">SPSS Training</span></a>,\n",
       " <a href=\"https://www.careerpointkenya.co.ke/jobs/\">New Jobs</a>,\n",
       " <a href=\"https://www.careerpointkenya.co.ke/cv-writing-services-kenya/\">CV Writing</a>,\n",
       " <a href=\"https://www.careerpointkenya.co.ke/top-common-interview-questions-and-answers-in-kenya/\">Interview Q&amp;A</a>,\n",
       " <a href=\"https://www.careerpointkenya.co.ke/short-courses-in-kenya-best/\">Short Courses</a>,\n",
       " <a href=\"https://www.careerpointkenya.co.ke/free-job-advertising/\">Free Job Advertising</a>,\n",
       " <a aria-current=\"page\" href=\"https://www.careerpointkenya.co.ke/recruitment-agencies-kenya/\">Agencies Listing</a>,\n",
       " <a href=\"https://www.careerpointkenya.co.ke/privacy-policy/\" rel=\"privacy-policy\">Privacy Policy</a>,\n",
       " <a href=\"https://www.careerpointkenya.co.ke/\">Home</a>,\n",
       " <a href=\"https://www.careerpointkenya.co.ke/jobs/\">Latest Jobs</a>,\n",
       " <a href=\"https://www.careerpointkenya.co.ke/cv-writing-services-kenya/\">CV Writing</a>,\n",
       " <a aria-current=\"page\" href=\"https://www.careerpointkenya.co.ke/recruitment-agencies-kenya/\">Recruitment Firms</a>,\n",
       " <a href=\"https://www.careerpointkenya.co.ke/top-common-interview-questions-and-answers-in-kenya/\">Best Interview Answers</a>,\n",
       " <a href=\"https://www.careerpointkenya.co.ke/short-courses-in-kenya-best/\">New Short Courses</a>,\n",
       " <a href=\"https://www.careerpointkenya.co.ke/free-job-advertising/\">Free Job Posting</a>]"
      ]
     },
     "execution_count": 17,
     "metadata": {},
     "output_type": "execute_result"
    }
   ],
   "source": [
    "soup.find_all('a')"
   ]
  },
  {
   "cell_type": "code",
   "execution_count": 18,
   "metadata": {},
   "outputs": [],
   "source": [
    "tags=soup.find_all('li', class_='menu_item')"
   ]
  },
  {
   "cell_type": "code",
   "execution_count": 19,
   "metadata": {},
   "outputs": [],
   "source": [
    "names=[]\n",
    "for i in tags:\n",
    "    a_tag=i.find('a')\n",
    "    if a_tag:\n",
    "        names.append(a_tag)\n",
    "    else:\n",
    "        print('f' 'no a tag : {i}')"
   ]
  },
  {
   "cell_type": "code",
   "execution_count": 20,
   "metadata": {},
   "outputs": [],
   "source": [
    "for name in names:\n",
    "    print(name.text)"
   ]
  },
  {
   "cell_type": "code",
   "execution_count": 21,
   "metadata": {},
   "outputs": [],
   "source": [
    "for name in names:\n",
    "    print(name.text,name['href'])"
   ]
  },
  {
   "cell_type": "code",
   "execution_count": null,
   "metadata": {},
   "outputs": [],
   "source": []
  },
  {
   "cell_type": "code",
   "execution_count": 22,
   "metadata": {},
   "outputs": [],
   "source": [
    "url3=\"https://www.careerpointkenya.co.ke/free-job-advertising/\""
   ]
  },
  {
   "cell_type": "code",
   "execution_count": 23,
   "metadata": {},
   "outputs": [],
   "source": [
    "response=requests.get(url3)"
   ]
  },
  {
   "cell_type": "code",
   "execution_count": 24,
   "metadata": {},
   "outputs": [
    {
     "data": {
      "text/plain": [
       "200"
      ]
     },
     "execution_count": 24,
     "metadata": {},
     "output_type": "execute_result"
    }
   ],
   "source": [
    "response.status_code"
   ]
  },
  {
   "cell_type": "code",
   "execution_count": 25,
   "metadata": {},
   "outputs": [],
   "source": [
    "soup=BeautifulSoup(response.text, 'html.parser')"
   ]
  },
  {
   "cell_type": "code",
   "execution_count": 26,
   "metadata": {},
   "outputs": [
    {
     "data": {
      "text/plain": [
       "'Free Job Advertising In Kenya - Career Point Kenya'"
      ]
     },
     "execution_count": 26,
     "metadata": {},
     "output_type": "execute_result"
    }
   ],
   "source": [
    "soup.title.string"
   ]
  },
  {
   "cell_type": "code",
   "execution_count": 27,
   "metadata": {},
   "outputs": [
    {
     "data": {
      "text/plain": [
       "[<li class=\"menu-item menu-item-type-post_type menu-item-object-page menu-item-home menu-item-779105\" id=\"menu-item-779105\"><a href=\"https://www.careerpointkenya.co.ke/\">Home</a></li>,\n",
       " <li class=\"menu-item menu-item-type-post_type_archive menu-item-object-job menu-item-779040\" id=\"menu-item-779040\"><a href=\"https://www.careerpointkenya.co.ke/jobs/\">Latest Jobs</a></li>,\n",
       " <li class=\"menu-item menu-item-type-post_type menu-item-object-page menu-item-562955\" id=\"menu-item-562955\"><a href=\"https://www.careerpointkenya.co.ke/cv-writing-services-kenya/\">CV Writing</a></li>,\n",
       " <li class=\"menu-item menu-item-type-post_type menu-item-object-page menu-item-586395\" id=\"menu-item-586395\"><a href=\"https://www.careerpointkenya.co.ke/recruitment-agencies-kenya/\">Recruitment Firms</a></li>,\n",
       " <li class=\"menu-item menu-item-type-post_type menu-item-object-page menu-item-710363\" id=\"menu-item-710363\"><a href=\"https://www.careerpointkenya.co.ke/top-common-interview-questions-and-answers-in-kenya/\">Best Interview Answers</a></li>,\n",
       " <li class=\"menu-item menu-item-type-post_type menu-item-object-page menu-item-710364\" id=\"menu-item-710364\"><a href=\"https://www.careerpointkenya.co.ke/short-courses-in-kenya-best/\">New Short Courses</a></li>,\n",
       " <li class=\"menu-item menu-item-type-post_type menu-item-object-page current-menu-item page_item page-item-7 current_page_item menu-item-551359\" id=\"menu-item-551359\"><a aria-current=\"page\" href=\"https://www.careerpointkenya.co.ke/free-job-advertising/\">Free Job Posting</a></li>,\n",
       " <li class=\"choice-1 depth-1\"><input id=\"wpforms-576708-field_13_1\" name=\"wpforms[fields][13][]\" required=\"\" type=\"checkbox\" value=\"Job Advertising Only\"/><label class=\"wpforms-field-label-inline\" for=\"wpforms-576708-field_13_1\">Job Advertising Only</label></li>,\n",
       " <li class=\"choice-2 depth-1\"><input id=\"wpforms-576708-field_13_2\" name=\"wpforms[fields][13][]\" required=\"\" type=\"checkbox\" value=\"Job Advertising &amp; Shortlisting Service\"/><label class=\"wpforms-field-label-inline\" for=\"wpforms-576708-field_13_2\">Job Advertising &amp; Shortlisting Service</label></li>,\n",
       " <li class=\"choice-1 depth-1\"><input id=\"wpforms-576708-field_14_1\" name=\"wpforms[fields][14][]\" type=\"checkbox\" value=\"Mpesa BuyGoods - 89560\"/><label class=\"wpforms-field-label-inline\" for=\"wpforms-576708-field_14_1\">Mpesa BuyGoods – 89560</label></li>,\n",
       " <li class=\"choice-2 depth-1\"><input id=\"wpforms-576708-field_14_2\" name=\"wpforms[fields][14][]\" type=\"checkbox\" value=\"Bank Transfer\"/><label class=\"wpforms-field-label-inline\" for=\"wpforms-576708-field_14_2\">Bank Transfer</label></li>,\n",
       " <li class=\"wp-block-navigation-item wp-block-navigation-link\" style=\"font-size: 20px;\"><a class=\"wp-block-navigation-item__content\" href=\"https://www.careerpointkenya.co.ke/category/accounting-jobs-in-kenya/\" title=\"Accounting Jobs\"><span class=\"wp-block-navigation-item__label\">Accounting Jobs</span></a></li>,\n",
       " <li class=\"wp-block-navigation-item wp-block-navigation-link\" style=\"font-size: 20px;\"><a class=\"wp-block-navigation-item__content\" href=\"https://www.careerpointkenya.co.ke/category/administration-jobs-in-kenya/\" title=\"Administration Jobs\"><span class=\"wp-block-navigation-item__label\">Administration Jobs</span></a></li>,\n",
       " <li class=\"wp-block-navigation-item wp-block-navigation-link\" style=\"font-size: 20px;\"><a class=\"wp-block-navigation-item__content\" href=\"https://www.careerpointkenya.co.ke/category/banking-jobs-in-kenya/\" title=\"Banking Jobs\"><span class=\"wp-block-navigation-item__label\">Banking Jobs</span></a></li>,\n",
       " <li class=\"wp-block-navigation-item wp-block-navigation-link\" style=\"font-size: 20px;\"><a class=\"wp-block-navigation-item__content\" href=\"https://www.careerpointkenya.co.ke/category/customer-service-jobs-in-kenya/\" title=\"Customer Service Jobs\"><span class=\"wp-block-navigation-item__label\">Customer Service Jobs</span></a></li>,\n",
       " <li class=\"wp-block-navigation-item wp-block-navigation-link\" style=\"font-size: 20px;\"><a class=\"wp-block-navigation-item__content\" href=\"https://www.careerpointkenya.co.ke/category/driver-jobs-in-kenya/\" title=\"Driver Jobs\"><span class=\"wp-block-navigation-item__label\">Driver Jobs</span></a></li>,\n",
       " <li class=\"wp-block-navigation-item wp-block-navigation-link\" style=\"font-size: 20px;\"><a class=\"wp-block-navigation-item__content\" href=\"https://www.careerpointkenya.co.ke/category/engineering-jobs-in-kenya/\" title=\"Driver Jobs\"><span class=\"wp-block-navigation-item__label\">Engineering Jobs</span></a></li>,\n",
       " <li class=\"wp-block-navigation-item wp-block-navigation-link\" style=\"font-size: 20px;\"><a class=\"wp-block-navigation-item__content\" href=\"https://www.careerpointkenya.co.ke/category/hr-jobs-in-kenya/\" title=\"HR Jobs\"><span class=\"wp-block-navigation-item__label\">HR Jobs</span></a></li>,\n",
       " <li class=\"wp-block-navigation-item wp-block-navigation-link\" style=\"font-size: 20px;\"><a class=\"wp-block-navigation-item__content\" href=\"https://www.careerpointkenya.co.ke/category/internships-in-kenya/\"><span class=\"wp-block-navigation-item__label\">Internships Jobs</span></a></li>,\n",
       " <li class=\"wp-block-navigation-item wp-block-navigation-link\" style=\"font-size: 20px;\"><a class=\"wp-block-navigation-item__content\" href=\"https://www.careerpointkenya.co.ke/category/it-jobs-in-kenya/\" title=\"IT Jobs\"><span class=\"wp-block-navigation-item__label\">IT Jobs</span></a></li>,\n",
       " <li class=\"wp-block-navigation-item wp-block-navigation-link\" style=\"font-size: 20px;\"><a class=\"wp-block-navigation-item__content\" href=\"https://www.careerpointkenya.co.ke/category/legal-jobs-in-kenya/\" title=\"Legal Jobs\"><span class=\"wp-block-navigation-item__label\">Legal Jobs</span></a></li>,\n",
       " <li class=\"wp-block-navigation-item wp-block-navigation-link\" style=\"font-size: 20px;\"><a class=\"wp-block-navigation-item__content\" href=\"https://www.careerpointkenya.co.ke/category/ngo-jobs-in-kenya/\" title=\"NGO Jobs\"><span class=\"wp-block-navigation-item__label\">NGO Jobs</span></a></li>,\n",
       " <li class=\"wp-block-navigation-item wp-block-navigation-link\" style=\"font-size: 20px;\"><a class=\"wp-block-navigation-item__content\" href=\"https://www.careerpointkenya.co.ke/category/nursing-jobs-in-kenya/\" title=\"Nursing Jobs\"><span class=\"wp-block-navigation-item__label\">Nursing Jobs</span></a></li>,\n",
       " <li class=\"wp-block-navigation-item wp-block-navigation-link\" style=\"font-size: 20px;\"><a class=\"wp-block-navigation-item__content\" href=\"https://www.careerpointkenya.co.ke/category/procurement-jobs-in-kenya/\" title=\"Procurement Jobs\"><span class=\"wp-block-navigation-item__label\">Procurement Jobs</span></a></li>,\n",
       " <li class=\"wp-block-navigation-item wp-block-navigation-link\" style=\"font-size: 20px;\"><a class=\"wp-block-navigation-item__content\" href=\"https://www.careerpointkenya.co.ke/category/security-jobs-in-kenya/\" title=\"Security Jobs\"><span class=\"wp-block-navigation-item__label\">Security Jobs</span></a></li>,\n",
       " <li class=\"wp-block-navigation-item wp-block-navigation-link\" style=\"font-size: 20px;\"><a class=\"wp-block-navigation-item__content\" href=\"https://www.careerpointkenya.co.ke/category/teaching-jobs-in-kenya/\" title=\"Teaching Jobs\"><span class=\"wp-block-navigation-item__label\">Teaching Jobs</span></a></li>,\n",
       " <li class=\"wp-block-navigation-item wp-block-navigation-link\" style=\"font-size: 20px;\"><a class=\"wp-block-navigation-item__content\" href=\"https://www.careerpointkenya.co.ke/category/agricultural-jobs-in-kenya/\"><span class=\"wp-block-navigation-item__label\">Agricultural Jobs</span></a></li>,\n",
       " <li class=\"wp-block-navigation-item wp-block-navigation-link\" style=\"font-size: 20px;\"><a class=\"wp-block-navigation-item__content\" href=\"https://www.careerpointkenya.co.ke/category/airline-jobs-in-kenya/\"><span class=\"wp-block-navigation-item__label\">Airline Jobs</span></a></li>,\n",
       " <li class=\"wp-block-navigation-item wp-block-navigation-link\" style=\"font-size: 20px;\"><a class=\"wp-block-navigation-item__content\" href=\"https://www.careerpointkenya.co.ke/category/audit-jobs-in-kenya/\"><span class=\"wp-block-navigation-item__label\">Audit Jobs</span></a></li>,\n",
       " <li class=\"wp-block-navigation-item wp-block-navigation-link\" style=\"font-size: 20px;\"><a class=\"wp-block-navigation-item__content\" href=\"https://www.careerpointkenya.co.ke/category/communication-jobs-in-kenya/\"><span class=\"wp-block-navigation-item__label\">Communication Jobs</span></a></li>,\n",
       " <li class=\"wp-block-navigation-item wp-block-navigation-link\" style=\"font-size: 20px;\"><a class=\"wp-block-navigation-item__content\" href=\"https://www.careerpointkenya.co.ke/category/credit-control-jobs-in-kenya/\"><span class=\"wp-block-navigation-item__label\">Credit Control Jobs</span></a></li>,\n",
       " <li class=\"wp-block-navigation-item wp-block-navigation-link\" style=\"font-size: 20px;\"><a class=\"wp-block-navigation-item__content\" href=\"https://www.careerpointkenya.co.ke/category/finance-jobs-in-kenya/\"><span class=\"wp-block-navigation-item__label\">Finance Jobs</span></a></li>,\n",
       " <li class=\"wp-block-navigation-item wp-block-navigation-link\" style=\"font-size: 20px;\"><a class=\"wp-block-navigation-item__content\" href=\"https://www.careerpointkenya.co.ke/category/hotel-jobs-in-kenya/\"><span class=\"wp-block-navigation-item__label\">Hotel Jobs</span></a></li>,\n",
       " <li class=\"wp-block-navigation-item wp-block-navigation-link\" style=\"font-size: 20px;\"><a class=\"wp-block-navigation-item__content\" href=\"https://www.careerpointkenya.co.ke/category/insurance-jobs-in-kenya/\"><span class=\"wp-block-navigation-item__label\">Insurance Jobs</span></a></li>,\n",
       " <li class=\"wp-block-navigation-item wp-block-navigation-link\" style=\"font-size: 20px;\"><a class=\"wp-block-navigation-item__content\" href=\"https://www.careerpointkenya.co.ke/category/media-jobs-in-kenya/\"><span class=\"wp-block-navigation-item__label\">Media Jobs</span></a></li>,\n",
       " <li class=\"wp-block-navigation-item wp-block-navigation-link\" style=\"font-size: 20px;\"><a class=\"wp-block-navigation-item__content\" href=\"https://www.careerpointkenya.co.ke/category/nursing-jobs-in-kenya/\"><span class=\"wp-block-navigation-item__label\">Nursing Jobs</span></a></li>,\n",
       " <li class=\"wp-block-navigation-item wp-block-navigation-link\" style=\"font-size: 20px;\"><a class=\"wp-block-navigation-item__content\" href=\"https://www.careerpointkenya.co.ke/category/sales-and-marketing-jobs-in-kenya/\"><span class=\"wp-block-navigation-item__label\">Sales &amp; Marketing Jobs</span></a></li>,\n",
       " <li class=\"wp-block-navigation-item wp-block-navigation-link\" style=\"font-size: 20px;\"><a class=\"wp-block-navigation-item__content\" href=\"https://www.careerpointkenya.co.ke/category/librarian-jobs-in-kenya/\"><span class=\"wp-block-navigation-item__label\">Librarian Jobs</span></a></li>,\n",
       " <li class=\"wp-block-navigation-item wp-block-navigation-link\" style=\"font-size: 20px;\"><a class=\"wp-block-navigation-item__content\" href=\"https://www.careerpointkenya.co.ke/category/logistics-jobs-in-kenya/\"><span class=\"wp-block-navigation-item__label\">Logistics Jobs</span></a></li>,\n",
       " <li class=\"wp-block-navigation-item wp-block-navigation-link\" style=\"font-size: 20px;\"><a class=\"wp-block-navigation-item__content\" href=\"https://www.careerpointkenya.co.ke/category/nutrition-jobs-in-kenya/\"><span class=\"wp-block-navigation-item__label\">Nutrition Jobs</span></a></li>,\n",
       " <li class=\"wp-block-navigation-item wp-block-navigation-link\" style=\"font-size: 20px;\"><a class=\"wp-block-navigation-item__content\" href=\"https://www.careerpointkenya.co.ke/category/parastatal-jobs-in-kenya/\"><span class=\"wp-block-navigation-item__label\">Parastatal Jobs</span></a></li>,\n",
       " <li class=\"wp-block-navigation-item wp-block-navigation-link\" style=\"font-size: 20px;\"><a class=\"wp-block-navigation-item__content\" href=\"https://www.careerpointkenya.co.ke/category/public-health-jobs-in-kenya/\"><span class=\"wp-block-navigation-item__label\">Public Health Jobs</span></a></li>,\n",
       " <li class=\"wp-block-navigation-item wp-block-navigation-link\" style=\"font-size: 20px;\"><a class=\"wp-block-navigation-item__content\" href=\"https://www.careerpointkenya.co.ke/category/public-relations-jobs-in-kenya/\"><span class=\"wp-block-navigation-item__label\">Public Relations Jobs</span></a></li>,\n",
       " <li class=\"wp-block-navigation-item wp-block-navigation-link\" style=\"font-size: 20px;\"><a class=\"wp-block-navigation-item__content\" href=\"https://www.careerpointkenya.co.ke/category/quantity-surveyor-jobs-in-kenya/\"><span class=\"wp-block-navigation-item__label\">Quantity Surveyor Jobs</span></a></li>,\n",
       " <li class=\"wp-block-navigation-item wp-block-navigation-link\" style=\"font-size: 20px;\"><a class=\"wp-block-navigation-item__content\" href=\"https://www.careerpointkenya.co.ke/category/social-work-jobs-in-kenya/\"><span class=\"wp-block-navigation-item__label\">Social Work Jobs</span></a></li>,\n",
       " <li class=\"wp-block-navigation-item wp-block-navigation-link\" style=\"font-size: 20px;\"><a class=\"wp-block-navigation-item__content\" href=\"https://www.careerpointkenya.co.ke/category/supply-chain-jobs-in-kenya/\"><span class=\"wp-block-navigation-item__label\">Supply Chain Jobs</span></a></li>,\n",
       " <li class=\"wp-block-navigation-item wp-block-navigation-link\" style=\"font-size: 20px;\"><a class=\"wp-block-navigation-item__content\" href=\"https://www.careerpointkenya.co.ke/category/tours-travel-jobs-in-kenya/\"><span class=\"wp-block-navigation-item__label\">Tours Travel Jobs</span></a></li>,\n",
       " <li class=\"wp-block-navigation-item wp-block-navigation-link\" style=\"font-size: 20px;\"><a class=\"wp-block-navigation-item__content\" href=\"https://www.corporatestaffing.co.ke/training/public-speaking-training-kenya/\"><span class=\"wp-block-navigation-item__label\">Public Speaking Course</span></a></li>,\n",
       " <li class=\"wp-block-navigation-item wp-block-navigation-link\" style=\"font-size: 20px;\"><a class=\"wp-block-navigation-item__content\" href=\"https://www.corporatestaffing.co.ke/training/project-management-course-in-kenya/\"><span class=\"wp-block-navigation-item__label\">Project Management Training</span></a></li>,\n",
       " <li class=\"wp-block-navigation-item wp-block-navigation-link\" style=\"font-size: 20px;\"><a class=\"wp-block-navigation-item__content\" href=\"https://www.corporatestaffing.co.ke/training/pmp-exam-course/\"><span class=\"wp-block-navigation-item__label\">PMP Course</span></a></li>,\n",
       " <li class=\"wp-block-navigation-item wp-block-navigation-link\" style=\"font-size: 20px;\"><a class=\"wp-block-navigation-item__content\" href=\"https://www.corporatestaffing.co.ke/training/monitoring-and-evaluation-course/\"><span class=\"wp-block-navigation-item__label\">Monitoring &amp; Evaluation Class</span></a></li>,\n",
       " <li class=\"wp-block-navigation-item wp-block-navigation-link\" style=\"font-size: 20px;\"><a class=\"wp-block-navigation-item__content\" href=\"https://www.corporatestaffing.co.ke/training/advanced-excel-training-nairobi/\"><span class=\"wp-block-navigation-item__label\">Advanced Excel Lessons</span></a></li>,\n",
       " <li class=\"wp-block-navigation-item wp-block-navigation-link\" style=\"font-size: 20px;\"><a class=\"wp-block-navigation-item__content\" href=\"https://www.corporatestaffing.co.ke/training/digital-marketing-course-in-kenya/\"><span class=\"wp-block-navigation-item__label\">Digital Marketing Course</span></a></li>,\n",
       " <li class=\"wp-block-navigation-item wp-block-navigation-link\" style=\"font-size: 20px;\"><a class=\"wp-block-navigation-item__content\" href=\"https://www.corporatestaffing.co.ke/training/hr-jobs-2020/\"><span class=\"wp-block-navigation-item__label\">Practical HR Skills Training</span></a></li>,\n",
       " <li class=\"wp-block-navigation-item wp-block-navigation-link\" style=\"font-size: 20px;\"><a class=\"wp-block-navigation-item__content\" href=\"https://www.corporatestaffing.co.ke/training/certificate-in-hr-management/\"><span class=\"wp-block-navigation-item__label\">Certificate In HR Management Course</span></a></li>,\n",
       " <li class=\"wp-block-navigation-item wp-block-navigation-link\" style=\"font-size: 20px;\"><a class=\"wp-block-navigation-item__content\" href=\"https://www.corporatestaffing.co.ke/training/leadership-course-in-kenya/\"><span class=\"wp-block-navigation-item__label\">Leadership &amp; Management Development Training</span></a></li>,\n",
       " <li class=\"wp-block-navigation-item wp-block-navigation-link\" style=\"font-size: 20px;\"><a class=\"wp-block-navigation-item__content\" href=\"https://www.corporatestaffing.co.ke/training/quickbooks-training-in-kenya/\"><span class=\"wp-block-navigation-item__label\">Master QuickBooks &amp; Filing Taxes Class</span></a></li>,\n",
       " <li class=\"wp-block-navigation-item wp-block-navigation-link\" style=\"font-size: 20px;\"><a class=\"wp-block-navigation-item__content\" href=\"https://www.corporatestaffing.co.ke/training/train-the-trainer-tot-course/\"><span class=\"wp-block-navigation-item__label\">Training of Trainers Class</span></a></li>,\n",
       " <li class=\"wp-block-navigation-item wp-block-navigation-link\" style=\"font-size: 20px;\"><a class=\"wp-block-navigation-item__content\" href=\"https://www.corporatestaffing.co.ke/training/customer-service-course-certificate/\"><span class=\"wp-block-navigation-item__label\">Customer Service Training</span></a></li>,\n",
       " <li class=\"wp-block-navigation-item wp-block-navigation-link\" style=\"font-size: 20px;\"><a class=\"wp-block-navigation-item__content\" href=\"https://www.corporatestaffing.co.ke/training/certificate-in-graphic-design-course-in-kenya/\"><span class=\"wp-block-navigation-item__label\">Graphic Design Course</span></a></li>,\n",
       " <li class=\"wp-block-navigation-item wp-block-navigation-link\" style=\"font-size: 20px;\"><a class=\"wp-block-navigation-item__content\" href=\"https://www.corporatestaffing.co.ke/training/communication-skills-course/\"><span class=\"wp-block-navigation-item__label\">Communication Skills Class</span></a></li>,\n",
       " <li class=\"wp-block-navigation-item wp-block-navigation-link\" style=\"font-size: 20px;\"><a class=\"wp-block-navigation-item__content\" href=\"https://www.corporatestaffing.co.ke/training/emotional-intelligence-course/\"><span class=\"wp-block-navigation-item__label\">Emotional Intelligence Course</span></a></li>,\n",
       " <li class=\"wp-block-navigation-item wp-block-navigation-link\" style=\"font-size: 20px;\"><a class=\"wp-block-navigation-item__content\" href=\"https://www.corporatestaffing.co.ke/training/events-management-course-certificate/\"><span class=\"wp-block-navigation-item__label\">Events Planning Lessons</span></a></li>,\n",
       " <li class=\"wp-block-navigation-item wp-block-navigation-link\" style=\"font-size: 20px;\"><a class=\"wp-block-navigation-item__content\" href=\"https://www.corporatestaffing.co.ke/training/spss-training/\"><span class=\"wp-block-navigation-item__label\">SPSS Training</span></a></li>,\n",
       " <li class=\"menu-item menu-item-type-post_type menu-item-object-page menu-item-779036\" id=\"menu-item-779036\"><a href=\"https://www.careerpointkenya.co.ke/jobs/\">New Jobs</a></li>,\n",
       " <li class=\"menu-item menu-item-type-post_type menu-item-object-page menu-item-779037\" id=\"menu-item-779037\"><a href=\"https://www.careerpointkenya.co.ke/cv-writing-services-kenya/\">CV Writing</a></li>,\n",
       " <li class=\"menu-item menu-item-type-post_type menu-item-object-page menu-item-779038\" id=\"menu-item-779038\"><a href=\"https://www.careerpointkenya.co.ke/top-common-interview-questions-and-answers-in-kenya/\">Interview Q&amp;A</a></li>,\n",
       " <li class=\"menu-item menu-item-type-post_type menu-item-object-page menu-item-779035\" id=\"menu-item-779035\"><a href=\"https://www.careerpointkenya.co.ke/short-courses-in-kenya-best/\">Short Courses</a></li>,\n",
       " <li class=\"menu-item menu-item-type-post_type menu-item-object-page current-menu-item page_item page-item-7 current_page_item menu-item-779033\" id=\"menu-item-779033\"><a aria-current=\"page\" href=\"https://www.careerpointkenya.co.ke/free-job-advertising/\">Free Job Advertising</a></li>,\n",
       " <li class=\"menu-item menu-item-type-post_type menu-item-object-page menu-item-779034\" id=\"menu-item-779034\"><a href=\"https://www.careerpointkenya.co.ke/recruitment-agencies-kenya/\">Agencies Listing</a></li>,\n",
       " <li class=\"menu-item menu-item-type-post_type menu-item-object-page menu-item-privacy-policy menu-item-781681\" id=\"menu-item-781681\"><a href=\"https://www.careerpointkenya.co.ke/privacy-policy/\" rel=\"privacy-policy\">Privacy Policy</a></li>,\n",
       " <li class=\"menu-item menu-item-type-post_type menu-item-object-page menu-item-home menu-item-779105\"><a href=\"https://www.careerpointkenya.co.ke/\">Home</a></li>,\n",
       " <li class=\"menu-item menu-item-type-post_type_archive menu-item-object-job menu-item-779040\"><a href=\"https://www.careerpointkenya.co.ke/jobs/\">Latest Jobs</a></li>,\n",
       " <li class=\"menu-item menu-item-type-post_type menu-item-object-page menu-item-562955\"><a href=\"https://www.careerpointkenya.co.ke/cv-writing-services-kenya/\">CV Writing</a></li>,\n",
       " <li class=\"menu-item menu-item-type-post_type menu-item-object-page menu-item-586395\"><a href=\"https://www.careerpointkenya.co.ke/recruitment-agencies-kenya/\">Recruitment Firms</a></li>,\n",
       " <li class=\"menu-item menu-item-type-post_type menu-item-object-page menu-item-710363\"><a href=\"https://www.careerpointkenya.co.ke/top-common-interview-questions-and-answers-in-kenya/\">Best Interview Answers</a></li>,\n",
       " <li class=\"menu-item menu-item-type-post_type menu-item-object-page menu-item-710364\"><a href=\"https://www.careerpointkenya.co.ke/short-courses-in-kenya-best/\">New Short Courses</a></li>,\n",
       " <li class=\"menu-item menu-item-type-post_type menu-item-object-page current-menu-item page_item page-item-7 current_page_item menu-item-551359\"><a aria-current=\"page\" href=\"https://www.careerpointkenya.co.ke/free-job-advertising/\">Free Job Posting</a></li>]"
      ]
     },
     "execution_count": 27,
     "metadata": {},
     "output_type": "execute_result"
    }
   ],
   "source": [
    "soup.find_all('li')"
   ]
  },
  {
   "cell_type": "code",
   "execution_count": 28,
   "metadata": {},
   "outputs": [
    {
     "data": {
      "text/plain": [
       "[]"
      ]
     },
     "execution_count": 28,
     "metadata": {},
     "output_type": "execute_result"
    }
   ],
   "source": [
    "soup.find_all('li', class_='menu_item')"
   ]
  },
  {
   "cell_type": "code",
   "execution_count": 29,
   "metadata": {},
   "outputs": [],
   "source": [
    "li_tags=soup.find_all('li', class_='menu_item')"
   ]
  },
  {
   "cell_type": "code",
   "execution_count": 30,
   "metadata": {},
   "outputs": [
    {
     "data": {
      "text/plain": [
       "[<a class=\"skip-link screen-reader-text scroll-ignore\" href=\"#main\">Skip to content</a>,\n",
       " <a class=\"brand has-logo-image\" href=\"https://www.careerpointkenya.co.ke/\" rel=\"home\"><img alt=\"Career Point Kenya\" class=\"custom-logo br-lazy\" data-breeze=\"https://www.careerpointkenya.co.ke/wp-content/uploads/2024/02/careerpointkenya-logo.png\" data-brsizes=\"(max-width: 197px) 100vw, 197px\" data-brsrcset=\"https://www.careerpointkenya.co.ke/wp-content/uploads/2024/02/careerpointkenya-logo.png 197w, https://www.careerpointkenya.co.ke/wp-content/uploads/2024/02/careerpointkenya-logo-150x45.png 150w\" decoding=\"async\" height=\"59\" src=\"data:image/svg+xml;base64,PHN2ZyB4bWxucz0naHR0cDovL3d3dy53My5vcmcvMjAwMC9zdmcnIHZpZXdCb3g9JzAgMCAxOTcgNTknPjwvc3ZnPg==\" width=\"197\"/></a>,\n",
       " <a href=\"https://www.careerpointkenya.co.ke/\">Home</a>,\n",
       " <a href=\"https://www.careerpointkenya.co.ke/jobs/\">Latest Jobs</a>,\n",
       " <a href=\"https://www.careerpointkenya.co.ke/cv-writing-services-kenya/\">CV Writing</a>,\n",
       " <a href=\"https://www.careerpointkenya.co.ke/recruitment-agencies-kenya/\">Recruitment Firms</a>,\n",
       " <a href=\"https://www.careerpointkenya.co.ke/top-common-interview-questions-and-answers-in-kenya/\">Best Interview Answers</a>,\n",
       " <a href=\"https://www.careerpointkenya.co.ke/short-courses-in-kenya-best/\">New Short Courses</a>,\n",
       " <a aria-current=\"page\" href=\"https://www.careerpointkenya.co.ke/free-job-advertising/\">Free Job Posting</a>,\n",
       " <a class=\"button header-button button-size-medium button-style-filled\" href=\"https://www.careerpointkenya.co.ke/upload-your-cv/\" rel=\"noopener noreferrer\" target=\"_blank\">Upload Your CV</a>,\n",
       " <a class=\"brand has-logo-image\" href=\"https://www.careerpointkenya.co.ke/\" rel=\"home\"><img alt=\"Career Point Kenya\" class=\"custom-logo br-lazy\" data-breeze=\"https://www.careerpointkenya.co.ke/wp-content/uploads/2024/02/careerpointkenya-logo.png\" data-brsizes=\"(max-width: 197px) 100vw, 197px\" data-brsrcset=\"https://www.careerpointkenya.co.ke/wp-content/uploads/2024/02/careerpointkenya-logo.png 197w, https://www.careerpointkenya.co.ke/wp-content/uploads/2024/02/careerpointkenya-logo-150x45.png 150w\" decoding=\"async\" height=\"59\" src=\"data:image/svg+xml;base64,PHN2ZyB4bWxucz0naHR0cDovL3d3dy53My5vcmcvMjAwMC9zdmcnIHZpZXdCb3g9JzAgMCAxOTcgNTknPjwvc3ZnPg==\" width=\"197\"/></a>,\n",
       " <a class=\"kb-button kt-button button kb-btn779045_8a43db-e1 kt-btn-size-standard kt-btn-width-type-auto kb-btn-global-fill kt-btn-has-text-true kt-btn-has-svg-false wp-block-kadence-singlebtn\" href=\"https://www.careerpointkenya.co.ke/jobs/\"><span class=\"kt-btn-inner-text\">Browse Latest Jobs</span></a>,\n",
       " <a class=\"kb-button kt-button button kb-btn779045_99179f-18 kt-btn-size-standard kt-btn-width-type-auto kb-btn-global-fill kt-btn-has-text-true kt-btn-has-svg-false wp-block-kadence-singlebtn\" href=\"https://www.careerpointkenya.co.ke/free-job-advertising/\"><span class=\"kt-btn-inner-text\">Post A Free Job Advert</span></a>,\n",
       " <a class=\"kb-button kt-button button kb-btn779045_49c093-07 kt-btn-size-standard kt-btn-width-type-auto kb-btn-global-fill kt-btn-has-text-true kt-btn-has-svg-false wp-block-kadence-singlebtn\" href=\"https://www.careerpointkenya.co.ke/cv-writing-services-kenya/\"><span class=\"kt-btn-inner-text\">Professional CV Writing</span></a>,\n",
       " <a class=\"kb-button kt-button button kb-btn779045_56eb5f-48 kt-btn-size-standard kt-btn-width-type-auto kb-btn-global-fill kt-btn-has-text-true kt-btn-has-svg-false wp-block-kadence-singlebtn\" href=\"https://www.careerpointkenya.co.ke/upload-your-cv/\"><span class=\"kt-btn-inner-text\">Upload Your CV</span></a>,\n",
       " <a class=\"kb-button kt-button button kb-btn779045_5037d3-0c kt-btn-size-standard kt-btn-width-type-auto kb-btn-global-fill kt-btn-has-text-true kt-btn-has-svg-false wp-block-kadence-singlebtn\" href=\"https://www.careerpointkenya.co.ke/top-common-interview-questions-and-answers-in-kenya/\"><span class=\"kt-btn-inner-text\">Job Interview Answers</span></a>,\n",
       " <a class=\"kb-button kt-button button kb-btn779045_2ccea3-a8 kt-btn-size-standard kt-btn-width-type-auto kb-btn-global-fill kt-btn-has-text-true kt-btn-has-svg-false wp-block-kadence-singlebtn\" href=\"https://www.careerpointkenya.co.ke/short-courses-in-kenya-best/\"><span class=\"kt-btn-inner-text\">Top Short Courses</span></a>,\n",
       " <a href=\"https://www.corporatestaffing.co.ke/em/recruitment-agencies-in-kenya-2020/\" rel=\"noopener noreferrer\" target=\"_blank\">executive recruitment service.</a>,\n",
       " <a href=\"https://www.careerpointkenya.co.ke/upload-your-cv/\">Click Here To Register Your CV</a>,\n",
       " <a href=\"https://www.careerpointkenya.co.ke/2024/06/14/how-can-employees-remain-relevant-amid-an-ai-revolution/\" rel=\"bookmark\">How Can Employees Remain Relevant Amid an AI Revolution</a>,\n",
       " <a href=\"https://www.careerpointkenya.co.ke/2024/06/13/how-pmp-certification-will-take-your-career-to-the-next-level/\" rel=\"bookmark\">How PMP Certification Will Take Your Career To The Next Level.</a>,\n",
       " <a href=\"https://www.careerpointkenya.co.ke/2024/06/13/signs-your-cv-needs-a-review-from-experts/\" rel=\"bookmark\">5 Signs Your CV Needs a Review from Experts</a>,\n",
       " <a class=\"wp-block-navigation-item__content\" href=\"https://www.careerpointkenya.co.ke/category/accounting-jobs-in-kenya/\" title=\"Accounting Jobs\"><span class=\"wp-block-navigation-item__label\">Accounting Jobs</span></a>,\n",
       " <a class=\"wp-block-navigation-item__content\" href=\"https://www.careerpointkenya.co.ke/category/administration-jobs-in-kenya/\" title=\"Administration Jobs\"><span class=\"wp-block-navigation-item__label\">Administration Jobs</span></a>,\n",
       " <a class=\"wp-block-navigation-item__content\" href=\"https://www.careerpointkenya.co.ke/category/banking-jobs-in-kenya/\" title=\"Banking Jobs\"><span class=\"wp-block-navigation-item__label\">Banking Jobs</span></a>,\n",
       " <a class=\"wp-block-navigation-item__content\" href=\"https://www.careerpointkenya.co.ke/category/customer-service-jobs-in-kenya/\" title=\"Customer Service Jobs\"><span class=\"wp-block-navigation-item__label\">Customer Service Jobs</span></a>,\n",
       " <a class=\"wp-block-navigation-item__content\" href=\"https://www.careerpointkenya.co.ke/category/driver-jobs-in-kenya/\" title=\"Driver Jobs\"><span class=\"wp-block-navigation-item__label\">Driver Jobs</span></a>,\n",
       " <a class=\"wp-block-navigation-item__content\" href=\"https://www.careerpointkenya.co.ke/category/engineering-jobs-in-kenya/\" title=\"Driver Jobs\"><span class=\"wp-block-navigation-item__label\">Engineering Jobs</span></a>,\n",
       " <a class=\"wp-block-navigation-item__content\" href=\"https://www.careerpointkenya.co.ke/category/hr-jobs-in-kenya/\" title=\"HR Jobs\"><span class=\"wp-block-navigation-item__label\">HR Jobs</span></a>,\n",
       " <a class=\"wp-block-navigation-item__content\" href=\"https://www.careerpointkenya.co.ke/category/internships-in-kenya/\"><span class=\"wp-block-navigation-item__label\">Internships Jobs</span></a>,\n",
       " <a class=\"wp-block-navigation-item__content\" href=\"https://www.careerpointkenya.co.ke/category/it-jobs-in-kenya/\" title=\"IT Jobs\"><span class=\"wp-block-navigation-item__label\">IT Jobs</span></a>,\n",
       " <a class=\"wp-block-navigation-item__content\" href=\"https://www.careerpointkenya.co.ke/category/legal-jobs-in-kenya/\" title=\"Legal Jobs\"><span class=\"wp-block-navigation-item__label\">Legal Jobs</span></a>,\n",
       " <a class=\"wp-block-navigation-item__content\" href=\"https://www.careerpointkenya.co.ke/category/ngo-jobs-in-kenya/\" title=\"NGO Jobs\"><span class=\"wp-block-navigation-item__label\">NGO Jobs</span></a>,\n",
       " <a class=\"wp-block-navigation-item__content\" href=\"https://www.careerpointkenya.co.ke/category/nursing-jobs-in-kenya/\" title=\"Nursing Jobs\"><span class=\"wp-block-navigation-item__label\">Nursing Jobs</span></a>,\n",
       " <a class=\"wp-block-navigation-item__content\" href=\"https://www.careerpointkenya.co.ke/category/procurement-jobs-in-kenya/\" title=\"Procurement Jobs\"><span class=\"wp-block-navigation-item__label\">Procurement Jobs</span></a>,\n",
       " <a class=\"wp-block-navigation-item__content\" href=\"https://www.careerpointkenya.co.ke/category/security-jobs-in-kenya/\" title=\"Security Jobs\"><span class=\"wp-block-navigation-item__label\">Security Jobs</span></a>,\n",
       " <a class=\"wp-block-navigation-item__content\" href=\"https://www.careerpointkenya.co.ke/category/teaching-jobs-in-kenya/\" title=\"Teaching Jobs\"><span class=\"wp-block-navigation-item__label\">Teaching Jobs</span></a>,\n",
       " <a class=\"wp-block-navigation-item__content\" href=\"https://www.careerpointkenya.co.ke/category/agricultural-jobs-in-kenya/\"><span class=\"wp-block-navigation-item__label\">Agricultural Jobs</span></a>,\n",
       " <a class=\"wp-block-navigation-item__content\" href=\"https://www.careerpointkenya.co.ke/category/airline-jobs-in-kenya/\"><span class=\"wp-block-navigation-item__label\">Airline Jobs</span></a>,\n",
       " <a class=\"wp-block-navigation-item__content\" href=\"https://www.careerpointkenya.co.ke/category/audit-jobs-in-kenya/\"><span class=\"wp-block-navigation-item__label\">Audit Jobs</span></a>,\n",
       " <a class=\"wp-block-navigation-item__content\" href=\"https://www.careerpointkenya.co.ke/category/communication-jobs-in-kenya/\"><span class=\"wp-block-navigation-item__label\">Communication Jobs</span></a>,\n",
       " <a class=\"wp-block-navigation-item__content\" href=\"https://www.careerpointkenya.co.ke/category/credit-control-jobs-in-kenya/\"><span class=\"wp-block-navigation-item__label\">Credit Control Jobs</span></a>,\n",
       " <a class=\"wp-block-navigation-item__content\" href=\"https://www.careerpointkenya.co.ke/category/finance-jobs-in-kenya/\"><span class=\"wp-block-navigation-item__label\">Finance Jobs</span></a>,\n",
       " <a class=\"wp-block-navigation-item__content\" href=\"https://www.careerpointkenya.co.ke/category/hotel-jobs-in-kenya/\"><span class=\"wp-block-navigation-item__label\">Hotel Jobs</span></a>,\n",
       " <a class=\"wp-block-navigation-item__content\" href=\"https://www.careerpointkenya.co.ke/category/insurance-jobs-in-kenya/\"><span class=\"wp-block-navigation-item__label\">Insurance Jobs</span></a>,\n",
       " <a class=\"wp-block-navigation-item__content\" href=\"https://www.careerpointkenya.co.ke/category/media-jobs-in-kenya/\"><span class=\"wp-block-navigation-item__label\">Media Jobs</span></a>,\n",
       " <a class=\"wp-block-navigation-item__content\" href=\"https://www.careerpointkenya.co.ke/category/nursing-jobs-in-kenya/\"><span class=\"wp-block-navigation-item__label\">Nursing Jobs</span></a>,\n",
       " <a class=\"wp-block-navigation-item__content\" href=\"https://www.careerpointkenya.co.ke/category/sales-and-marketing-jobs-in-kenya/\"><span class=\"wp-block-navigation-item__label\">Sales &amp; Marketing Jobs</span></a>,\n",
       " <a class=\"wp-block-navigation-item__content\" href=\"https://www.careerpointkenya.co.ke/category/librarian-jobs-in-kenya/\"><span class=\"wp-block-navigation-item__label\">Librarian Jobs</span></a>,\n",
       " <a class=\"wp-block-navigation-item__content\" href=\"https://www.careerpointkenya.co.ke/category/logistics-jobs-in-kenya/\"><span class=\"wp-block-navigation-item__label\">Logistics Jobs</span></a>,\n",
       " <a class=\"wp-block-navigation-item__content\" href=\"https://www.careerpointkenya.co.ke/category/nutrition-jobs-in-kenya/\"><span class=\"wp-block-navigation-item__label\">Nutrition Jobs</span></a>,\n",
       " <a class=\"wp-block-navigation-item__content\" href=\"https://www.careerpointkenya.co.ke/category/parastatal-jobs-in-kenya/\"><span class=\"wp-block-navigation-item__label\">Parastatal Jobs</span></a>,\n",
       " <a class=\"wp-block-navigation-item__content\" href=\"https://www.careerpointkenya.co.ke/category/public-health-jobs-in-kenya/\"><span class=\"wp-block-navigation-item__label\">Public Health Jobs</span></a>,\n",
       " <a class=\"wp-block-navigation-item__content\" href=\"https://www.careerpointkenya.co.ke/category/public-relations-jobs-in-kenya/\"><span class=\"wp-block-navigation-item__label\">Public Relations Jobs</span></a>,\n",
       " <a class=\"wp-block-navigation-item__content\" href=\"https://www.careerpointkenya.co.ke/category/quantity-surveyor-jobs-in-kenya/\"><span class=\"wp-block-navigation-item__label\">Quantity Surveyor Jobs</span></a>,\n",
       " <a class=\"wp-block-navigation-item__content\" href=\"https://www.careerpointkenya.co.ke/category/social-work-jobs-in-kenya/\"><span class=\"wp-block-navigation-item__label\">Social Work Jobs</span></a>,\n",
       " <a class=\"wp-block-navigation-item__content\" href=\"https://www.careerpointkenya.co.ke/category/supply-chain-jobs-in-kenya/\"><span class=\"wp-block-navigation-item__label\">Supply Chain Jobs</span></a>,\n",
       " <a class=\"wp-block-navigation-item__content\" href=\"https://www.careerpointkenya.co.ke/category/tours-travel-jobs-in-kenya/\"><span class=\"wp-block-navigation-item__label\">Tours Travel Jobs</span></a>,\n",
       " <a class=\"wp-block-navigation-item__content\" href=\"https://www.corporatestaffing.co.ke/training/public-speaking-training-kenya/\"><span class=\"wp-block-navigation-item__label\">Public Speaking Course</span></a>,\n",
       " <a class=\"wp-block-navigation-item__content\" href=\"https://www.corporatestaffing.co.ke/training/project-management-course-in-kenya/\"><span class=\"wp-block-navigation-item__label\">Project Management Training</span></a>,\n",
       " <a class=\"wp-block-navigation-item__content\" href=\"https://www.corporatestaffing.co.ke/training/pmp-exam-course/\"><span class=\"wp-block-navigation-item__label\">PMP Course</span></a>,\n",
       " <a class=\"wp-block-navigation-item__content\" href=\"https://www.corporatestaffing.co.ke/training/monitoring-and-evaluation-course/\"><span class=\"wp-block-navigation-item__label\">Monitoring &amp; Evaluation Class</span></a>,\n",
       " <a class=\"wp-block-navigation-item__content\" href=\"https://www.corporatestaffing.co.ke/training/advanced-excel-training-nairobi/\"><span class=\"wp-block-navigation-item__label\">Advanced Excel Lessons</span></a>,\n",
       " <a class=\"wp-block-navigation-item__content\" href=\"https://www.corporatestaffing.co.ke/training/digital-marketing-course-in-kenya/\"><span class=\"wp-block-navigation-item__label\">Digital Marketing Course</span></a>,\n",
       " <a class=\"wp-block-navigation-item__content\" href=\"https://www.corporatestaffing.co.ke/training/hr-jobs-2020/\"><span class=\"wp-block-navigation-item__label\">Practical HR Skills Training</span></a>,\n",
       " <a class=\"wp-block-navigation-item__content\" href=\"https://www.corporatestaffing.co.ke/training/certificate-in-hr-management/\"><span class=\"wp-block-navigation-item__label\">Certificate In HR Management Course</span></a>,\n",
       " <a class=\"wp-block-navigation-item__content\" href=\"https://www.corporatestaffing.co.ke/training/leadership-course-in-kenya/\"><span class=\"wp-block-navigation-item__label\">Leadership &amp; Management Development Training</span></a>,\n",
       " <a class=\"wp-block-navigation-item__content\" href=\"https://www.corporatestaffing.co.ke/training/quickbooks-training-in-kenya/\"><span class=\"wp-block-navigation-item__label\">Master QuickBooks &amp; Filing Taxes Class</span></a>,\n",
       " <a class=\"wp-block-navigation-item__content\" href=\"https://www.corporatestaffing.co.ke/training/train-the-trainer-tot-course/\"><span class=\"wp-block-navigation-item__label\">Training of Trainers Class</span></a>,\n",
       " <a class=\"wp-block-navigation-item__content\" href=\"https://www.corporatestaffing.co.ke/training/customer-service-course-certificate/\"><span class=\"wp-block-navigation-item__label\">Customer Service Training</span></a>,\n",
       " <a class=\"wp-block-navigation-item__content\" href=\"https://www.corporatestaffing.co.ke/training/certificate-in-graphic-design-course-in-kenya/\"><span class=\"wp-block-navigation-item__label\">Graphic Design Course</span></a>,\n",
       " <a class=\"wp-block-navigation-item__content\" href=\"https://www.corporatestaffing.co.ke/training/communication-skills-course/\"><span class=\"wp-block-navigation-item__label\">Communication Skills Class</span></a>,\n",
       " <a class=\"wp-block-navigation-item__content\" href=\"https://www.corporatestaffing.co.ke/training/emotional-intelligence-course/\"><span class=\"wp-block-navigation-item__label\">Emotional Intelligence Course</span></a>,\n",
       " <a class=\"wp-block-navigation-item__content\" href=\"https://www.corporatestaffing.co.ke/training/events-management-course-certificate/\"><span class=\"wp-block-navigation-item__label\">Events Planning Lessons</span></a>,\n",
       " <a class=\"wp-block-navigation-item__content\" href=\"https://www.corporatestaffing.co.ke/training/spss-training/\"><span class=\"wp-block-navigation-item__label\">SPSS Training</span></a>,\n",
       " <a href=\"https://www.careerpointkenya.co.ke/jobs/\">New Jobs</a>,\n",
       " <a href=\"https://www.careerpointkenya.co.ke/cv-writing-services-kenya/\">CV Writing</a>,\n",
       " <a href=\"https://www.careerpointkenya.co.ke/top-common-interview-questions-and-answers-in-kenya/\">Interview Q&amp;A</a>,\n",
       " <a href=\"https://www.careerpointkenya.co.ke/short-courses-in-kenya-best/\">Short Courses</a>,\n",
       " <a aria-current=\"page\" href=\"https://www.careerpointkenya.co.ke/free-job-advertising/\">Free Job Advertising</a>,\n",
       " <a href=\"https://www.careerpointkenya.co.ke/recruitment-agencies-kenya/\">Agencies Listing</a>,\n",
       " <a href=\"https://www.careerpointkenya.co.ke/privacy-policy/\" rel=\"privacy-policy\">Privacy Policy</a>,\n",
       " <a href=\"https://www.careerpointkenya.co.ke/\">Home</a>,\n",
       " <a href=\"https://www.careerpointkenya.co.ke/jobs/\">Latest Jobs</a>,\n",
       " <a href=\"https://www.careerpointkenya.co.ke/cv-writing-services-kenya/\">CV Writing</a>,\n",
       " <a href=\"https://www.careerpointkenya.co.ke/recruitment-agencies-kenya/\">Recruitment Firms</a>,\n",
       " <a href=\"https://www.careerpointkenya.co.ke/top-common-interview-questions-and-answers-in-kenya/\">Best Interview Answers</a>,\n",
       " <a href=\"https://www.careerpointkenya.co.ke/short-courses-in-kenya-best/\">New Short Courses</a>,\n",
       " <a aria-current=\"page\" href=\"https://www.careerpointkenya.co.ke/free-job-advertising/\">Free Job Posting</a>]"
      ]
     },
     "execution_count": 30,
     "metadata": {},
     "output_type": "execute_result"
    }
   ],
   "source": [
    "soup.find_all('a')"
   ]
  },
  {
   "cell_type": "code",
   "execution_count": 31,
   "metadata": {},
   "outputs": [],
   "source": [
    "tags=soup.find_all('li', class_='menu_item')"
   ]
  },
  {
   "cell_type": "code",
   "execution_count": 32,
   "metadata": {},
   "outputs": [],
   "source": [
    "names=[]\n",
    "for i in tags:\n",
    "    a_tag=i.find('a')\n",
    "    if a_tag:\n",
    "        names.append(a_tag)\n",
    "    else:\n",
    "        print('f' 'no a tag:{i}')"
   ]
  },
  {
   "cell_type": "code",
   "execution_count": 33,
   "metadata": {},
   "outputs": [],
   "source": [
    "for name in names:\n",
    "    print(name.text)"
   ]
  },
  {
   "cell_type": "code",
   "execution_count": 34,
   "metadata": {},
   "outputs": [],
   "source": [
    "for name in names:\n",
    "    print(name.text,name['href'])"
   ]
  },
  {
   "cell_type": "code",
   "execution_count": null,
   "metadata": {},
   "outputs": [],
   "source": [
    "\n"
   ]
  },
  {
   "cell_type": "code",
   "execution_count": 35,
   "metadata": {},
   "outputs": [],
   "source": [
    "url4=\"https://www.careerpointkenya.co.ke/jobs/\""
   ]
  },
  {
   "cell_type": "code",
   "execution_count": 36,
   "metadata": {},
   "outputs": [],
   "source": [
    "response=requests.get(url4)"
   ]
  },
  {
   "cell_type": "code",
   "execution_count": 37,
   "metadata": {},
   "outputs": [
    {
     "data": {
      "text/plain": [
       "200"
      ]
     },
     "execution_count": 37,
     "metadata": {},
     "output_type": "execute_result"
    }
   ],
   "source": [
    "response.status_code"
   ]
  },
  {
   "cell_type": "code",
   "execution_count": 38,
   "metadata": {},
   "outputs": [],
   "source": [
    "soup=BeautifulSoup(response.text, 'html.parser')"
   ]
  },
  {
   "cell_type": "code",
   "execution_count": 39,
   "metadata": {},
   "outputs": [
    {
     "data": {
      "text/plain": [
       "'Latest Jobs In Kenya - Paying 35K To 450K | Career Point Kenya'"
      ]
     },
     "execution_count": 39,
     "metadata": {},
     "output_type": "execute_result"
    }
   ],
   "source": [
    "soup.title.string"
   ]
  },
  {
   "cell_type": "code",
   "execution_count": 40,
   "metadata": {},
   "outputs": [
    {
     "data": {
      "text/plain": [
       "[<li class=\"menu-item menu-item-type-post_type menu-item-object-page menu-item-home menu-item-779105\" id=\"menu-item-779105\"><a href=\"https://www.careerpointkenya.co.ke/\">Home</a></li>,\n",
       " <li class=\"menu-item menu-item-type-post_type_archive menu-item-object-job current-menu-item menu-item-779040\" id=\"menu-item-779040\"><a aria-current=\"page\" href=\"https://www.careerpointkenya.co.ke/jobs/\">Latest Jobs</a></li>,\n",
       " <li class=\"menu-item menu-item-type-post_type menu-item-object-page menu-item-562955\" id=\"menu-item-562955\"><a href=\"https://www.careerpointkenya.co.ke/cv-writing-services-kenya/\">CV Writing</a></li>,\n",
       " <li class=\"menu-item menu-item-type-post_type menu-item-object-page menu-item-586395\" id=\"menu-item-586395\"><a href=\"https://www.careerpointkenya.co.ke/recruitment-agencies-kenya/\">Recruitment Firms</a></li>,\n",
       " <li class=\"menu-item menu-item-type-post_type menu-item-object-page menu-item-710363\" id=\"menu-item-710363\"><a href=\"https://www.careerpointkenya.co.ke/top-common-interview-questions-and-answers-in-kenya/\">Best Interview Answers</a></li>,\n",
       " <li class=\"menu-item menu-item-type-post_type menu-item-object-page menu-item-710364\" id=\"menu-item-710364\"><a href=\"https://www.careerpointkenya.co.ke/short-courses-in-kenya-best/\">New Short Courses</a></li>,\n",
       " <li class=\"menu-item menu-item-type-post_type menu-item-object-page menu-item-551359\" id=\"menu-item-551359\"><a href=\"https://www.careerpointkenya.co.ke/free-job-advertising/\">Free Job Posting</a></li>,\n",
       " <li class=\"kb-query-item kb-query-block-post post-792364 job type-job status-publish format-standard hentry category-driver-jobs-in-kenya category-finance-jobs-in-kenya category-medical-jobs-in-kenya category-project-management-jobs-in-kenya category-trending-jobs-today\"><div class=\"kb-query-item-flip-back\"></div><div class=\"kb-row-layout-wrap kb-row-layout-id1188_df8d67-e9 alignnone wp-block-kadence-rowlayout\"><div class=\"kt-row-column-wrap kt-has-1-columns kt-row-layout-equal kt-tab-layout-inherit kt-mobile-layout-row kt-row-valign-top kt-inner-column-height-full\"><div class=\"wp-block-kadence-column kadence-column1188_c736aa-d0792364 kb-section-has-link\"><div class=\"kt-inside-inner-col\"><div class=\"kb-row-layout-wrap kb-row-layout-id1188_f44d83-e1 alignnone wp-block-kadence-rowlayout\"><div class=\"kt-row-column-wrap kt-has-3-columns kt-row-layout-center-wide kt-tab-layout-row kt-mobile-layout-row kt-row-valign-top\"><div class=\"wp-block-kadence-column kadence-column1188_abfa6c-bc kvs-md-false kvs-sm-false\"><div class=\"kt-inside-inner-col\"></div></div><div class=\"wp-block-kadence-column kadence-column1188_db0d14-65\"><div class=\"kt-inside-inner-col\"><div class=\"wp-block-kadence-dynamichtml kb-dynamic-html kb-dynamic-html-id-1188_dcfa14-3c kb-dynamic-html-link-style-none kb-dynamic-html-alignment-left\">Centre for Health Solutions (CHS Kenya) Is Hiring!</div></div></div><div class=\"wp-block-kadence-column kadence-column1188_f6a623-8b\"><div class=\"kt-inside-inner-col\"></div></div></div></div><div class=\"kb-row-layout-wrap kb-row-layout-id1188_bd53d7-7d alignnone wp-block-kadence-rowlayout\"><div class=\"kt-row-column-wrap kt-has-2-columns kt-row-layout-equal kt-tab-layout-inherit kt-mobile-layout-equal kt-row-valign-top kt-inner-column-height-full\"><div class=\"wp-block-kadence-column kadence-column1188_1c846b-e8 kb-section-dir-horizontal\"><div class=\"kt-inside-inner-col\"></div></div><div class=\"wp-block-kadence-column kadence-column1188_6d1aad-c2 kb-section-dir-horizontal\"><div class=\"kt-inside-inner-col\"></div></div></div></div></div><a class=\"kb-section-link-overlay\" href=\"https://www.careerpointkenya.co.ke/job/centre-for-health-solutions-kenya-is-hiring/\"></a></div></div></div></li>,\n",
       " <li class=\"kb-query-item kb-query-block-post post-792184 job type-job status-publish format-standard hentry category-finance-jobs-in-kenya category-hr-jobs-in-kenya category-it-jobs-in-kenya category-trending-jobs-today job-type-full-time location-nairobi\"><div class=\"kb-query-item-flip-back\"></div><div class=\"kb-row-layout-wrap kb-row-layout-id1188_df8d67-e9 alignnone wp-block-kadence-rowlayout\"><div class=\"kt-row-column-wrap kt-has-1-columns kt-row-layout-equal kt-tab-layout-inherit kt-mobile-layout-row kt-row-valign-top kt-inner-column-height-full\"><div class=\"wp-block-kadence-column kadence-column1188_c736aa-d0792184 kb-section-has-link\"><div class=\"kt-inside-inner-col\"><div class=\"kb-row-layout-wrap kb-row-layout-id1188_f44d83-e1 alignnone wp-block-kadence-rowlayout\"><div class=\"kt-row-column-wrap kt-has-3-columns kt-row-layout-center-wide kt-tab-layout-row kt-mobile-layout-row kt-row-valign-top\"><div class=\"wp-block-kadence-column kadence-column1188_abfa6c-bc kvs-md-false kvs-sm-false\"><div class=\"kt-inside-inner-col\"></div></div><div class=\"wp-block-kadence-column kadence-column1188_db0d14-65\"><div class=\"kt-inside-inner-col\"><div class=\"wp-block-kadence-dynamichtml kb-dynamic-html kb-dynamic-html-id-1188_dcfa14-3c kb-dynamic-html-link-style-none kb-dynamic-html-alignment-left\">The KCB Bank Kenya Is Hiring! See Here!</div></div></div><div class=\"wp-block-kadence-column kadence-column1188_f6a623-8b\"><div class=\"kt-inside-inner-col\"><div class=\"taxonomy-job-type has-text-align-center has-link-color has-text-color has-theme-palette-4-color has-background has-theme-palette-7-background-color pill-job-types wp-block-post-terms has-small-font-size wp-elements-2bbee10c968f86e53fcb528e9c7e600c\" style=\"padding-top:var(--wp--preset--spacing--20);padding-bottom:var(--wp--preset--spacing--20);padding-left:var(--wp--preset--spacing--20);padding-right:var(--wp--preset--spacing--20);font-style:normal;font-weight:500\"><a href=\"https://www.careerpointkenya.co.ke/job-type/full-time/\" rel=\"tag\">Full-time</a></div></div></div></div></div><div class=\"kb-row-layout-wrap kb-row-layout-id1188_bd53d7-7d alignnone wp-block-kadence-rowlayout\"><div class=\"kt-row-column-wrap kt-has-2-columns kt-row-layout-equal kt-tab-layout-inherit kt-mobile-layout-equal kt-row-valign-top kt-inner-column-height-full\"><div class=\"wp-block-kadence-column kadence-column1188_1c846b-e8 kb-section-dir-horizontal\"><div class=\"kt-inside-inner-col\"><div class=\"taxonomy-location has-link-color has-text-color has-theme-palette-5-color wp-block-post-terms has-small-font-size wp-elements-2c075ae2ff345d931c3eb9e16637d450\"><a href=\"https://www.careerpointkenya.co.ke/jobs/nairobi/\" rel=\"tag\">Nairobi</a></div></div></div><div class=\"wp-block-kadence-column kadence-column1188_6d1aad-c2 kb-section-dir-horizontal\"><div class=\"kt-inside-inner-col\"> <span class=\"kt-adv-heading1188_a94bcb-82 wp-block-kadence-advancedheading\" data-kb-block=\"kb-adv-heading1188_a94bcb-82\">Apply by June 28</span></div></div></div></div></div><a class=\"kb-section-link-overlay\" href=\"https://www.careerpointkenya.co.ke/job/the-kcb-bank-kenya-is-hiring-see-here/\"></a></div></div></div></li>,\n",
       " <li class=\"kb-query-item kb-query-block-post post-792349 job type-job status-publish format-standard hentry category-communication-jobs-in-kenya category-sales-and-marketing-jobs-in-kenya tag-business-administration-jobs-in-kenya tag-digital-marketing-jobs-in-kenya tag-marketing-communication-jobs-in-kenya job-type-full-time location-nairobi\"><div class=\"kb-query-item-flip-back\"></div><div class=\"kb-row-layout-wrap kb-row-layout-id1188_df8d67-e9 alignnone wp-block-kadence-rowlayout\"><div class=\"kt-row-column-wrap kt-has-1-columns kt-row-layout-equal kt-tab-layout-inherit kt-mobile-layout-row kt-row-valign-top kt-inner-column-height-full\"><div class=\"wp-block-kadence-column kadence-column1188_c736aa-d0792349 kb-section-has-link\"><div class=\"kt-inside-inner-col\"><div class=\"kb-row-layout-wrap kb-row-layout-id1188_f44d83-e1 alignnone wp-block-kadence-rowlayout\"><div class=\"kt-row-column-wrap kt-has-3-columns kt-row-layout-center-wide kt-tab-layout-row kt-mobile-layout-row kt-row-valign-top\"><div class=\"wp-block-kadence-column kadence-column1188_abfa6c-bc kvs-md-false kvs-sm-false\"><div class=\"kt-inside-inner-col\"></div></div><div class=\"wp-block-kadence-column kadence-column1188_db0d14-65\"><div class=\"kt-inside-inner-col\"><div class=\"wp-block-kadence-dynamichtml kb-dynamic-html kb-dynamic-html-id-1188_dcfa14-3c kb-dynamic-html-link-style-none kb-dynamic-html-alignment-left\">Online Marketer Job Mulberry Growers</div></div></div><div class=\"wp-block-kadence-column kadence-column1188_f6a623-8b\"><div class=\"kt-inside-inner-col\"><div class=\"taxonomy-job-type has-text-align-center has-link-color has-text-color has-theme-palette-4-color has-background has-theme-palette-7-background-color pill-job-types wp-block-post-terms has-small-font-size wp-elements-2bbee10c968f86e53fcb528e9c7e600c\" style=\"padding-top:var(--wp--preset--spacing--20);padding-bottom:var(--wp--preset--spacing--20);padding-left:var(--wp--preset--spacing--20);padding-right:var(--wp--preset--spacing--20);font-style:normal;font-weight:500\"><a href=\"https://www.careerpointkenya.co.ke/job-type/full-time/\" rel=\"tag\">Full-time</a></div></div></div></div></div><div class=\"kb-row-layout-wrap kb-row-layout-id1188_bd53d7-7d alignnone wp-block-kadence-rowlayout\"><div class=\"kt-row-column-wrap kt-has-2-columns kt-row-layout-equal kt-tab-layout-inherit kt-mobile-layout-equal kt-row-valign-top kt-inner-column-height-full\"><div class=\"wp-block-kadence-column kadence-column1188_1c846b-e8 kb-section-dir-horizontal\"><div class=\"kt-inside-inner-col\"><div class=\"taxonomy-location has-link-color has-text-color has-theme-palette-5-color wp-block-post-terms has-small-font-size wp-elements-2c075ae2ff345d931c3eb9e16637d450\"><a href=\"https://www.careerpointkenya.co.ke/jobs/nairobi/\" rel=\"tag\">Nairobi</a></div></div></div><div class=\"wp-block-kadence-column kadence-column1188_6d1aad-c2 kb-section-dir-horizontal\"><div class=\"kt-inside-inner-col\"> <span class=\"kt-adv-heading1188_a94bcb-82 wp-block-kadence-advancedheading\" data-kb-block=\"kb-adv-heading1188_a94bcb-82\">Apply by June 21</span></div></div></div></div></div><a class=\"kb-section-link-overlay\" href=\"https://www.careerpointkenya.co.ke/job/online-marketer-job-mulberry-growers/\"></a></div></div></div></li>,\n",
       " <li class=\"kb-query-item kb-query-block-post post-792348 job type-job status-publish format-standard hentry category-public-health-jobs-in-kenya tag-centre-for-health-solutions-jobs tag-community-health-jobs-in-kenya tag-sociology-jobs-in-kenya tag-technical-officer-jobs-in-kenya job-type-full-time location-nairobi\"><div class=\"kb-query-item-flip-back\"></div><div class=\"kb-row-layout-wrap kb-row-layout-id1188_df8d67-e9 alignnone wp-block-kadence-rowlayout\"><div class=\"kt-row-column-wrap kt-has-1-columns kt-row-layout-equal kt-tab-layout-inherit kt-mobile-layout-row kt-row-valign-top kt-inner-column-height-full\"><div class=\"wp-block-kadence-column kadence-column1188_c736aa-d0792348 kb-section-has-link\"><div class=\"kt-inside-inner-col\"><div class=\"kb-row-layout-wrap kb-row-layout-id1188_f44d83-e1 alignnone wp-block-kadence-rowlayout\"><div class=\"kt-row-column-wrap kt-has-3-columns kt-row-layout-center-wide kt-tab-layout-row kt-mobile-layout-row kt-row-valign-top\"><div class=\"wp-block-kadence-column kadence-column1188_abfa6c-bc kvs-md-false kvs-sm-false\"><div class=\"kt-inside-inner-col\"></div></div><div class=\"wp-block-kadence-column kadence-column1188_db0d14-65\"><div class=\"kt-inside-inner-col\"><div class=\"wp-block-kadence-dynamichtml kb-dynamic-html kb-dynamic-html-id-1188_dcfa14-3c kb-dynamic-html-link-style-none kb-dynamic-html-alignment-left\">Technical Officer Community Linkages Job CHS Kenya</div></div></div><div class=\"wp-block-kadence-column kadence-column1188_f6a623-8b\"><div class=\"kt-inside-inner-col\"><div class=\"taxonomy-job-type has-text-align-center has-link-color has-text-color has-theme-palette-4-color has-background has-theme-palette-7-background-color pill-job-types wp-block-post-terms has-small-font-size wp-elements-2bbee10c968f86e53fcb528e9c7e600c\" style=\"padding-top:var(--wp--preset--spacing--20);padding-bottom:var(--wp--preset--spacing--20);padding-left:var(--wp--preset--spacing--20);padding-right:var(--wp--preset--spacing--20);font-style:normal;font-weight:500\"><a href=\"https://www.careerpointkenya.co.ke/job-type/full-time/\" rel=\"tag\">Full-time</a></div></div></div></div></div><div class=\"kb-row-layout-wrap kb-row-layout-id1188_bd53d7-7d alignnone wp-block-kadence-rowlayout\"><div class=\"kt-row-column-wrap kt-has-2-columns kt-row-layout-equal kt-tab-layout-inherit kt-mobile-layout-equal kt-row-valign-top kt-inner-column-height-full\"><div class=\"wp-block-kadence-column kadence-column1188_1c846b-e8 kb-section-dir-horizontal\"><div class=\"kt-inside-inner-col\"><div class=\"taxonomy-location has-link-color has-text-color has-theme-palette-5-color wp-block-post-terms has-small-font-size wp-elements-2c075ae2ff345d931c3eb9e16637d450\"><a href=\"https://www.careerpointkenya.co.ke/jobs/nairobi/\" rel=\"tag\">Nairobi</a></div></div></div><div class=\"wp-block-kadence-column kadence-column1188_6d1aad-c2 kb-section-dir-horizontal\"><div class=\"kt-inside-inner-col\"> <span class=\"kt-adv-heading1188_a94bcb-82 wp-block-kadence-advancedheading\" data-kb-block=\"kb-adv-heading1188_a94bcb-82\">Apply by June 26</span></div></div></div></div></div><a class=\"kb-section-link-overlay\" href=\"https://www.careerpointkenya.co.ke/job/technical-officer-community-linkages-job-chs-kenya/\"></a></div></div></div></li>,\n",
       " <li class=\"kb-query-item kb-query-block-post post-792347 job type-job status-publish format-standard hentry category-finance-jobs-in-kenya tag-centre-for-health-solutions-jobs tag-cpa-jobs-in-kenya tag-finance-officer-jobs-in-kenya job-type-full-time location-nairobi\"><div class=\"kb-query-item-flip-back\"></div><div class=\"kb-row-layout-wrap kb-row-layout-id1188_df8d67-e9 alignnone wp-block-kadence-rowlayout\"><div class=\"kt-row-column-wrap kt-has-1-columns kt-row-layout-equal kt-tab-layout-inherit kt-mobile-layout-row kt-row-valign-top kt-inner-column-height-full\"><div class=\"wp-block-kadence-column kadence-column1188_c736aa-d0792347 kb-section-has-link\"><div class=\"kt-inside-inner-col\"><div class=\"kb-row-layout-wrap kb-row-layout-id1188_f44d83-e1 alignnone wp-block-kadence-rowlayout\"><div class=\"kt-row-column-wrap kt-has-3-columns kt-row-layout-center-wide kt-tab-layout-row kt-mobile-layout-row kt-row-valign-top\"><div class=\"wp-block-kadence-column kadence-column1188_abfa6c-bc kvs-md-false kvs-sm-false\"><div class=\"kt-inside-inner-col\"></div></div><div class=\"wp-block-kadence-column kadence-column1188_db0d14-65\"><div class=\"kt-inside-inner-col\"><div class=\"wp-block-kadence-dynamichtml kb-dynamic-html kb-dynamic-html-id-1188_dcfa14-3c kb-dynamic-html-link-style-none kb-dynamic-html-alignment-left\">Finance Officer Job CHS Kenya</div></div></div><div class=\"wp-block-kadence-column kadence-column1188_f6a623-8b\"><div class=\"kt-inside-inner-col\"><div class=\"taxonomy-job-type has-text-align-center has-link-color has-text-color has-theme-palette-4-color has-background has-theme-palette-7-background-color pill-job-types wp-block-post-terms has-small-font-size wp-elements-2bbee10c968f86e53fcb528e9c7e600c\" style=\"padding-top:var(--wp--preset--spacing--20);padding-bottom:var(--wp--preset--spacing--20);padding-left:var(--wp--preset--spacing--20);padding-right:var(--wp--preset--spacing--20);font-style:normal;font-weight:500\"><a href=\"https://www.careerpointkenya.co.ke/job-type/full-time/\" rel=\"tag\">Full-time</a></div></div></div></div></div><div class=\"kb-row-layout-wrap kb-row-layout-id1188_bd53d7-7d alignnone wp-block-kadence-rowlayout\"><div class=\"kt-row-column-wrap kt-has-2-columns kt-row-layout-equal kt-tab-layout-inherit kt-mobile-layout-equal kt-row-valign-top kt-inner-column-height-full\"><div class=\"wp-block-kadence-column kadence-column1188_1c846b-e8 kb-section-dir-horizontal\"><div class=\"kt-inside-inner-col\"><div class=\"taxonomy-location has-link-color has-text-color has-theme-palette-5-color wp-block-post-terms has-small-font-size wp-elements-2c075ae2ff345d931c3eb9e16637d450\"><a href=\"https://www.careerpointkenya.co.ke/jobs/nairobi/\" rel=\"tag\">Nairobi</a></div></div></div><div class=\"wp-block-kadence-column kadence-column1188_6d1aad-c2 kb-section-dir-horizontal\"><div class=\"kt-inside-inner-col\"> <span class=\"kt-adv-heading1188_a94bcb-82 wp-block-kadence-advancedheading\" data-kb-block=\"kb-adv-heading1188_a94bcb-82\">Apply by June 26</span></div></div></div></div></div><a class=\"kb-section-link-overlay\" href=\"https://www.careerpointkenya.co.ke/job/finance-officer-job-chs-kenya/\"></a></div></div></div></li>,\n",
       " <li class=\"kb-query-item kb-query-block-post post-792346 job type-job status-publish format-standard hentry category-project-management-jobs-in-kenya tag-centre-for-health-solutions-jobs tag-program-officer-jobs-in-kenya job-type-full-time location-nairobi\"><div class=\"kb-query-item-flip-back\"></div><div class=\"kb-row-layout-wrap kb-row-layout-id1188_df8d67-e9 alignnone wp-block-kadence-rowlayout\"><div class=\"kt-row-column-wrap kt-has-1-columns kt-row-layout-equal kt-tab-layout-inherit kt-mobile-layout-row kt-row-valign-top kt-inner-column-height-full\"><div class=\"wp-block-kadence-column kadence-column1188_c736aa-d0792346 kb-section-has-link\"><div class=\"kt-inside-inner-col\"><div class=\"kb-row-layout-wrap kb-row-layout-id1188_f44d83-e1 alignnone wp-block-kadence-rowlayout\"><div class=\"kt-row-column-wrap kt-has-3-columns kt-row-layout-center-wide kt-tab-layout-row kt-mobile-layout-row kt-row-valign-top\"><div class=\"wp-block-kadence-column kadence-column1188_abfa6c-bc kvs-md-false kvs-sm-false\"><div class=\"kt-inside-inner-col\"></div></div><div class=\"wp-block-kadence-column kadence-column1188_db0d14-65\"><div class=\"kt-inside-inner-col\"><div class=\"wp-block-kadence-dynamichtml kb-dynamic-html kb-dynamic-html-id-1188_dcfa14-3c kb-dynamic-html-link-style-none kb-dynamic-html-alignment-left\">Regional Program Officer Job CHS Kenya</div></div></div><div class=\"wp-block-kadence-column kadence-column1188_f6a623-8b\"><div class=\"kt-inside-inner-col\"><div class=\"taxonomy-job-type has-text-align-center has-link-color has-text-color has-theme-palette-4-color has-background has-theme-palette-7-background-color pill-job-types wp-block-post-terms has-small-font-size wp-elements-2bbee10c968f86e53fcb528e9c7e600c\" style=\"padding-top:var(--wp--preset--spacing--20);padding-bottom:var(--wp--preset--spacing--20);padding-left:var(--wp--preset--spacing--20);padding-right:var(--wp--preset--spacing--20);font-style:normal;font-weight:500\"><a href=\"https://www.careerpointkenya.co.ke/job-type/full-time/\" rel=\"tag\">Full-time</a></div></div></div></div></div><div class=\"kb-row-layout-wrap kb-row-layout-id1188_bd53d7-7d alignnone wp-block-kadence-rowlayout\"><div class=\"kt-row-column-wrap kt-has-2-columns kt-row-layout-equal kt-tab-layout-inherit kt-mobile-layout-equal kt-row-valign-top kt-inner-column-height-full\"><div class=\"wp-block-kadence-column kadence-column1188_1c846b-e8 kb-section-dir-horizontal\"><div class=\"kt-inside-inner-col\"><div class=\"taxonomy-location has-link-color has-text-color has-theme-palette-5-color wp-block-post-terms has-small-font-size wp-elements-2c075ae2ff345d931c3eb9e16637d450\"><a href=\"https://www.careerpointkenya.co.ke/jobs/nairobi/\" rel=\"tag\">Nairobi</a></div></div></div><div class=\"wp-block-kadence-column kadence-column1188_6d1aad-c2 kb-section-dir-horizontal\"><div class=\"kt-inside-inner-col\"> <span class=\"kt-adv-heading1188_a94bcb-82 wp-block-kadence-advancedheading\" data-kb-block=\"kb-adv-heading1188_a94bcb-82\">Apply by June 26</span></div></div></div></div></div><a class=\"kb-section-link-overlay\" href=\"https://www.careerpointkenya.co.ke/job/regional-program-officer-job-chs-kenya/\"></a></div></div></div></li>,\n",
       " <li class=\"kb-query-item kb-query-block-post post-792345 job type-job status-publish format-standard hentry category-driver-jobs-in-kenya tag-centre-for-health-solutions-jobs job-type-full-time location-nairobi\"><div class=\"kb-query-item-flip-back\"></div><div class=\"kb-row-layout-wrap kb-row-layout-id1188_df8d67-e9 alignnone wp-block-kadence-rowlayout\"><div class=\"kt-row-column-wrap kt-has-1-columns kt-row-layout-equal kt-tab-layout-inherit kt-mobile-layout-row kt-row-valign-top kt-inner-column-height-full\"><div class=\"wp-block-kadence-column kadence-column1188_c736aa-d0792345 kb-section-has-link\"><div class=\"kt-inside-inner-col\"><div class=\"kb-row-layout-wrap kb-row-layout-id1188_f44d83-e1 alignnone wp-block-kadence-rowlayout\"><div class=\"kt-row-column-wrap kt-has-3-columns kt-row-layout-center-wide kt-tab-layout-row kt-mobile-layout-row kt-row-valign-top\"><div class=\"wp-block-kadence-column kadence-column1188_abfa6c-bc kvs-md-false kvs-sm-false\"><div class=\"kt-inside-inner-col\"></div></div><div class=\"wp-block-kadence-column kadence-column1188_db0d14-65\"><div class=\"kt-inside-inner-col\"><div class=\"wp-block-kadence-dynamichtml kb-dynamic-html kb-dynamic-html-id-1188_dcfa14-3c kb-dynamic-html-link-style-none kb-dynamic-html-alignment-left\">Driver Job CHS Kenya</div></div></div><div class=\"wp-block-kadence-column kadence-column1188_f6a623-8b\"><div class=\"kt-inside-inner-col\"><div class=\"taxonomy-job-type has-text-align-center has-link-color has-text-color has-theme-palette-4-color has-background has-theme-palette-7-background-color pill-job-types wp-block-post-terms has-small-font-size wp-elements-2bbee10c968f86e53fcb528e9c7e600c\" style=\"padding-top:var(--wp--preset--spacing--20);padding-bottom:var(--wp--preset--spacing--20);padding-left:var(--wp--preset--spacing--20);padding-right:var(--wp--preset--spacing--20);font-style:normal;font-weight:500\"><a href=\"https://www.careerpointkenya.co.ke/job-type/full-time/\" rel=\"tag\">Full-time</a></div></div></div></div></div><div class=\"kb-row-layout-wrap kb-row-layout-id1188_bd53d7-7d alignnone wp-block-kadence-rowlayout\"><div class=\"kt-row-column-wrap kt-has-2-columns kt-row-layout-equal kt-tab-layout-inherit kt-mobile-layout-equal kt-row-valign-top kt-inner-column-height-full\"><div class=\"wp-block-kadence-column kadence-column1188_1c846b-e8 kb-section-dir-horizontal\"><div class=\"kt-inside-inner-col\"><div class=\"taxonomy-location has-link-color has-text-color has-theme-palette-5-color wp-block-post-terms has-small-font-size wp-elements-2c075ae2ff345d931c3eb9e16637d450\"><a href=\"https://www.careerpointkenya.co.ke/jobs/nairobi/\" rel=\"tag\">Nairobi</a></div></div></div><div class=\"wp-block-kadence-column kadence-column1188_6d1aad-c2 kb-section-dir-horizontal\"><div class=\"kt-inside-inner-col\"> <span class=\"kt-adv-heading1188_a94bcb-82 wp-block-kadence-advancedheading\" data-kb-block=\"kb-adv-heading1188_a94bcb-82\">Apply by June 26</span></div></div></div></div></div><a class=\"kb-section-link-overlay\" href=\"https://www.careerpointkenya.co.ke/job/driver-job-chs-kenya/\"></a></div></div></div></li>,\n",
       " <li class=\"kb-query-item kb-query-block-post post-792344 job type-job status-publish format-standard hentry category-medical-jobs-in-kenya tag-centre-for-health-solutions-jobs tag-medical-laboratory-jobs-in-kenya job-type-full-time location-nairobi\"><div class=\"kb-query-item-flip-back\"></div><div class=\"kb-row-layout-wrap kb-row-layout-id1188_df8d67-e9 alignnone wp-block-kadence-rowlayout\"><div class=\"kt-row-column-wrap kt-has-1-columns kt-row-layout-equal kt-tab-layout-inherit kt-mobile-layout-row kt-row-valign-top kt-inner-column-height-full\"><div class=\"wp-block-kadence-column kadence-column1188_c736aa-d0792344 kb-section-has-link\"><div class=\"kt-inside-inner-col\"><div class=\"kb-row-layout-wrap kb-row-layout-id1188_f44d83-e1 alignnone wp-block-kadence-rowlayout\"><div class=\"kt-row-column-wrap kt-has-3-columns kt-row-layout-center-wide kt-tab-layout-row kt-mobile-layout-row kt-row-valign-top\"><div class=\"wp-block-kadence-column kadence-column1188_abfa6c-bc kvs-md-false kvs-sm-false\"><div class=\"kt-inside-inner-col\"></div></div><div class=\"wp-block-kadence-column kadence-column1188_db0d14-65\"><div class=\"kt-inside-inner-col\"><div class=\"wp-block-kadence-dynamichtml kb-dynamic-html kb-dynamic-html-id-1188_dcfa14-3c kb-dynamic-html-link-style-none kb-dynamic-html-alignment-left\">Laboratory Officer Job CHS Kenya</div></div></div><div class=\"wp-block-kadence-column kadence-column1188_f6a623-8b\"><div class=\"kt-inside-inner-col\"><div class=\"taxonomy-job-type has-text-align-center has-link-color has-text-color has-theme-palette-4-color has-background has-theme-palette-7-background-color pill-job-types wp-block-post-terms has-small-font-size wp-elements-2bbee10c968f86e53fcb528e9c7e600c\" style=\"padding-top:var(--wp--preset--spacing--20);padding-bottom:var(--wp--preset--spacing--20);padding-left:var(--wp--preset--spacing--20);padding-right:var(--wp--preset--spacing--20);font-style:normal;font-weight:500\"><a href=\"https://www.careerpointkenya.co.ke/job-type/full-time/\" rel=\"tag\">Full-time</a></div></div></div></div></div><div class=\"kb-row-layout-wrap kb-row-layout-id1188_bd53d7-7d alignnone wp-block-kadence-rowlayout\"><div class=\"kt-row-column-wrap kt-has-2-columns kt-row-layout-equal kt-tab-layout-inherit kt-mobile-layout-equal kt-row-valign-top kt-inner-column-height-full\"><div class=\"wp-block-kadence-column kadence-column1188_1c846b-e8 kb-section-dir-horizontal\"><div class=\"kt-inside-inner-col\"><div class=\"taxonomy-location has-link-color has-text-color has-theme-palette-5-color wp-block-post-terms has-small-font-size wp-elements-2c075ae2ff345d931c3eb9e16637d450\"><a href=\"https://www.careerpointkenya.co.ke/jobs/nairobi/\" rel=\"tag\">Nairobi</a></div></div></div><div class=\"wp-block-kadence-column kadence-column1188_6d1aad-c2 kb-section-dir-horizontal\"><div class=\"kt-inside-inner-col\"> <span class=\"kt-adv-heading1188_a94bcb-82 wp-block-kadence-advancedheading\" data-kb-block=\"kb-adv-heading1188_a94bcb-82\">Apply by June 26</span></div></div></div></div></div><a class=\"kb-section-link-overlay\" href=\"https://www.careerpointkenya.co.ke/job/laboratory-officer-job-chs-kenya/\"></a></div></div></div></li>,\n",
       " <li class=\"kb-query-item kb-query-block-post post-792195 job type-job status-publish format-standard hentry category-project-management-jobs-in-kenya category-public-health-jobs-in-kenya tag-grants-jobs-in-kenya tag-iavi-jobs tag-international-relations-jobs-in-kenya job-type-full-time location-nairobi\"><div class=\"kb-query-item-flip-back\"></div><div class=\"kb-row-layout-wrap kb-row-layout-id1188_df8d67-e9 alignnone wp-block-kadence-rowlayout\"><div class=\"kt-row-column-wrap kt-has-1-columns kt-row-layout-equal kt-tab-layout-inherit kt-mobile-layout-row kt-row-valign-top kt-inner-column-height-full\"><div class=\"wp-block-kadence-column kadence-column1188_c736aa-d0792195 kb-section-has-link\"><div class=\"kt-inside-inner-col\"><div class=\"kb-row-layout-wrap kb-row-layout-id1188_f44d83-e1 alignnone wp-block-kadence-rowlayout\"><div class=\"kt-row-column-wrap kt-has-3-columns kt-row-layout-center-wide kt-tab-layout-row kt-mobile-layout-row kt-row-valign-top\"><div class=\"wp-block-kadence-column kadence-column1188_abfa6c-bc kvs-md-false kvs-sm-false\"><div class=\"kt-inside-inner-col\"></div></div><div class=\"wp-block-kadence-column kadence-column1188_db0d14-65\"><div class=\"kt-inside-inner-col\"><div class=\"wp-block-kadence-dynamichtml kb-dynamic-html kb-dynamic-html-id-1188_dcfa14-3c kb-dynamic-html-link-style-none kb-dynamic-html-alignment-left\">Specialist, Grant Writing Job IAVI</div></div></div><div class=\"wp-block-kadence-column kadence-column1188_f6a623-8b\"><div class=\"kt-inside-inner-col\"><div class=\"taxonomy-job-type has-text-align-center has-link-color has-text-color has-theme-palette-4-color has-background has-theme-palette-7-background-color pill-job-types wp-block-post-terms has-small-font-size wp-elements-2bbee10c968f86e53fcb528e9c7e600c\" style=\"padding-top:var(--wp--preset--spacing--20);padding-bottom:var(--wp--preset--spacing--20);padding-left:var(--wp--preset--spacing--20);padding-right:var(--wp--preset--spacing--20);font-style:normal;font-weight:500\"><a href=\"https://www.careerpointkenya.co.ke/job-type/full-time/\" rel=\"tag\">Full-time</a></div></div></div></div></div><div class=\"kb-row-layout-wrap kb-row-layout-id1188_bd53d7-7d alignnone wp-block-kadence-rowlayout\"><div class=\"kt-row-column-wrap kt-has-2-columns kt-row-layout-equal kt-tab-layout-inherit kt-mobile-layout-equal kt-row-valign-top kt-inner-column-height-full\"><div class=\"wp-block-kadence-column kadence-column1188_1c846b-e8 kb-section-dir-horizontal\"><div class=\"kt-inside-inner-col\"><div class=\"taxonomy-location has-link-color has-text-color has-theme-palette-5-color wp-block-post-terms has-small-font-size wp-elements-2c075ae2ff345d931c3eb9e16637d450\"><a href=\"https://www.careerpointkenya.co.ke/jobs/nairobi/\" rel=\"tag\">Nairobi</a></div></div></div><div class=\"wp-block-kadence-column kadence-column1188_6d1aad-c2 kb-section-dir-horizontal\"><div class=\"kt-inside-inner-col\"></div></div></div></div></div><a class=\"kb-section-link-overlay\" href=\"https://www.careerpointkenya.co.ke/job/specialist-grant-writing-job-iavi/\"></a></div></div></div></li>,\n",
       " <li class=\"kb-query-item kb-query-block-post post-792174 job type-job status-publish format-standard hentry category-accounting-jobs-in-kenya category-finance-jobs-in-kenya tag-busara-jobs tag-commerce-jobs-in-kenya tag-cpa-jobs-in-kenya tag-finance-manager-jobs-in-kenya job-type-full-time location-nairobi\"><div class=\"kb-query-item-flip-back\"></div><div class=\"kb-row-layout-wrap kb-row-layout-id1188_df8d67-e9 alignnone wp-block-kadence-rowlayout\"><div class=\"kt-row-column-wrap kt-has-1-columns kt-row-layout-equal kt-tab-layout-inherit kt-mobile-layout-row kt-row-valign-top kt-inner-column-height-full\"><div class=\"wp-block-kadence-column kadence-column1188_c736aa-d0792174 kb-section-has-link\"><div class=\"kt-inside-inner-col\"><div class=\"kb-row-layout-wrap kb-row-layout-id1188_f44d83-e1 alignnone wp-block-kadence-rowlayout\"><div class=\"kt-row-column-wrap kt-has-3-columns kt-row-layout-center-wide kt-tab-layout-row kt-mobile-layout-row kt-row-valign-top\"><div class=\"wp-block-kadence-column kadence-column1188_abfa6c-bc kvs-md-false kvs-sm-false\"><div class=\"kt-inside-inner-col\"></div></div><div class=\"wp-block-kadence-column kadence-column1188_db0d14-65\"><div class=\"kt-inside-inner-col\"><div class=\"wp-block-kadence-dynamichtml kb-dynamic-html kb-dynamic-html-id-1188_dcfa14-3c kb-dynamic-html-link-style-none kb-dynamic-html-alignment-left\">Senior Finance Manager Job Busara Center</div></div></div><div class=\"wp-block-kadence-column kadence-column1188_f6a623-8b\"><div class=\"kt-inside-inner-col\"><div class=\"taxonomy-job-type has-text-align-center has-link-color has-text-color has-theme-palette-4-color has-background has-theme-palette-7-background-color pill-job-types wp-block-post-terms has-small-font-size wp-elements-2bbee10c968f86e53fcb528e9c7e600c\" style=\"padding-top:var(--wp--preset--spacing--20);padding-bottom:var(--wp--preset--spacing--20);padding-left:var(--wp--preset--spacing--20);padding-right:var(--wp--preset--spacing--20);font-style:normal;font-weight:500\"><a href=\"https://www.careerpointkenya.co.ke/job-type/full-time/\" rel=\"tag\">Full-time</a></div></div></div></div></div><div class=\"kb-row-layout-wrap kb-row-layout-id1188_bd53d7-7d alignnone wp-block-kadence-rowlayout\"><div class=\"kt-row-column-wrap kt-has-2-columns kt-row-layout-equal kt-tab-layout-inherit kt-mobile-layout-equal kt-row-valign-top kt-inner-column-height-full\"><div class=\"wp-block-kadence-column kadence-column1188_1c846b-e8 kb-section-dir-horizontal\"><div class=\"kt-inside-inner-col\"><div class=\"taxonomy-location has-link-color has-text-color has-theme-palette-5-color wp-block-post-terms has-small-font-size wp-elements-2c075ae2ff345d931c3eb9e16637d450\"><a href=\"https://www.careerpointkenya.co.ke/jobs/nairobi/\" rel=\"tag\">Nairobi</a></div></div></div><div class=\"wp-block-kadence-column kadence-column1188_6d1aad-c2 kb-section-dir-horizontal\"><div class=\"kt-inside-inner-col\"></div></div></div></div></div><a class=\"kb-section-link-overlay\" href=\"https://www.careerpointkenya.co.ke/job/senior-finance-manager-job-busara-center/\"></a></div></div></div></li>,\n",
       " <li class=\"wp-block-navigation-item wp-block-navigation-link\" style=\"font-size: 20px;\"><a class=\"wp-block-navigation-item__content\" href=\"https://www.careerpointkenya.co.ke/category/accounting-jobs-in-kenya/\" title=\"Accounting Jobs\"><span class=\"wp-block-navigation-item__label\">Accounting Jobs</span></a></li>,\n",
       " <li class=\"wp-block-navigation-item wp-block-navigation-link\" style=\"font-size: 20px;\"><a class=\"wp-block-navigation-item__content\" href=\"https://www.careerpointkenya.co.ke/category/administration-jobs-in-kenya/\" title=\"Administration Jobs\"><span class=\"wp-block-navigation-item__label\">Administration Jobs</span></a></li>,\n",
       " <li class=\"wp-block-navigation-item wp-block-navigation-link\" style=\"font-size: 20px;\"><a class=\"wp-block-navigation-item__content\" href=\"https://www.careerpointkenya.co.ke/category/banking-jobs-in-kenya/\" title=\"Banking Jobs\"><span class=\"wp-block-navigation-item__label\">Banking Jobs</span></a></li>,\n",
       " <li class=\"wp-block-navigation-item wp-block-navigation-link\" style=\"font-size: 20px;\"><a class=\"wp-block-navigation-item__content\" href=\"https://www.careerpointkenya.co.ke/category/customer-service-jobs-in-kenya/\" title=\"Customer Service Jobs\"><span class=\"wp-block-navigation-item__label\">Customer Service Jobs</span></a></li>,\n",
       " <li class=\"wp-block-navigation-item wp-block-navigation-link\" style=\"font-size: 20px;\"><a class=\"wp-block-navigation-item__content\" href=\"https://www.careerpointkenya.co.ke/category/driver-jobs-in-kenya/\" title=\"Driver Jobs\"><span class=\"wp-block-navigation-item__label\">Driver Jobs</span></a></li>,\n",
       " <li class=\"wp-block-navigation-item wp-block-navigation-link\" style=\"font-size: 20px;\"><a class=\"wp-block-navigation-item__content\" href=\"https://www.careerpointkenya.co.ke/category/engineering-jobs-in-kenya/\" title=\"Driver Jobs\"><span class=\"wp-block-navigation-item__label\">Engineering Jobs</span></a></li>,\n",
       " <li class=\"wp-block-navigation-item wp-block-navigation-link\" style=\"font-size: 20px;\"><a class=\"wp-block-navigation-item__content\" href=\"https://www.careerpointkenya.co.ke/category/hr-jobs-in-kenya/\" title=\"HR Jobs\"><span class=\"wp-block-navigation-item__label\">HR Jobs</span></a></li>,\n",
       " <li class=\"wp-block-navigation-item wp-block-navigation-link\" style=\"font-size: 20px;\"><a class=\"wp-block-navigation-item__content\" href=\"https://www.careerpointkenya.co.ke/category/internships-in-kenya/\"><span class=\"wp-block-navigation-item__label\">Internships Jobs</span></a></li>,\n",
       " <li class=\"wp-block-navigation-item wp-block-navigation-link\" style=\"font-size: 20px;\"><a class=\"wp-block-navigation-item__content\" href=\"https://www.careerpointkenya.co.ke/category/it-jobs-in-kenya/\" title=\"IT Jobs\"><span class=\"wp-block-navigation-item__label\">IT Jobs</span></a></li>,\n",
       " <li class=\"wp-block-navigation-item wp-block-navigation-link\" style=\"font-size: 20px;\"><a class=\"wp-block-navigation-item__content\" href=\"https://www.careerpointkenya.co.ke/category/legal-jobs-in-kenya/\" title=\"Legal Jobs\"><span class=\"wp-block-navigation-item__label\">Legal Jobs</span></a></li>,\n",
       " <li class=\"wp-block-navigation-item wp-block-navigation-link\" style=\"font-size: 20px;\"><a class=\"wp-block-navigation-item__content\" href=\"https://www.careerpointkenya.co.ke/category/ngo-jobs-in-kenya/\" title=\"NGO Jobs\"><span class=\"wp-block-navigation-item__label\">NGO Jobs</span></a></li>,\n",
       " <li class=\"wp-block-navigation-item wp-block-navigation-link\" style=\"font-size: 20px;\"><a class=\"wp-block-navigation-item__content\" href=\"https://www.careerpointkenya.co.ke/category/nursing-jobs-in-kenya/\" title=\"Nursing Jobs\"><span class=\"wp-block-navigation-item__label\">Nursing Jobs</span></a></li>,\n",
       " <li class=\"wp-block-navigation-item wp-block-navigation-link\" style=\"font-size: 20px;\"><a class=\"wp-block-navigation-item__content\" href=\"https://www.careerpointkenya.co.ke/category/procurement-jobs-in-kenya/\" title=\"Procurement Jobs\"><span class=\"wp-block-navigation-item__label\">Procurement Jobs</span></a></li>,\n",
       " <li class=\"wp-block-navigation-item wp-block-navigation-link\" style=\"font-size: 20px;\"><a class=\"wp-block-navigation-item__content\" href=\"https://www.careerpointkenya.co.ke/category/security-jobs-in-kenya/\" title=\"Security Jobs\"><span class=\"wp-block-navigation-item__label\">Security Jobs</span></a></li>,\n",
       " <li class=\"wp-block-navigation-item wp-block-navigation-link\" style=\"font-size: 20px;\"><a class=\"wp-block-navigation-item__content\" href=\"https://www.careerpointkenya.co.ke/category/teaching-jobs-in-kenya/\" title=\"Teaching Jobs\"><span class=\"wp-block-navigation-item__label\">Teaching Jobs</span></a></li>,\n",
       " <li class=\"wp-block-navigation-item wp-block-navigation-link\" style=\"font-size: 20px;\"><a class=\"wp-block-navigation-item__content\" href=\"https://www.careerpointkenya.co.ke/category/agricultural-jobs-in-kenya/\"><span class=\"wp-block-navigation-item__label\">Agricultural Jobs</span></a></li>,\n",
       " <li class=\"wp-block-navigation-item wp-block-navigation-link\" style=\"font-size: 20px;\"><a class=\"wp-block-navigation-item__content\" href=\"https://www.careerpointkenya.co.ke/category/airline-jobs-in-kenya/\"><span class=\"wp-block-navigation-item__label\">Airline Jobs</span></a></li>,\n",
       " <li class=\"wp-block-navigation-item wp-block-navigation-link\" style=\"font-size: 20px;\"><a class=\"wp-block-navigation-item__content\" href=\"https://www.careerpointkenya.co.ke/category/audit-jobs-in-kenya/\"><span class=\"wp-block-navigation-item__label\">Audit Jobs</span></a></li>,\n",
       " <li class=\"wp-block-navigation-item wp-block-navigation-link\" style=\"font-size: 20px;\"><a class=\"wp-block-navigation-item__content\" href=\"https://www.careerpointkenya.co.ke/category/communication-jobs-in-kenya/\"><span class=\"wp-block-navigation-item__label\">Communication Jobs</span></a></li>,\n",
       " <li class=\"wp-block-navigation-item wp-block-navigation-link\" style=\"font-size: 20px;\"><a class=\"wp-block-navigation-item__content\" href=\"https://www.careerpointkenya.co.ke/category/credit-control-jobs-in-kenya/\"><span class=\"wp-block-navigation-item__label\">Credit Control Jobs</span></a></li>,\n",
       " <li class=\"wp-block-navigation-item wp-block-navigation-link\" style=\"font-size: 20px;\"><a class=\"wp-block-navigation-item__content\" href=\"https://www.careerpointkenya.co.ke/category/finance-jobs-in-kenya/\"><span class=\"wp-block-navigation-item__label\">Finance Jobs</span></a></li>,\n",
       " <li class=\"wp-block-navigation-item wp-block-navigation-link\" style=\"font-size: 20px;\"><a class=\"wp-block-navigation-item__content\" href=\"https://www.careerpointkenya.co.ke/category/hotel-jobs-in-kenya/\"><span class=\"wp-block-navigation-item__label\">Hotel Jobs</span></a></li>,\n",
       " <li class=\"wp-block-navigation-item wp-block-navigation-link\" style=\"font-size: 20px;\"><a class=\"wp-block-navigation-item__content\" href=\"https://www.careerpointkenya.co.ke/category/insurance-jobs-in-kenya/\"><span class=\"wp-block-navigation-item__label\">Insurance Jobs</span></a></li>,\n",
       " <li class=\"wp-block-navigation-item wp-block-navigation-link\" style=\"font-size: 20px;\"><a class=\"wp-block-navigation-item__content\" href=\"https://www.careerpointkenya.co.ke/category/media-jobs-in-kenya/\"><span class=\"wp-block-navigation-item__label\">Media Jobs</span></a></li>,\n",
       " <li class=\"wp-block-navigation-item wp-block-navigation-link\" style=\"font-size: 20px;\"><a class=\"wp-block-navigation-item__content\" href=\"https://www.careerpointkenya.co.ke/category/nursing-jobs-in-kenya/\"><span class=\"wp-block-navigation-item__label\">Nursing Jobs</span></a></li>,\n",
       " <li class=\"wp-block-navigation-item wp-block-navigation-link\" style=\"font-size: 20px;\"><a class=\"wp-block-navigation-item__content\" href=\"https://www.careerpointkenya.co.ke/category/sales-and-marketing-jobs-in-kenya/\"><span class=\"wp-block-navigation-item__label\">Sales &amp; Marketing Jobs</span></a></li>,\n",
       " <li class=\"wp-block-navigation-item wp-block-navigation-link\" style=\"font-size: 20px;\"><a class=\"wp-block-navigation-item__content\" href=\"https://www.careerpointkenya.co.ke/category/librarian-jobs-in-kenya/\"><span class=\"wp-block-navigation-item__label\">Librarian Jobs</span></a></li>,\n",
       " <li class=\"wp-block-navigation-item wp-block-navigation-link\" style=\"font-size: 20px;\"><a class=\"wp-block-navigation-item__content\" href=\"https://www.careerpointkenya.co.ke/category/logistics-jobs-in-kenya/\"><span class=\"wp-block-navigation-item__label\">Logistics Jobs</span></a></li>,\n",
       " <li class=\"wp-block-navigation-item wp-block-navigation-link\" style=\"font-size: 20px;\"><a class=\"wp-block-navigation-item__content\" href=\"https://www.careerpointkenya.co.ke/category/nutrition-jobs-in-kenya/\"><span class=\"wp-block-navigation-item__label\">Nutrition Jobs</span></a></li>,\n",
       " <li class=\"wp-block-navigation-item wp-block-navigation-link\" style=\"font-size: 20px;\"><a class=\"wp-block-navigation-item__content\" href=\"https://www.careerpointkenya.co.ke/category/parastatal-jobs-in-kenya/\"><span class=\"wp-block-navigation-item__label\">Parastatal Jobs</span></a></li>,\n",
       " <li class=\"wp-block-navigation-item wp-block-navigation-link\" style=\"font-size: 20px;\"><a class=\"wp-block-navigation-item__content\" href=\"https://www.careerpointkenya.co.ke/category/public-health-jobs-in-kenya/\"><span class=\"wp-block-navigation-item__label\">Public Health Jobs</span></a></li>,\n",
       " <li class=\"wp-block-navigation-item wp-block-navigation-link\" style=\"font-size: 20px;\"><a class=\"wp-block-navigation-item__content\" href=\"https://www.careerpointkenya.co.ke/category/public-relations-jobs-in-kenya/\"><span class=\"wp-block-navigation-item__label\">Public Relations Jobs</span></a></li>,\n",
       " <li class=\"wp-block-navigation-item wp-block-navigation-link\" style=\"font-size: 20px;\"><a class=\"wp-block-navigation-item__content\" href=\"https://www.careerpointkenya.co.ke/category/quantity-surveyor-jobs-in-kenya/\"><span class=\"wp-block-navigation-item__label\">Quantity Surveyor Jobs</span></a></li>,\n",
       " <li class=\"wp-block-navigation-item wp-block-navigation-link\" style=\"font-size: 20px;\"><a class=\"wp-block-navigation-item__content\" href=\"https://www.careerpointkenya.co.ke/category/social-work-jobs-in-kenya/\"><span class=\"wp-block-navigation-item__label\">Social Work Jobs</span></a></li>,\n",
       " <li class=\"wp-block-navigation-item wp-block-navigation-link\" style=\"font-size: 20px;\"><a class=\"wp-block-navigation-item__content\" href=\"https://www.careerpointkenya.co.ke/category/supply-chain-jobs-in-kenya/\"><span class=\"wp-block-navigation-item__label\">Supply Chain Jobs</span></a></li>,\n",
       " <li class=\"wp-block-navigation-item wp-block-navigation-link\" style=\"font-size: 20px;\"><a class=\"wp-block-navigation-item__content\" href=\"https://www.careerpointkenya.co.ke/category/tours-travel-jobs-in-kenya/\"><span class=\"wp-block-navigation-item__label\">Tours Travel Jobs</span></a></li>,\n",
       " <li class=\"wp-block-navigation-item wp-block-navigation-link\" style=\"font-size: 20px;\"><a class=\"wp-block-navigation-item__content\" href=\"https://www.corporatestaffing.co.ke/training/public-speaking-training-kenya/\"><span class=\"wp-block-navigation-item__label\">Public Speaking Course</span></a></li>,\n",
       " <li class=\"wp-block-navigation-item wp-block-navigation-link\" style=\"font-size: 20px;\"><a class=\"wp-block-navigation-item__content\" href=\"https://www.corporatestaffing.co.ke/training/project-management-course-in-kenya/\"><span class=\"wp-block-navigation-item__label\">Project Management Training</span></a></li>,\n",
       " <li class=\"wp-block-navigation-item wp-block-navigation-link\" style=\"font-size: 20px;\"><a class=\"wp-block-navigation-item__content\" href=\"https://www.corporatestaffing.co.ke/training/pmp-exam-course/\"><span class=\"wp-block-navigation-item__label\">PMP Course</span></a></li>,\n",
       " <li class=\"wp-block-navigation-item wp-block-navigation-link\" style=\"font-size: 20px;\"><a class=\"wp-block-navigation-item__content\" href=\"https://www.corporatestaffing.co.ke/training/monitoring-and-evaluation-course/\"><span class=\"wp-block-navigation-item__label\">Monitoring &amp; Evaluation Class</span></a></li>,\n",
       " <li class=\"wp-block-navigation-item wp-block-navigation-link\" style=\"font-size: 20px;\"><a class=\"wp-block-navigation-item__content\" href=\"https://www.corporatestaffing.co.ke/training/advanced-excel-training-nairobi/\"><span class=\"wp-block-navigation-item__label\">Advanced Excel Lessons</span></a></li>,\n",
       " <li class=\"wp-block-navigation-item wp-block-navigation-link\" style=\"font-size: 20px;\"><a class=\"wp-block-navigation-item__content\" href=\"https://www.corporatestaffing.co.ke/training/digital-marketing-course-in-kenya/\"><span class=\"wp-block-navigation-item__label\">Digital Marketing Course</span></a></li>,\n",
       " <li class=\"wp-block-navigation-item wp-block-navigation-link\" style=\"font-size: 20px;\"><a class=\"wp-block-navigation-item__content\" href=\"https://www.corporatestaffing.co.ke/training/hr-jobs-2020/\"><span class=\"wp-block-navigation-item__label\">Practical HR Skills Training</span></a></li>,\n",
       " <li class=\"wp-block-navigation-item wp-block-navigation-link\" style=\"font-size: 20px;\"><a class=\"wp-block-navigation-item__content\" href=\"https://www.corporatestaffing.co.ke/training/certificate-in-hr-management/\"><span class=\"wp-block-navigation-item__label\">Certificate In HR Management Course</span></a></li>,\n",
       " <li class=\"wp-block-navigation-item wp-block-navigation-link\" style=\"font-size: 20px;\"><a class=\"wp-block-navigation-item__content\" href=\"https://www.corporatestaffing.co.ke/training/leadership-course-in-kenya/\"><span class=\"wp-block-navigation-item__label\">Leadership &amp; Management Development Training</span></a></li>,\n",
       " <li class=\"wp-block-navigation-item wp-block-navigation-link\" style=\"font-size: 20px;\"><a class=\"wp-block-navigation-item__content\" href=\"https://www.corporatestaffing.co.ke/training/quickbooks-training-in-kenya/\"><span class=\"wp-block-navigation-item__label\">Master QuickBooks &amp; Filing Taxes Class</span></a></li>,\n",
       " <li class=\"wp-block-navigation-item wp-block-navigation-link\" style=\"font-size: 20px;\"><a class=\"wp-block-navigation-item__content\" href=\"https://www.corporatestaffing.co.ke/training/train-the-trainer-tot-course/\"><span class=\"wp-block-navigation-item__label\">Training of Trainers Class</span></a></li>,\n",
       " <li class=\"wp-block-navigation-item wp-block-navigation-link\" style=\"font-size: 20px;\"><a class=\"wp-block-navigation-item__content\" href=\"https://www.corporatestaffing.co.ke/training/customer-service-course-certificate/\"><span class=\"wp-block-navigation-item__label\">Customer Service Training</span></a></li>,\n",
       " <li class=\"wp-block-navigation-item wp-block-navigation-link\" style=\"font-size: 20px;\"><a class=\"wp-block-navigation-item__content\" href=\"https://www.corporatestaffing.co.ke/training/certificate-in-graphic-design-course-in-kenya/\"><span class=\"wp-block-navigation-item__label\">Graphic Design Course</span></a></li>,\n",
       " <li class=\"wp-block-navigation-item wp-block-navigation-link\" style=\"font-size: 20px;\"><a class=\"wp-block-navigation-item__content\" href=\"https://www.corporatestaffing.co.ke/training/communication-skills-course/\"><span class=\"wp-block-navigation-item__label\">Communication Skills Class</span></a></li>,\n",
       " <li class=\"wp-block-navigation-item wp-block-navigation-link\" style=\"font-size: 20px;\"><a class=\"wp-block-navigation-item__content\" href=\"https://www.corporatestaffing.co.ke/training/emotional-intelligence-course/\"><span class=\"wp-block-navigation-item__label\">Emotional Intelligence Course</span></a></li>,\n",
       " <li class=\"wp-block-navigation-item wp-block-navigation-link\" style=\"font-size: 20px;\"><a class=\"wp-block-navigation-item__content\" href=\"https://www.corporatestaffing.co.ke/training/events-management-course-certificate/\"><span class=\"wp-block-navigation-item__label\">Events Planning Lessons</span></a></li>,\n",
       " <li class=\"wp-block-navigation-item wp-block-navigation-link\" style=\"font-size: 20px;\"><a class=\"wp-block-navigation-item__content\" href=\"https://www.corporatestaffing.co.ke/training/spss-training/\"><span class=\"wp-block-navigation-item__label\">SPSS Training</span></a></li>,\n",
       " <li class=\"menu-item menu-item-type-post_type menu-item-object-page menu-item-779036\" id=\"menu-item-779036\"><a href=\"https://www.careerpointkenya.co.ke/jobs/\">New Jobs</a></li>,\n",
       " <li class=\"menu-item menu-item-type-post_type menu-item-object-page menu-item-779037\" id=\"menu-item-779037\"><a href=\"https://www.careerpointkenya.co.ke/cv-writing-services-kenya/\">CV Writing</a></li>,\n",
       " <li class=\"menu-item menu-item-type-post_type menu-item-object-page menu-item-779038\" id=\"menu-item-779038\"><a href=\"https://www.careerpointkenya.co.ke/top-common-interview-questions-and-answers-in-kenya/\">Interview Q&amp;A</a></li>,\n",
       " <li class=\"menu-item menu-item-type-post_type menu-item-object-page menu-item-779035\" id=\"menu-item-779035\"><a href=\"https://www.careerpointkenya.co.ke/short-courses-in-kenya-best/\">Short Courses</a></li>,\n",
       " <li class=\"menu-item menu-item-type-post_type menu-item-object-page menu-item-779033\" id=\"menu-item-779033\"><a href=\"https://www.careerpointkenya.co.ke/free-job-advertising/\">Free Job Advertising</a></li>,\n",
       " <li class=\"menu-item menu-item-type-post_type menu-item-object-page menu-item-779034\" id=\"menu-item-779034\"><a href=\"https://www.careerpointkenya.co.ke/recruitment-agencies-kenya/\">Agencies Listing</a></li>,\n",
       " <li class=\"menu-item menu-item-type-post_type menu-item-object-page menu-item-privacy-policy menu-item-781681\" id=\"menu-item-781681\"><a href=\"https://www.careerpointkenya.co.ke/privacy-policy/\" rel=\"privacy-policy\">Privacy Policy</a></li>,\n",
       " <li class=\"menu-item menu-item-type-post_type menu-item-object-page menu-item-home menu-item-779105\"><a href=\"https://www.careerpointkenya.co.ke/\">Home</a></li>,\n",
       " <li class=\"menu-item menu-item-type-post_type_archive menu-item-object-job current-menu-item menu-item-779040\"><a aria-current=\"page\" href=\"https://www.careerpointkenya.co.ke/jobs/\">Latest Jobs</a></li>,\n",
       " <li class=\"menu-item menu-item-type-post_type menu-item-object-page menu-item-562955\"><a href=\"https://www.careerpointkenya.co.ke/cv-writing-services-kenya/\">CV Writing</a></li>,\n",
       " <li class=\"menu-item menu-item-type-post_type menu-item-object-page menu-item-586395\"><a href=\"https://www.careerpointkenya.co.ke/recruitment-agencies-kenya/\">Recruitment Firms</a></li>,\n",
       " <li class=\"menu-item menu-item-type-post_type menu-item-object-page menu-item-710363\"><a href=\"https://www.careerpointkenya.co.ke/top-common-interview-questions-and-answers-in-kenya/\">Best Interview Answers</a></li>,\n",
       " <li class=\"menu-item menu-item-type-post_type menu-item-object-page menu-item-710364\"><a href=\"https://www.careerpointkenya.co.ke/short-courses-in-kenya-best/\">New Short Courses</a></li>,\n",
       " <li class=\"menu-item menu-item-type-post_type menu-item-object-page menu-item-551359\"><a href=\"https://www.careerpointkenya.co.ke/free-job-advertising/\">Free Job Posting</a></li>]"
      ]
     },
     "execution_count": 40,
     "metadata": {},
     "output_type": "execute_result"
    }
   ],
   "source": [
    "soup.find_all('li')"
   ]
  },
  {
   "cell_type": "code",
   "execution_count": 41,
   "metadata": {},
   "outputs": [
    {
     "data": {
      "text/plain": [
       "[]"
      ]
     },
     "execution_count": 41,
     "metadata": {},
     "output_type": "execute_result"
    }
   ],
   "source": [
    "soup.find_all('li', class_='menu_item')"
   ]
  },
  {
   "cell_type": "code",
   "execution_count": 42,
   "metadata": {},
   "outputs": [],
   "source": [
    "li_tags=soup.find_all('li', class_='menu_item')"
   ]
  },
  {
   "cell_type": "code",
   "execution_count": 43,
   "metadata": {},
   "outputs": [
    {
     "data": {
      "text/plain": [
       "[<a class=\"skip-link screen-reader-text scroll-ignore\" href=\"#main\">Skip to content</a>,\n",
       " <a class=\"brand has-logo-image\" href=\"https://www.careerpointkenya.co.ke/\" rel=\"home\"><img alt=\"Career Point Kenya\" class=\"custom-logo br-lazy\" data-breeze=\"https://www.careerpointkenya.co.ke/wp-content/uploads/2024/02/careerpointkenya-logo.png\" data-brsizes=\"(max-width: 197px) 100vw, 197px\" data-brsrcset=\"https://www.careerpointkenya.co.ke/wp-content/uploads/2024/02/careerpointkenya-logo.png 197w, https://www.careerpointkenya.co.ke/wp-content/uploads/2024/02/careerpointkenya-logo-150x45.png 150w\" decoding=\"async\" height=\"59\" src=\"data:image/svg+xml;base64,PHN2ZyB4bWxucz0naHR0cDovL3d3dy53My5vcmcvMjAwMC9zdmcnIHZpZXdCb3g9JzAgMCAxOTcgNTknPjwvc3ZnPg==\" width=\"197\"/></a>,\n",
       " <a href=\"https://www.careerpointkenya.co.ke/\">Home</a>,\n",
       " <a aria-current=\"page\" href=\"https://www.careerpointkenya.co.ke/jobs/\">Latest Jobs</a>,\n",
       " <a href=\"https://www.careerpointkenya.co.ke/cv-writing-services-kenya/\">CV Writing</a>,\n",
       " <a href=\"https://www.careerpointkenya.co.ke/recruitment-agencies-kenya/\">Recruitment Firms</a>,\n",
       " <a href=\"https://www.careerpointkenya.co.ke/top-common-interview-questions-and-answers-in-kenya/\">Best Interview Answers</a>,\n",
       " <a href=\"https://www.careerpointkenya.co.ke/short-courses-in-kenya-best/\">New Short Courses</a>,\n",
       " <a href=\"https://www.careerpointkenya.co.ke/free-job-advertising/\">Free Job Posting</a>,\n",
       " <a class=\"button header-button button-size-medium button-style-filled\" href=\"https://www.careerpointkenya.co.ke/upload-your-cv/\" rel=\"noopener noreferrer\" target=\"_blank\">Upload Your CV</a>,\n",
       " <a class=\"brand has-logo-image\" href=\"https://www.careerpointkenya.co.ke/\" rel=\"home\"><img alt=\"Career Point Kenya\" class=\"custom-logo br-lazy\" data-breeze=\"https://www.careerpointkenya.co.ke/wp-content/uploads/2024/02/careerpointkenya-logo.png\" data-brsizes=\"(max-width: 197px) 100vw, 197px\" data-brsrcset=\"https://www.careerpointkenya.co.ke/wp-content/uploads/2024/02/careerpointkenya-logo.png 197w, https://www.careerpointkenya.co.ke/wp-content/uploads/2024/02/careerpointkenya-logo-150x45.png 150w\" decoding=\"async\" height=\"59\" src=\"data:image/svg+xml;base64,PHN2ZyB4bWxucz0naHR0cDovL3d3dy53My5vcmcvMjAwMC9zdmcnIHZpZXdCb3g9JzAgMCAxOTcgNTknPjwvc3ZnPg==\" width=\"197\"/></a>,\n",
       " <a class=\"kb-button kt-button button kb-btn779045_8a43db-e1 kt-btn-size-standard kt-btn-width-type-auto kb-btn-global-fill kt-btn-has-text-true kt-btn-has-svg-false wp-block-kadence-singlebtn\" href=\"https://www.careerpointkenya.co.ke/jobs/\"><span class=\"kt-btn-inner-text\">Browse Latest Jobs</span></a>,\n",
       " <a class=\"kb-button kt-button button kb-btn779045_99179f-18 kt-btn-size-standard kt-btn-width-type-auto kb-btn-global-fill kt-btn-has-text-true kt-btn-has-svg-false wp-block-kadence-singlebtn\" href=\"https://www.careerpointkenya.co.ke/free-job-advertising/\"><span class=\"kt-btn-inner-text\">Post A Free Job Advert</span></a>,\n",
       " <a class=\"kb-button kt-button button kb-btn779045_49c093-07 kt-btn-size-standard kt-btn-width-type-auto kb-btn-global-fill kt-btn-has-text-true kt-btn-has-svg-false wp-block-kadence-singlebtn\" href=\"https://www.careerpointkenya.co.ke/cv-writing-services-kenya/\"><span class=\"kt-btn-inner-text\">Professional CV Writing</span></a>,\n",
       " <a class=\"kb-button kt-button button kb-btn779045_56eb5f-48 kt-btn-size-standard kt-btn-width-type-auto kb-btn-global-fill kt-btn-has-text-true kt-btn-has-svg-false wp-block-kadence-singlebtn\" href=\"https://www.careerpointkenya.co.ke/upload-your-cv/\"><span class=\"kt-btn-inner-text\">Upload Your CV</span></a>,\n",
       " <a class=\"kb-button kt-button button kb-btn779045_5037d3-0c kt-btn-size-standard kt-btn-width-type-auto kb-btn-global-fill kt-btn-has-text-true kt-btn-has-svg-false wp-block-kadence-singlebtn\" href=\"https://www.careerpointkenya.co.ke/top-common-interview-questions-and-answers-in-kenya/\"><span class=\"kt-btn-inner-text\">Job Interview Answers</span></a>,\n",
       " <a class=\"kb-button kt-button button kb-btn779045_2ccea3-a8 kt-btn-size-standard kt-btn-width-type-auto kb-btn-global-fill kt-btn-has-text-true kt-btn-has-svg-false wp-block-kadence-singlebtn\" href=\"https://www.careerpointkenya.co.ke/short-courses-in-kenya-best/\"><span class=\"kt-btn-inner-text\">Top Short Courses</span></a>,\n",
       " <a class=\"kb-section-link-overlay\" href=\"https://www.careerpointkenya.co.ke/job/centre-for-health-solutions-kenya-is-hiring/\"></a>,\n",
       " <a href=\"https://www.careerpointkenya.co.ke/job-type/full-time/\" rel=\"tag\">Full-time</a>,\n",
       " <a href=\"https://www.careerpointkenya.co.ke/jobs/nairobi/\" rel=\"tag\">Nairobi</a>,\n",
       " <a class=\"kb-section-link-overlay\" href=\"https://www.careerpointkenya.co.ke/job/the-kcb-bank-kenya-is-hiring-see-here/\"></a>,\n",
       " <a href=\"https://www.careerpointkenya.co.ke/job-type/full-time/\" rel=\"tag\">Full-time</a>,\n",
       " <a href=\"https://www.careerpointkenya.co.ke/jobs/nairobi/\" rel=\"tag\">Nairobi</a>,\n",
       " <a class=\"kb-section-link-overlay\" href=\"https://www.careerpointkenya.co.ke/job/online-marketer-job-mulberry-growers/\"></a>,\n",
       " <a href=\"https://www.careerpointkenya.co.ke/job-type/full-time/\" rel=\"tag\">Full-time</a>,\n",
       " <a href=\"https://www.careerpointkenya.co.ke/jobs/nairobi/\" rel=\"tag\">Nairobi</a>,\n",
       " <a class=\"kb-section-link-overlay\" href=\"https://www.careerpointkenya.co.ke/job/technical-officer-community-linkages-job-chs-kenya/\"></a>,\n",
       " <a href=\"https://www.careerpointkenya.co.ke/job-type/full-time/\" rel=\"tag\">Full-time</a>,\n",
       " <a href=\"https://www.careerpointkenya.co.ke/jobs/nairobi/\" rel=\"tag\">Nairobi</a>,\n",
       " <a class=\"kb-section-link-overlay\" href=\"https://www.careerpointkenya.co.ke/job/finance-officer-job-chs-kenya/\"></a>,\n",
       " <a href=\"https://www.careerpointkenya.co.ke/job-type/full-time/\" rel=\"tag\">Full-time</a>,\n",
       " <a href=\"https://www.careerpointkenya.co.ke/jobs/nairobi/\" rel=\"tag\">Nairobi</a>,\n",
       " <a class=\"kb-section-link-overlay\" href=\"https://www.careerpointkenya.co.ke/job/regional-program-officer-job-chs-kenya/\"></a>,\n",
       " <a href=\"https://www.careerpointkenya.co.ke/job-type/full-time/\" rel=\"tag\">Full-time</a>,\n",
       " <a href=\"https://www.careerpointkenya.co.ke/jobs/nairobi/\" rel=\"tag\">Nairobi</a>,\n",
       " <a class=\"kb-section-link-overlay\" href=\"https://www.careerpointkenya.co.ke/job/driver-job-chs-kenya/\"></a>,\n",
       " <a href=\"https://www.careerpointkenya.co.ke/job-type/full-time/\" rel=\"tag\">Full-time</a>,\n",
       " <a href=\"https://www.careerpointkenya.co.ke/jobs/nairobi/\" rel=\"tag\">Nairobi</a>,\n",
       " <a class=\"kb-section-link-overlay\" href=\"https://www.careerpointkenya.co.ke/job/laboratory-officer-job-chs-kenya/\"></a>,\n",
       " <a href=\"https://www.careerpointkenya.co.ke/job-type/full-time/\" rel=\"tag\">Full-time</a>,\n",
       " <a href=\"https://www.careerpointkenya.co.ke/jobs/nairobi/\" rel=\"tag\">Nairobi</a>,\n",
       " <a class=\"kb-section-link-overlay\" href=\"https://www.careerpointkenya.co.ke/job/specialist-grant-writing-job-iavi/\"></a>,\n",
       " <a href=\"https://www.careerpointkenya.co.ke/job-type/full-time/\" rel=\"tag\">Full-time</a>,\n",
       " <a href=\"https://www.careerpointkenya.co.ke/jobs/nairobi/\" rel=\"tag\">Nairobi</a>,\n",
       " <a class=\"kb-section-link-overlay\" href=\"https://www.careerpointkenya.co.ke/job/senior-finance-manager-job-busara-center/\"></a>,\n",
       " <a class=\"page-numbers\" data-page=\"2\" href=\"#\">2</a>,\n",
       " <a class=\"page-numbers\" data-page=\"3\" href=\"#\">3</a>,\n",
       " <a class=\"page-numbers\" data-page=\"4\" href=\"#\">4</a>,\n",
       " <a class=\"page-numbers\" data-page=\"1476\" href=\"#\">1,476</a>,\n",
       " <a class=\"next page-numbers\" data-page=\"2\" href=\"#\">Next</a>,\n",
       " <a href=\"https://www.careerpointkenya.co.ke/upload-your-cv/\">Click Here To Register Your CV</a>,\n",
       " <a href=\"https://www.careerpointkenya.co.ke/2024/06/14/how-can-employees-remain-relevant-amid-an-ai-revolution/\" rel=\"bookmark\">How Can Employees Remain Relevant Amid an AI Revolution</a>,\n",
       " <a href=\"https://www.careerpointkenya.co.ke/2024/06/13/how-pmp-certification-will-take-your-career-to-the-next-level/\" rel=\"bookmark\">How PMP Certification Will Take Your Career To The Next Level.</a>,\n",
       " <a href=\"https://www.careerpointkenya.co.ke/2024/06/13/signs-your-cv-needs-a-review-from-experts/\" rel=\"bookmark\">5 Signs Your CV Needs a Review from Experts</a>,\n",
       " <a class=\"wp-block-navigation-item__content\" href=\"https://www.careerpointkenya.co.ke/category/accounting-jobs-in-kenya/\" title=\"Accounting Jobs\"><span class=\"wp-block-navigation-item__label\">Accounting Jobs</span></a>,\n",
       " <a class=\"wp-block-navigation-item__content\" href=\"https://www.careerpointkenya.co.ke/category/administration-jobs-in-kenya/\" title=\"Administration Jobs\"><span class=\"wp-block-navigation-item__label\">Administration Jobs</span></a>,\n",
       " <a class=\"wp-block-navigation-item__content\" href=\"https://www.careerpointkenya.co.ke/category/banking-jobs-in-kenya/\" title=\"Banking Jobs\"><span class=\"wp-block-navigation-item__label\">Banking Jobs</span></a>,\n",
       " <a class=\"wp-block-navigation-item__content\" href=\"https://www.careerpointkenya.co.ke/category/customer-service-jobs-in-kenya/\" title=\"Customer Service Jobs\"><span class=\"wp-block-navigation-item__label\">Customer Service Jobs</span></a>,\n",
       " <a class=\"wp-block-navigation-item__content\" href=\"https://www.careerpointkenya.co.ke/category/driver-jobs-in-kenya/\" title=\"Driver Jobs\"><span class=\"wp-block-navigation-item__label\">Driver Jobs</span></a>,\n",
       " <a class=\"wp-block-navigation-item__content\" href=\"https://www.careerpointkenya.co.ke/category/engineering-jobs-in-kenya/\" title=\"Driver Jobs\"><span class=\"wp-block-navigation-item__label\">Engineering Jobs</span></a>,\n",
       " <a class=\"wp-block-navigation-item__content\" href=\"https://www.careerpointkenya.co.ke/category/hr-jobs-in-kenya/\" title=\"HR Jobs\"><span class=\"wp-block-navigation-item__label\">HR Jobs</span></a>,\n",
       " <a class=\"wp-block-navigation-item__content\" href=\"https://www.careerpointkenya.co.ke/category/internships-in-kenya/\"><span class=\"wp-block-navigation-item__label\">Internships Jobs</span></a>,\n",
       " <a class=\"wp-block-navigation-item__content\" href=\"https://www.careerpointkenya.co.ke/category/it-jobs-in-kenya/\" title=\"IT Jobs\"><span class=\"wp-block-navigation-item__label\">IT Jobs</span></a>,\n",
       " <a class=\"wp-block-navigation-item__content\" href=\"https://www.careerpointkenya.co.ke/category/legal-jobs-in-kenya/\" title=\"Legal Jobs\"><span class=\"wp-block-navigation-item__label\">Legal Jobs</span></a>,\n",
       " <a class=\"wp-block-navigation-item__content\" href=\"https://www.careerpointkenya.co.ke/category/ngo-jobs-in-kenya/\" title=\"NGO Jobs\"><span class=\"wp-block-navigation-item__label\">NGO Jobs</span></a>,\n",
       " <a class=\"wp-block-navigation-item__content\" href=\"https://www.careerpointkenya.co.ke/category/nursing-jobs-in-kenya/\" title=\"Nursing Jobs\"><span class=\"wp-block-navigation-item__label\">Nursing Jobs</span></a>,\n",
       " <a class=\"wp-block-navigation-item__content\" href=\"https://www.careerpointkenya.co.ke/category/procurement-jobs-in-kenya/\" title=\"Procurement Jobs\"><span class=\"wp-block-navigation-item__label\">Procurement Jobs</span></a>,\n",
       " <a class=\"wp-block-navigation-item__content\" href=\"https://www.careerpointkenya.co.ke/category/security-jobs-in-kenya/\" title=\"Security Jobs\"><span class=\"wp-block-navigation-item__label\">Security Jobs</span></a>,\n",
       " <a class=\"wp-block-navigation-item__content\" href=\"https://www.careerpointkenya.co.ke/category/teaching-jobs-in-kenya/\" title=\"Teaching Jobs\"><span class=\"wp-block-navigation-item__label\">Teaching Jobs</span></a>,\n",
       " <a class=\"wp-block-navigation-item__content\" href=\"https://www.careerpointkenya.co.ke/category/agricultural-jobs-in-kenya/\"><span class=\"wp-block-navigation-item__label\">Agricultural Jobs</span></a>,\n",
       " <a class=\"wp-block-navigation-item__content\" href=\"https://www.careerpointkenya.co.ke/category/airline-jobs-in-kenya/\"><span class=\"wp-block-navigation-item__label\">Airline Jobs</span></a>,\n",
       " <a class=\"wp-block-navigation-item__content\" href=\"https://www.careerpointkenya.co.ke/category/audit-jobs-in-kenya/\"><span class=\"wp-block-navigation-item__label\">Audit Jobs</span></a>,\n",
       " <a class=\"wp-block-navigation-item__content\" href=\"https://www.careerpointkenya.co.ke/category/communication-jobs-in-kenya/\"><span class=\"wp-block-navigation-item__label\">Communication Jobs</span></a>,\n",
       " <a class=\"wp-block-navigation-item__content\" href=\"https://www.careerpointkenya.co.ke/category/credit-control-jobs-in-kenya/\"><span class=\"wp-block-navigation-item__label\">Credit Control Jobs</span></a>,\n",
       " <a class=\"wp-block-navigation-item__content\" href=\"https://www.careerpointkenya.co.ke/category/finance-jobs-in-kenya/\"><span class=\"wp-block-navigation-item__label\">Finance Jobs</span></a>,\n",
       " <a class=\"wp-block-navigation-item__content\" href=\"https://www.careerpointkenya.co.ke/category/hotel-jobs-in-kenya/\"><span class=\"wp-block-navigation-item__label\">Hotel Jobs</span></a>,\n",
       " <a class=\"wp-block-navigation-item__content\" href=\"https://www.careerpointkenya.co.ke/category/insurance-jobs-in-kenya/\"><span class=\"wp-block-navigation-item__label\">Insurance Jobs</span></a>,\n",
       " <a class=\"wp-block-navigation-item__content\" href=\"https://www.careerpointkenya.co.ke/category/media-jobs-in-kenya/\"><span class=\"wp-block-navigation-item__label\">Media Jobs</span></a>,\n",
       " <a class=\"wp-block-navigation-item__content\" href=\"https://www.careerpointkenya.co.ke/category/nursing-jobs-in-kenya/\"><span class=\"wp-block-navigation-item__label\">Nursing Jobs</span></a>,\n",
       " <a class=\"wp-block-navigation-item__content\" href=\"https://www.careerpointkenya.co.ke/category/sales-and-marketing-jobs-in-kenya/\"><span class=\"wp-block-navigation-item__label\">Sales &amp; Marketing Jobs</span></a>,\n",
       " <a class=\"wp-block-navigation-item__content\" href=\"https://www.careerpointkenya.co.ke/category/librarian-jobs-in-kenya/\"><span class=\"wp-block-navigation-item__label\">Librarian Jobs</span></a>,\n",
       " <a class=\"wp-block-navigation-item__content\" href=\"https://www.careerpointkenya.co.ke/category/logistics-jobs-in-kenya/\"><span class=\"wp-block-navigation-item__label\">Logistics Jobs</span></a>,\n",
       " <a class=\"wp-block-navigation-item__content\" href=\"https://www.careerpointkenya.co.ke/category/nutrition-jobs-in-kenya/\"><span class=\"wp-block-navigation-item__label\">Nutrition Jobs</span></a>,\n",
       " <a class=\"wp-block-navigation-item__content\" href=\"https://www.careerpointkenya.co.ke/category/parastatal-jobs-in-kenya/\"><span class=\"wp-block-navigation-item__label\">Parastatal Jobs</span></a>,\n",
       " <a class=\"wp-block-navigation-item__content\" href=\"https://www.careerpointkenya.co.ke/category/public-health-jobs-in-kenya/\"><span class=\"wp-block-navigation-item__label\">Public Health Jobs</span></a>,\n",
       " <a class=\"wp-block-navigation-item__content\" href=\"https://www.careerpointkenya.co.ke/category/public-relations-jobs-in-kenya/\"><span class=\"wp-block-navigation-item__label\">Public Relations Jobs</span></a>,\n",
       " <a class=\"wp-block-navigation-item__content\" href=\"https://www.careerpointkenya.co.ke/category/quantity-surveyor-jobs-in-kenya/\"><span class=\"wp-block-navigation-item__label\">Quantity Surveyor Jobs</span></a>,\n",
       " <a class=\"wp-block-navigation-item__content\" href=\"https://www.careerpointkenya.co.ke/category/social-work-jobs-in-kenya/\"><span class=\"wp-block-navigation-item__label\">Social Work Jobs</span></a>,\n",
       " <a class=\"wp-block-navigation-item__content\" href=\"https://www.careerpointkenya.co.ke/category/supply-chain-jobs-in-kenya/\"><span class=\"wp-block-navigation-item__label\">Supply Chain Jobs</span></a>,\n",
       " <a class=\"wp-block-navigation-item__content\" href=\"https://www.careerpointkenya.co.ke/category/tours-travel-jobs-in-kenya/\"><span class=\"wp-block-navigation-item__label\">Tours Travel Jobs</span></a>,\n",
       " <a class=\"wp-block-navigation-item__content\" href=\"https://www.corporatestaffing.co.ke/training/public-speaking-training-kenya/\"><span class=\"wp-block-navigation-item__label\">Public Speaking Course</span></a>,\n",
       " <a class=\"wp-block-navigation-item__content\" href=\"https://www.corporatestaffing.co.ke/training/project-management-course-in-kenya/\"><span class=\"wp-block-navigation-item__label\">Project Management Training</span></a>,\n",
       " <a class=\"wp-block-navigation-item__content\" href=\"https://www.corporatestaffing.co.ke/training/pmp-exam-course/\"><span class=\"wp-block-navigation-item__label\">PMP Course</span></a>,\n",
       " <a class=\"wp-block-navigation-item__content\" href=\"https://www.corporatestaffing.co.ke/training/monitoring-and-evaluation-course/\"><span class=\"wp-block-navigation-item__label\">Monitoring &amp; Evaluation Class</span></a>,\n",
       " <a class=\"wp-block-navigation-item__content\" href=\"https://www.corporatestaffing.co.ke/training/advanced-excel-training-nairobi/\"><span class=\"wp-block-navigation-item__label\">Advanced Excel Lessons</span></a>,\n",
       " <a class=\"wp-block-navigation-item__content\" href=\"https://www.corporatestaffing.co.ke/training/digital-marketing-course-in-kenya/\"><span class=\"wp-block-navigation-item__label\">Digital Marketing Course</span></a>,\n",
       " <a class=\"wp-block-navigation-item__content\" href=\"https://www.corporatestaffing.co.ke/training/hr-jobs-2020/\"><span class=\"wp-block-navigation-item__label\">Practical HR Skills Training</span></a>,\n",
       " <a class=\"wp-block-navigation-item__content\" href=\"https://www.corporatestaffing.co.ke/training/certificate-in-hr-management/\"><span class=\"wp-block-navigation-item__label\">Certificate In HR Management Course</span></a>,\n",
       " <a class=\"wp-block-navigation-item__content\" href=\"https://www.corporatestaffing.co.ke/training/leadership-course-in-kenya/\"><span class=\"wp-block-navigation-item__label\">Leadership &amp; Management Development Training</span></a>,\n",
       " <a class=\"wp-block-navigation-item__content\" href=\"https://www.corporatestaffing.co.ke/training/quickbooks-training-in-kenya/\"><span class=\"wp-block-navigation-item__label\">Master QuickBooks &amp; Filing Taxes Class</span></a>,\n",
       " <a class=\"wp-block-navigation-item__content\" href=\"https://www.corporatestaffing.co.ke/training/train-the-trainer-tot-course/\"><span class=\"wp-block-navigation-item__label\">Training of Trainers Class</span></a>,\n",
       " <a class=\"wp-block-navigation-item__content\" href=\"https://www.corporatestaffing.co.ke/training/customer-service-course-certificate/\"><span class=\"wp-block-navigation-item__label\">Customer Service Training</span></a>,\n",
       " <a class=\"wp-block-navigation-item__content\" href=\"https://www.corporatestaffing.co.ke/training/certificate-in-graphic-design-course-in-kenya/\"><span class=\"wp-block-navigation-item__label\">Graphic Design Course</span></a>,\n",
       " <a class=\"wp-block-navigation-item__content\" href=\"https://www.corporatestaffing.co.ke/training/communication-skills-course/\"><span class=\"wp-block-navigation-item__label\">Communication Skills Class</span></a>,\n",
       " <a class=\"wp-block-navigation-item__content\" href=\"https://www.corporatestaffing.co.ke/training/emotional-intelligence-course/\"><span class=\"wp-block-navigation-item__label\">Emotional Intelligence Course</span></a>,\n",
       " <a class=\"wp-block-navigation-item__content\" href=\"https://www.corporatestaffing.co.ke/training/events-management-course-certificate/\"><span class=\"wp-block-navigation-item__label\">Events Planning Lessons</span></a>,\n",
       " <a class=\"wp-block-navigation-item__content\" href=\"https://www.corporatestaffing.co.ke/training/spss-training/\"><span class=\"wp-block-navigation-item__label\">SPSS Training</span></a>,\n",
       " <a href=\"https://www.careerpointkenya.co.ke/jobs/\">New Jobs</a>,\n",
       " <a href=\"https://www.careerpointkenya.co.ke/cv-writing-services-kenya/\">CV Writing</a>,\n",
       " <a href=\"https://www.careerpointkenya.co.ke/top-common-interview-questions-and-answers-in-kenya/\">Interview Q&amp;A</a>,\n",
       " <a href=\"https://www.careerpointkenya.co.ke/short-courses-in-kenya-best/\">Short Courses</a>,\n",
       " <a href=\"https://www.careerpointkenya.co.ke/free-job-advertising/\">Free Job Advertising</a>,\n",
       " <a href=\"https://www.careerpointkenya.co.ke/recruitment-agencies-kenya/\">Agencies Listing</a>,\n",
       " <a href=\"https://www.careerpointkenya.co.ke/privacy-policy/\" rel=\"privacy-policy\">Privacy Policy</a>,\n",
       " <a href=\"https://www.careerpointkenya.co.ke/\">Home</a>,\n",
       " <a aria-current=\"page\" href=\"https://www.careerpointkenya.co.ke/jobs/\">Latest Jobs</a>,\n",
       " <a href=\"https://www.careerpointkenya.co.ke/cv-writing-services-kenya/\">CV Writing</a>,\n",
       " <a href=\"https://www.careerpointkenya.co.ke/recruitment-agencies-kenya/\">Recruitment Firms</a>,\n",
       " <a href=\"https://www.careerpointkenya.co.ke/top-common-interview-questions-and-answers-in-kenya/\">Best Interview Answers</a>,\n",
       " <a href=\"https://www.careerpointkenya.co.ke/short-courses-in-kenya-best/\">New Short Courses</a>,\n",
       " <a href=\"https://www.careerpointkenya.co.ke/free-job-advertising/\">Free Job Posting</a>]"
      ]
     },
     "execution_count": 43,
     "metadata": {},
     "output_type": "execute_result"
    }
   ],
   "source": [
    "soup.find_all('a')"
   ]
  },
  {
   "cell_type": "code",
   "execution_count": 44,
   "metadata": {},
   "outputs": [],
   "source": [
    "tags=soup.find_all('li', class_='menu_item')"
   ]
  },
  {
   "cell_type": "code",
   "execution_count": 45,
   "metadata": {},
   "outputs": [],
   "source": [
    "names=[]\n",
    "for i in tags:\n",
    "    a_tag=i.find('a')\n",
    "    if a_tag:\n",
    "        names.append(a_tag)\n",
    "    else:\n",
    "        print('f', 'no a_tag:{i}')"
   ]
  },
  {
   "cell_type": "code",
   "execution_count": 47,
   "metadata": {},
   "outputs": [],
   "source": [
    "for name in names:\n",
    "    print(name.text,name['href'])"
   ]
  },
  {
   "cell_type": "code",
   "execution_count": null,
   "metadata": {},
   "outputs": [],
   "source": []
  },
  {
   "cell_type": "code",
   "execution_count": 48,
   "metadata": {},
   "outputs": [],
   "source": [
    "new_url=\"https://www.airlinequality.com/airline-reviews/austrian-airlines\""
   ]
  },
  {
   "cell_type": "code",
   "execution_count": 49,
   "metadata": {},
   "outputs": [],
   "source": [
    "response=requests.get(new_url)"
   ]
  },
  {
   "cell_type": "code",
   "execution_count": 50,
   "metadata": {},
   "outputs": [
    {
     "data": {
      "text/plain": [
       "200"
      ]
     },
     "execution_count": 50,
     "metadata": {},
     "output_type": "execute_result"
    }
   ],
   "source": [
    "response.status_code"
   ]
  },
  {
   "cell_type": "code",
   "execution_count": 51,
   "metadata": {},
   "outputs": [],
   "source": [
    "soup=BeautifulSoup(response.text, 'html.parser')"
   ]
  },
  {
   "cell_type": "code",
   "execution_count": 52,
   "metadata": {},
   "outputs": [
    {
     "data": {
      "text/plain": [
       "'Austrian Airlines Customer Reviews - SKYTRAX'"
      ]
     },
     "execution_count": 52,
     "metadata": {},
     "output_type": "execute_result"
    }
   ],
   "source": [
    "soup.title.string"
   ]
  },
  {
   "cell_type": "code",
   "execution_count": 53,
   "metadata": {},
   "outputs": [
    {
     "data": {
      "text/plain": [
       "[<li><a href=\"https://www.airlinequality.com/sign-in\">Log In</a></li>,\n",
       " <li><a href=\"https://www.airlinequality.com/reviewer/reviewer-signup\">Join</a></li>,\n",
       " <li class=\"airline-reviews has-dropdown not-click\"><a href=\"#\" target=\"\">Airline Reviews</a>\n",
       " <div class=\"dropdown\">\n",
       " <div class=\"nav-links\">\n",
       " <ul class=\"nav-links__list\">\n",
       " <li class=\"airline-reviews navSectionTitle not-click\"><a href=\"#\" target=\"\">Airline Reviews</a>\n",
       " </li>\n",
       " <li class=\"latest-airline-reviews not-click\"><a href=\"https://www.airlinequality.com/review-pages/latest-airline-reviews/\" target=\"\">Latest Airline Reviews</a>\n",
       " </li>\n",
       " <li class=\"a-z-airline-reviews not-click\"><a href=\"https://www.airlinequality.com/review-pages/a-z-airline-reviews/\" target=\"\">A-Z Airline Reviews</a>\n",
       " </li>\n",
       " <li class=\"airline-review-scores not-click\"><a href=\"https://www.airlinequality.com/review-pages/a-z-airline-reviews/airline-review-ratings/\" target=\"\">Airline Review Scores</a>\n",
       " </li>\n",
       " <li class=\"a-z-airline-photos not-click\"><a href=\"https://www.airlinequality.com/review-pages/a-z-airline-photos/\" target=\"\">A-Z Airline Photos</a>\n",
       " </li>\n",
       " <li class=\"airline-lounges navSectionTitle not-click\"><a href=\"#\" target=\"\">Airline Lounges</a>\n",
       " </li>\n",
       " <li class=\"latest-lounge-reviews not-click\"><a href=\"https://www.airlinequality.com/review-pages/latest-lounge-reviews/\" target=\"\">Latest Lounge Reviews</a>\n",
       " </li>\n",
       " <li class=\"a-z-airline-lounge-reviews not-click\"><a href=\"https://www.airlinequality.com/review-pages/a-z-lounge-reviews/\" target=\"\">A-Z Airline Lounge Reviews</a>\n",
       " </li>\n",
       " <li class=\"lounge-photo-galleries not-click\"><a href=\"https://www.airlinequality.com/info/lounge-photo-galleries/\" target=\"\">Lounge Photo Galleries</a>\n",
       " </li>\n",
       " <li class=\"airline-lounge-scores not-click\"><a href=\"https://www.airlinequality.com/review-pages/a-z-lounge-reviews/airline-lounge-review-ratings/\" target=\"\">Airline Lounge Scores</a>\n",
       " </li>\n",
       " <li class=\"a-z-lounge-photos not-click\"><a href=\"https://www.airlinequality.com/review-pages/a-z-lounge-photos/\" target=\"\">A-Z Lounge Photos</a>\n",
       " </li>\n",
       " </ul>\n",
       " <ul class=\"nav-links__list\">\n",
       " <li class=\"seperator\">\n",
       " </li>\n",
       " <li class=\"airline-seats navSectionTitle not-click\"><a href=\"#\" target=\"\">Airline Seats</a>\n",
       " </li>\n",
       " <li class=\"latest-seat-reviews not-click\"><a href=\"https://www.airlinequality.com/review-pages/latest-seat-reviews/\" target=\"\">Latest Seat Reviews</a>\n",
       " </li>\n",
       " <li class=\"a-z-airline-seat-reviews not-click\"><a href=\"https://www.airlinequality.com/review-pages/a-z-seat-reviews/\" target=\"\">A-Z Airline Seat Reviews</a>\n",
       " </li>\n",
       " <li class=\"airline-seat-scores not-click\"><a href=\"https://www.airlinequality.com/review-pages/a-z-seat-reviews/airline-seat-review-ratings/\" target=\"\">Airline Seat Scores</a>\n",
       " </li>\n",
       " <li class=\"a-z-seat-photos not-click\"><a href=\"https://www.airlinequality.com/review-pages/a-z-seat-photos/\" target=\"\">A-Z Seat Photos</a>\n",
       " </li></ul>\n",
       " </div>\n",
       " </div>\n",
       " </li>,\n",
       " <li class=\"airline-reviews navSectionTitle not-click\"><a href=\"#\" target=\"\">Airline Reviews</a>\n",
       " </li>,\n",
       " <li class=\"latest-airline-reviews not-click\"><a href=\"https://www.airlinequality.com/review-pages/latest-airline-reviews/\" target=\"\">Latest Airline Reviews</a>\n",
       " </li>,\n",
       " <li class=\"a-z-airline-reviews not-click\"><a href=\"https://www.airlinequality.com/review-pages/a-z-airline-reviews/\" target=\"\">A-Z Airline Reviews</a>\n",
       " </li>,\n",
       " <li class=\"airline-review-scores not-click\"><a href=\"https://www.airlinequality.com/review-pages/a-z-airline-reviews/airline-review-ratings/\" target=\"\">Airline Review Scores</a>\n",
       " </li>,\n",
       " <li class=\"a-z-airline-photos not-click\"><a href=\"https://www.airlinequality.com/review-pages/a-z-airline-photos/\" target=\"\">A-Z Airline Photos</a>\n",
       " </li>,\n",
       " <li class=\"airline-lounges navSectionTitle not-click\"><a href=\"#\" target=\"\">Airline Lounges</a>\n",
       " </li>,\n",
       " <li class=\"latest-lounge-reviews not-click\"><a href=\"https://www.airlinequality.com/review-pages/latest-lounge-reviews/\" target=\"\">Latest Lounge Reviews</a>\n",
       " </li>,\n",
       " <li class=\"a-z-airline-lounge-reviews not-click\"><a href=\"https://www.airlinequality.com/review-pages/a-z-lounge-reviews/\" target=\"\">A-Z Airline Lounge Reviews</a>\n",
       " </li>,\n",
       " <li class=\"lounge-photo-galleries not-click\"><a href=\"https://www.airlinequality.com/info/lounge-photo-galleries/\" target=\"\">Lounge Photo Galleries</a>\n",
       " </li>,\n",
       " <li class=\"airline-lounge-scores not-click\"><a href=\"https://www.airlinequality.com/review-pages/a-z-lounge-reviews/airline-lounge-review-ratings/\" target=\"\">Airline Lounge Scores</a>\n",
       " </li>,\n",
       " <li class=\"a-z-lounge-photos not-click\"><a href=\"https://www.airlinequality.com/review-pages/a-z-lounge-photos/\" target=\"\">A-Z Lounge Photos</a>\n",
       " </li>,\n",
       " <li class=\"seperator\">\n",
       " </li>,\n",
       " <li class=\"airline-seats navSectionTitle not-click\"><a href=\"#\" target=\"\">Airline Seats</a>\n",
       " </li>,\n",
       " <li class=\"latest-seat-reviews not-click\"><a href=\"https://www.airlinequality.com/review-pages/latest-seat-reviews/\" target=\"\">Latest Seat Reviews</a>\n",
       " </li>,\n",
       " <li class=\"a-z-airline-seat-reviews not-click\"><a href=\"https://www.airlinequality.com/review-pages/a-z-seat-reviews/\" target=\"\">A-Z Airline Seat Reviews</a>\n",
       " </li>,\n",
       " <li class=\"airline-seat-scores not-click\"><a href=\"https://www.airlinequality.com/review-pages/a-z-seat-reviews/airline-seat-review-ratings/\" target=\"\">Airline Seat Scores</a>\n",
       " </li>,\n",
       " <li class=\"a-z-seat-photos not-click\"><a href=\"https://www.airlinequality.com/review-pages/a-z-seat-photos/\" target=\"\">A-Z Seat Photos</a>\n",
       " </li>,\n",
       " <li class=\"airport-reviews has-dropdown not-click\"><a href=\"#\" target=\"\">Airport Reviews</a>\n",
       " <div class=\"dropdown\">\n",
       " <div class=\"nav-links\">\n",
       " <ul class=\"nav-links__list\">\n",
       " <li class=\"airport-reviews navSectionTitle not-click\"><a href=\"#\" target=\"\">Airport Reviews</a>\n",
       " </li>\n",
       " <li class=\"latest-airport-reviews not-click\"><a href=\"https://www.airlinequality.com/review-pages/latest-airport-reviews/\" target=\"\">Latest Airport Reviews</a>\n",
       " </li>\n",
       " <li class=\"a-z-airport-reviews not-click\"><a href=\"https://www.airlinequality.com/review-pages/a-z-airport-reviews/\" target=\"\">A-Z Airport Reviews</a>\n",
       " </li>\n",
       " <li class=\"airport-review-scores not-click\"><a href=\"https://www.airlinequality.com/review-pages/a-z-airport-reviews/airport-review-ratings/\" target=\"\">Airport Review Scores</a>\n",
       " </li>\n",
       " <li class=\"a-z-airport-photos not-click\"><a href=\"https://www.airlinequality.com/review-pages/a-z-airport-photos/\" target=\"\">A-Z Airport Photos</a>\n",
       " </li></ul>\n",
       " </div>\n",
       " </div>\n",
       " </li>,\n",
       " <li class=\"airport-reviews navSectionTitle not-click\"><a href=\"#\" target=\"\">Airport Reviews</a>\n",
       " </li>,\n",
       " <li class=\"latest-airport-reviews not-click\"><a href=\"https://www.airlinequality.com/review-pages/latest-airport-reviews/\" target=\"\">Latest Airport Reviews</a>\n",
       " </li>,\n",
       " <li class=\"a-z-airport-reviews not-click\"><a href=\"https://www.airlinequality.com/review-pages/a-z-airport-reviews/\" target=\"\">A-Z Airport Reviews</a>\n",
       " </li>,\n",
       " <li class=\"airport-review-scores not-click\"><a href=\"https://www.airlinequality.com/review-pages/a-z-airport-reviews/airport-review-ratings/\" target=\"\">Airport Review Scores</a>\n",
       " </li>,\n",
       " <li class=\"a-z-airport-photos not-click\"><a href=\"https://www.airlinequality.com/review-pages/a-z-airport-photos/\" target=\"\">A-Z Airport Photos</a>\n",
       " </li>,\n",
       " <li class=\"write-a-review not-click\"><a href=\"https://www.airlinequality.com/write-a-review/\" target=\"\">Write A Review</a>\n",
       " </li>,\n",
       " <li class=\"airport-airline-rating has-dropdown not-click\"><a href=\"#\" target=\"\">Airport &amp; Airline Rating</a>\n",
       " <div class=\"dropdown\">\n",
       " <div class=\"nav-links\">\n",
       " <ul class=\"nav-links__list\">\n",
       " <li class=\"airline-rating navSectionTitle not-click\"><a href=\"#\" target=\"\">Airline Rating</a>\n",
       " </li>\n",
       " <li class=\"a-z-airline-ratings not-click\"><a href=\"https://skytraxratings.com/a-z-of-airline-ratings\" target=\"_blank\">A-Z Airline Ratings</a>\n",
       " </li>\n",
       " <li class=\"5-star-airlines not-click\"><a href=\"https://skytraxratings.com/worlds-5-star-airlines\" target=\"_blank\">5-Star Airlines</a>\n",
       " </li>\n",
       " </ul>\n",
       " <ul class=\"nav-links__list\">\n",
       " <li class=\"seperator\">\n",
       " </li>\n",
       " <li class=\"airport-rating navSectionTitle not-click\"><a href=\"#\" target=\"\">Airport Rating</a>\n",
       " </li>\n",
       " <li class=\"a-z-airport-ratings not-click\"><a href=\"https://skytraxratings.com/a-z-of-airport-ratings\" target=\"_blank\">A-Z Airport Ratings</a>\n",
       " </li>\n",
       " <li class=\"5-star-airports not-click\"><a href=\"https://skytraxratings.com/airports?stars=5\" target=\"_blank\">5-Star Airports</a>\n",
       " </li></ul>\n",
       " </div>\n",
       " </div>\n",
       " </li>,\n",
       " <li class=\"airline-rating navSectionTitle not-click\"><a href=\"#\" target=\"\">Airline Rating</a>\n",
       " </li>,\n",
       " <li class=\"a-z-airline-ratings not-click\"><a href=\"https://skytraxratings.com/a-z-of-airline-ratings\" target=\"_blank\">A-Z Airline Ratings</a>\n",
       " </li>,\n",
       " <li class=\"5-star-airlines not-click\"><a href=\"https://skytraxratings.com/worlds-5-star-airlines\" target=\"_blank\">5-Star Airlines</a>\n",
       " </li>,\n",
       " <li class=\"seperator\">\n",
       " </li>,\n",
       " <li class=\"airport-rating navSectionTitle not-click\"><a href=\"#\" target=\"\">Airport Rating</a>\n",
       " </li>,\n",
       " <li class=\"a-z-airport-ratings not-click\"><a href=\"https://skytraxratings.com/a-z-of-airport-ratings\" target=\"_blank\">A-Z Airport Ratings</a>\n",
       " </li>,\n",
       " <li class=\"5-star-airports not-click\"><a href=\"https://skytraxratings.com/airports?stars=5\" target=\"_blank\">5-Star Airports</a>\n",
       " </li>,\n",
       " <li class=\"skytrax-awards has-dropdown not-click\"><a href=\"#\" target=\"\">Skytrax Awards</a>\n",
       " <div class=\"dropdown\">\n",
       " <div class=\"nav-links\">\n",
       " <ul class=\"nav-links__list\">\n",
       " <li class=\"airline-awards navSectionTitle not-click\"><a href=\"#\" target=\"\">Airline Awards</a>\n",
       " </li>\n",
       " <li class=\"worlds-best-airline not-click\"><a href=\"https://www.worldairlineawards.com/worlds-top-10-airlines-2023/\" target=\"_blank\">World's Best Airline</a>\n",
       " </li>\n",
       " <li class=\"worlds-top-100-airlines not-click\"><a href=\"https://www.worldairlineawards.com/worlds-top-100-airlines-2023/\" target=\"_blank\">World's Top 100 Airlines</a>\n",
       " </li>\n",
       " <li class=\"about-the-awards not-click\"><a href=\"https://www.worldairlineawards.com/about-us/\" target=\"_blank\">About the Awards</a>\n",
       " </li>\n",
       " </ul>\n",
       " <ul class=\"nav-links__list\">\n",
       " <li class=\"seperator\">\n",
       " </li>\n",
       " <li class=\"airport-awards navSectionTitle not-click\"><a href=\"#\" target=\"\">Airport Awards</a>\n",
       " </li>\n",
       " <li class=\"worlds-best-airport not-click\"><a href=\"https://www.worldairportawards.com/the-worlds-top-10-airports-of-2023/\" target=\"_blank\">World's Best Airport</a>\n",
       " </li>\n",
       " <li class=\"worlds-top-100-airports not-click\"><a href=\"https://www.worldairportawards.com/worlds-top-100-airports-2023/\" target=\"_blank\">World's Top 100 Airports</a>\n",
       " </li>\n",
       " <li class=\"about-the-awards not-click\"><a href=\"https://www.worldairportawards.com/about-us/\" target=\"_blank\">About the Awards</a>\n",
       " </li></ul>\n",
       " </div>\n",
       " </div>\n",
       " </li>,\n",
       " <li class=\"airline-awards navSectionTitle not-click\"><a href=\"#\" target=\"\">Airline Awards</a>\n",
       " </li>,\n",
       " <li class=\"worlds-best-airline not-click\"><a href=\"https://www.worldairlineawards.com/worlds-top-10-airlines-2023/\" target=\"_blank\">World's Best Airline</a>\n",
       " </li>,\n",
       " <li class=\"worlds-top-100-airlines not-click\"><a href=\"https://www.worldairlineawards.com/worlds-top-100-airlines-2023/\" target=\"_blank\">World's Top 100 Airlines</a>\n",
       " </li>,\n",
       " <li class=\"about-the-awards not-click\"><a href=\"https://www.worldairlineawards.com/about-us/\" target=\"_blank\">About the Awards</a>\n",
       " </li>,\n",
       " <li class=\"seperator\">\n",
       " </li>,\n",
       " <li class=\"airport-awards navSectionTitle not-click\"><a href=\"#\" target=\"\">Airport Awards</a>\n",
       " </li>,\n",
       " <li class=\"worlds-best-airport not-click\"><a href=\"https://www.worldairportawards.com/the-worlds-top-10-airports-of-2023/\" target=\"_blank\">World's Best Airport</a>\n",
       " </li>,\n",
       " <li class=\"worlds-top-100-airports not-click\"><a href=\"https://www.worldairportawards.com/worlds-top-100-airports-2023/\" target=\"_blank\">World's Top 100 Airports</a>\n",
       " </li>,\n",
       " <li class=\"about-the-awards not-click\"><a href=\"https://www.worldairportawards.com/about-us/\" target=\"_blank\">About the Awards</a>\n",
       " </li>,\n",
       " <li class=\"information has-dropdown not-click\"><a href=\"#\" target=\"\">Information</a>\n",
       " <div class=\"dropdown\">\n",
       " <div class=\"nav-links\">\n",
       " <ul class=\"nav-links__list\">\n",
       " <li class=\"information navSectionTitle not-click\"><a href=\"#\" target=\"\">Information</a>\n",
       " </li>\n",
       " <li class=\"about-us not-click\"><a href=\"https://www.airlinequality.com/about-us/\" target=\"\">About Us</a>\n",
       " </li>\n",
       " <li class=\"site-map not-click\"><a href=\"https://www.airlinequality.com/site-map/\" target=\"\">Site Map</a>\n",
       " </li>\n",
       " </ul>\n",
       " <ul class=\"nav-links__list\">\n",
       " <li class=\"seperator\">\n",
       " </li>\n",
       " <li class=\"help-support navSectionTitle not-click\"><a href=\"#\" target=\"\">Help &amp; Support</a>\n",
       " </li>\n",
       " <li class=\"contact-us not-click\"><a href=\"https://www.airlinequality.com/contact-us/\" target=\"\">Contact Us</a>\n",
       " </li>\n",
       " <li class=\"faqs not-click\"><a href=\"https://www.airlinequality.com/info/support/\" target=\"\">FAQs</a>\n",
       " </li>\n",
       " <li class=\"register-as-a-member not-click\"><a href=\"https://www.airlinequality.com/info/reviewer-signup/\" target=\"\">Register as a Member</a>\n",
       " </li>\n",
       " <li class=\"editorial-policy not-click\"><a href=\"https://www.airlinequality.com/info/editorial-policy/\" target=\"\">Editorial Policy</a>\n",
       " </li>\n",
       " <li class=\"respond-to-reviews not-click\"><a href=\"https://www.airlinequality.com/info/skychat/\" target=\"\">Respond to Reviews</a>\n",
       " </li></ul>\n",
       " </div>\n",
       " </div>\n",
       " </li>,\n",
       " <li class=\"information navSectionTitle not-click\"><a href=\"#\" target=\"\">Information</a>\n",
       " </li>,\n",
       " <li class=\"about-us not-click\"><a href=\"https://www.airlinequality.com/about-us/\" target=\"\">About Us</a>\n",
       " </li>,\n",
       " <li class=\"site-map not-click\"><a href=\"https://www.airlinequality.com/site-map/\" target=\"\">Site Map</a>\n",
       " </li>,\n",
       " <li class=\"seperator\">\n",
       " </li>,\n",
       " <li class=\"help-support navSectionTitle not-click\"><a href=\"#\" target=\"\">Help &amp; Support</a>\n",
       " </li>,\n",
       " <li class=\"contact-us not-click\"><a href=\"https://www.airlinequality.com/contact-us/\" target=\"\">Contact Us</a>\n",
       " </li>,\n",
       " <li class=\"faqs not-click\"><a href=\"https://www.airlinequality.com/info/support/\" target=\"\">FAQs</a>\n",
       " </li>,\n",
       " <li class=\"register-as-a-member not-click\"><a href=\"https://www.airlinequality.com/info/reviewer-signup/\" target=\"\">Register as a Member</a>\n",
       " </li>,\n",
       " <li class=\"editorial-policy not-click\"><a href=\"https://www.airlinequality.com/info/editorial-policy/\" target=\"\">Editorial Policy</a>\n",
       " </li>,\n",
       " <li class=\"respond-to-reviews not-click\"><a href=\"https://www.airlinequality.com/info/skychat/\" target=\"\">Respond to Reviews</a>\n",
       " </li>,\n",
       " <li class=\"tab-title airline active\">\n",
       " <a href=\"/airline-reviews/austrian-airlines\">Airline</a>\n",
       " </li>,\n",
       " <li class=\"tab-title seat\">\n",
       " <a href=\"/seat-reviews/austrian-airlines\">Seat</a>\n",
       " </li>,\n",
       " <li class=\"tab-title lounge\">\n",
       " <a href=\"/lounge-reviews/austrian-airlines\">Lounge</a>\n",
       " </li>,\n",
       " <li>\n",
       " <input checked=\"\" data-onchange-submit=\"\" id=\"10\" name=\"pagesize\" type=\"radio\" value=\"10\">\n",
       " <label for=\"10\">10</label>\n",
       " </input></li>,\n",
       " <li>\n",
       " <input data-onchange-submit=\"\" id=\"20\" name=\"pagesize\" type=\"radio\" value=\"20\">\n",
       " <label for=\"20\">20</label>\n",
       " </input></li>,\n",
       " <li>\n",
       " <input data-onchange-submit=\"\" id=\"50\" name=\"pagesize\" type=\"radio\" value=\"50\"/>\n",
       " <label for=\"50\">50</label>\n",
       " </li>,\n",
       " <li>\n",
       " <input data-onchange-submit=\"\" id=\"100\" name=\"pagesize\" type=\"radio\" value=\"100\"/>\n",
       " <label for=\"100\">100</label>\n",
       " </li>,\n",
       " <li class=\"thumbnail\"><a alt=\"\" href=\"https://www.airlinequality.com/wp-content/uploads/2024/05/IMG_1658-500x500.jpeg\"><img alt=\"\" data-id=\"897471\" src=\"https://www.airlinequality.com/wp-content/uploads/2024/05/IMG_1658-50x50.jpeg\"/></a></li>,\n",
       " <li class=\"off\">\n",
       " <span>&lt;&lt;</span>\n",
       " </li>,\n",
       " <li>\n",
       " <a class=\"active\" href=\"/airline-reviews/austrian-airlines/page/1/\">1</a>\n",
       " </li>,\n",
       " <li>\n",
       " <a href=\"/airline-reviews/austrian-airlines/page/2/\">2</a>\n",
       " </li>,\n",
       " <li>\n",
       " <a href=\"/airline-reviews/austrian-airlines/page/3/\">3</a>\n",
       " </li>,\n",
       " <li class=\"off\">\n",
       " <span>...</span>\n",
       " </li>,\n",
       " <li>\n",
       " <a href=\"/airline-reviews/austrian-airlines/page/74/\">74</a>\n",
       " </li>,\n",
       " <li>\n",
       " <a href=\"/airline-reviews/austrian-airlines/page/75/\">75</a>\n",
       " </li>,\n",
       " <li>\n",
       " <a href=\"/airline-reviews/austrian-airlines/page/76/\">76</a>\n",
       " </li>,\n",
       " <li>\n",
       " <a href=\"/airline-reviews/austrian-airlines/page/2/\">&gt;&gt;</a>\n",
       " </li>,\n",
       " <li class=\"\"><a href=\"https://www.airlinequality.com/wp-content/uploads/2024/05/IMG_1658-scaled.jpeg\"><img alt=\"\" class=\"attachment-thumbnail size-thumbnail\" decoding=\"async\" height=\"150\" sizes=\"(max-width: 150px) 100vw, 150px\" src=\"https://www.airlinequality.com/wp-content/uploads/2024/05/IMG_1658-150x150.jpeg\" srcset=\"https://www.airlinequality.com/wp-content/uploads/2024/05/IMG_1658-150x150.jpeg 150w, https://www.airlinequality.com/wp-content/uploads/2024/05/IMG_1658-125x125.jpeg 125w, https://www.airlinequality.com/wp-content/uploads/2024/05/IMG_1658-120x120.jpeg 120w, https://www.airlinequality.com/wp-content/uploads/2024/05/IMG_1658-95x95.jpeg 95w, https://www.airlinequality.com/wp-content/uploads/2024/05/IMG_1658-180x180.jpeg 180w, https://www.airlinequality.com/wp-content/uploads/2024/05/IMG_1658-50x50.jpeg 50w, https://www.airlinequality.com/wp-content/uploads/2024/05/IMG_1658-500x500.jpeg 500w\" width=\"150\"/></a></li>,\n",
       " <li class=\"\"><a href=\"https://www.airlinequality.com/wp-content/uploads/2023/07/brave_SAQSCN6GYn.png\"><img alt=\"\" class=\"attachment-thumbnail size-thumbnail\" decoding=\"async\" height=\"150\" sizes=\"(max-width: 150px) 100vw, 150px\" src=\"https://www.airlinequality.com/wp-content/uploads/2023/07/brave_SAQSCN6GYn-150x150.png\" srcset=\"https://www.airlinequality.com/wp-content/uploads/2023/07/brave_SAQSCN6GYn-150x150.png 150w, https://www.airlinequality.com/wp-content/uploads/2023/07/brave_SAQSCN6GYn-125x125.png 125w, https://www.airlinequality.com/wp-content/uploads/2023/07/brave_SAQSCN6GYn-120x120.png 120w, https://www.airlinequality.com/wp-content/uploads/2023/07/brave_SAQSCN6GYn-95x95.png 95w, https://www.airlinequality.com/wp-content/uploads/2023/07/brave_SAQSCN6GYn-180x180.png 180w, https://www.airlinequality.com/wp-content/uploads/2023/07/brave_SAQSCN6GYn-50x50.png 50w, https://www.airlinequality.com/wp-content/uploads/2023/07/brave_SAQSCN6GYn-500x500.png 500w\" width=\"150\"/></a></li>,\n",
       " <li class=\"\"><a href=\"https://www.airlinequality.com/wp-content/uploads/2023/05/image-30-scaled.jpg\"><img alt=\"\" class=\"attachment-thumbnail size-thumbnail\" decoding=\"async\" height=\"150\" sizes=\"(max-width: 150px) 100vw, 150px\" src=\"https://www.airlinequality.com/wp-content/uploads/2023/05/image-30-150x150.jpg\" srcset=\"https://www.airlinequality.com/wp-content/uploads/2023/05/image-30-150x150.jpg 150w, https://www.airlinequality.com/wp-content/uploads/2023/05/image-30-125x125.jpg 125w, https://www.airlinequality.com/wp-content/uploads/2023/05/image-30-120x120.jpg 120w, https://www.airlinequality.com/wp-content/uploads/2023/05/image-30-95x95.jpg 95w, https://www.airlinequality.com/wp-content/uploads/2023/05/image-30-180x180.jpg 180w, https://www.airlinequality.com/wp-content/uploads/2023/05/image-30-50x50.jpg 50w, https://www.airlinequality.com/wp-content/uploads/2023/05/image-30-500x500.jpg 500w\" width=\"150\"/></a></li>,\n",
       " <li class=\"\"><a href=\"\"></a></li>,\n",
       " <li class=\"menu-item menu-item-type-post_type menu-item-object-page menu-item-155421\" id=\"menu-item-155421\"><a href=\"https://www.airlinequality.com/info/cookies/\">Cookies Policy</a></li>,\n",
       " <li class=\"menu-item menu-item-type-post_type menu-item-object-page menu-item-884780\" id=\"menu-item-884780\"><a href=\"https://www.airlinequality.com/info/privacy-policy/\">Privacy Policy</a></li>,\n",
       " <li class=\"menu-item menu-item-type-post_type menu-item-object-page menu-item-88544\" id=\"menu-item-88544\"><a href=\"https://www.airlinequality.com/info/legal-use/\">Terms &amp; Conditions</a></li>,\n",
       " <li class=\"menu-item menu-item-type-post_type menu-item-object-page menu-item-88548\" id=\"menu-item-88548\"><a href=\"https://www.airlinequality.com/info/editorial-policy/\">Editorial Policy</a></li>,\n",
       " <li class=\"menu-item menu-item-type-post_type menu-item-object-page menu-item-88793\" id=\"menu-item-88793\"><a href=\"https://www.airlinequality.com/contact-us/\">Contact &amp; Feedback</a></li>,\n",
       " <li class=\"menu-item menu-item-type-post_type menu-item-object-page menu-item-154908\" id=\"menu-item-154908\"><a href=\"https://www.airlinequality.com/info/support/\">Help &amp; Support</a></li>,\n",
       " <li class=\"menu-item menu-item-type-post_type menu-item-object-page menu-item-88796\" id=\"menu-item-88796\"><a href=\"https://www.airlinequality.com/about-us/\">About Us</a></li>,\n",
       " <li class=\"menu-item menu-item-type-post_type menu-item-object-page menu-item-667262\" id=\"menu-item-667262\"><a href=\"https://www.airlinequality.com/site-map/\">Site Map</a></li>,\n",
       " <li class=\"facebook\">\n",
       " <a href=\"https://www.facebook.com/pages/Skytrax/110801075638605\" target=\"_blank\">Follow us on facebook</a>\n",
       " </li>,\n",
       " <li class=\"twitter\">\n",
       " <a href=\"https://twitter.com/airlinequality\" target=\"_blank\">Follow us on twitter</a>\n",
       " </li>,\n",
       " <li class=\"youtube\">\n",
       " <a href=\"https://www.youtube.com/channel/UCxnW-L6M9GZPeShvIq5x-Ug\" target=\"_blank\">Follow us on YouTube</a>\n",
       " </li>,\n",
       " <li class=\"instagram\">\n",
       " <a href=\"https://instagram.com/skytrax_uk/\" target=\"_blank\">Follow us on Instagram</a>\n",
       " </li>]"
      ]
     },
     "execution_count": 53,
     "metadata": {},
     "output_type": "execute_result"
    }
   ],
   "source": [
    "soup.find_all('li')"
   ]
  },
  {
   "cell_type": "code",
   "execution_count": 54,
   "metadata": {},
   "outputs": [
    {
     "data": {
      "text/plain": [
       "[]"
      ]
     },
     "execution_count": 54,
     "metadata": {},
     "output_type": "execute_result"
    }
   ],
   "source": [
    "soup.find_all('li', class_='menu_item')"
   ]
  },
  {
   "cell_type": "code",
   "execution_count": 55,
   "metadata": {},
   "outputs": [],
   "source": [
    "li_tags=soup.find_all('li', class_='menu_item')"
   ]
  },
  {
   "cell_type": "code",
   "execution_count": 56,
   "metadata": {},
   "outputs": [
    {
     "data": {
      "text/plain": [
       "[<a href=\"https://www.airlinequality.com\" rel=\"nofollow\">\n",
       " <img alt=\"SKYTRAX\" onerror=\"this.src='https://www.airlinequality.com/wp-content/themes/airlinequality2014new/library/images/skytrax.png'\" src=\"https://www.airlinequality.com/wp-content/themes/airlinequality2014new/library/images/skytrax.svg\"/>\n",
       " </a>,\n",
       " <a href=\"https://www.airlinequality.com/sign-in\">Log In</a>,\n",
       " <a href=\"https://www.airlinequality.com/reviewer/reviewer-signup\">Join</a>,\n",
       " <a class=\"menu-toggle\" href=\"#mainMenu\"><span>Menu</span></a>,\n",
       " <a href=\"#\" target=\"\">Airline Reviews</a>,\n",
       " <a href=\"#\" target=\"\">Airline Reviews</a>,\n",
       " <a href=\"https://www.airlinequality.com/review-pages/latest-airline-reviews/\" target=\"\">Latest Airline Reviews</a>,\n",
       " <a href=\"https://www.airlinequality.com/review-pages/a-z-airline-reviews/\" target=\"\">A-Z Airline Reviews</a>,\n",
       " <a href=\"https://www.airlinequality.com/review-pages/a-z-airline-reviews/airline-review-ratings/\" target=\"\">Airline Review Scores</a>,\n",
       " <a href=\"https://www.airlinequality.com/review-pages/a-z-airline-photos/\" target=\"\">A-Z Airline Photos</a>,\n",
       " <a href=\"#\" target=\"\">Airline Lounges</a>,\n",
       " <a href=\"https://www.airlinequality.com/review-pages/latest-lounge-reviews/\" target=\"\">Latest Lounge Reviews</a>,\n",
       " <a href=\"https://www.airlinequality.com/review-pages/a-z-lounge-reviews/\" target=\"\">A-Z Airline Lounge Reviews</a>,\n",
       " <a href=\"https://www.airlinequality.com/info/lounge-photo-galleries/\" target=\"\">Lounge Photo Galleries</a>,\n",
       " <a href=\"https://www.airlinequality.com/review-pages/a-z-lounge-reviews/airline-lounge-review-ratings/\" target=\"\">Airline Lounge Scores</a>,\n",
       " <a href=\"https://www.airlinequality.com/review-pages/a-z-lounge-photos/\" target=\"\">A-Z Lounge Photos</a>,\n",
       " <a href=\"#\" target=\"\">Airline Seats</a>,\n",
       " <a href=\"https://www.airlinequality.com/review-pages/latest-seat-reviews/\" target=\"\">Latest Seat Reviews</a>,\n",
       " <a href=\"https://www.airlinequality.com/review-pages/a-z-seat-reviews/\" target=\"\">A-Z Airline Seat Reviews</a>,\n",
       " <a href=\"https://www.airlinequality.com/review-pages/a-z-seat-reviews/airline-seat-review-ratings/\" target=\"\">Airline Seat Scores</a>,\n",
       " <a href=\"https://www.airlinequality.com/review-pages/a-z-seat-photos/\" target=\"\">A-Z Seat Photos</a>,\n",
       " <a href=\"#\" target=\"\">Airport Reviews</a>,\n",
       " <a href=\"#\" target=\"\">Airport Reviews</a>,\n",
       " <a href=\"https://www.airlinequality.com/review-pages/latest-airport-reviews/\" target=\"\">Latest Airport Reviews</a>,\n",
       " <a href=\"https://www.airlinequality.com/review-pages/a-z-airport-reviews/\" target=\"\">A-Z Airport Reviews</a>,\n",
       " <a href=\"https://www.airlinequality.com/review-pages/a-z-airport-reviews/airport-review-ratings/\" target=\"\">Airport Review Scores</a>,\n",
       " <a href=\"https://www.airlinequality.com/review-pages/a-z-airport-photos/\" target=\"\">A-Z Airport Photos</a>,\n",
       " <a href=\"https://www.airlinequality.com/write-a-review/\" target=\"\">Write A Review</a>,\n",
       " <a href=\"#\" target=\"\">Airport &amp; Airline Rating</a>,\n",
       " <a href=\"#\" target=\"\">Airline Rating</a>,\n",
       " <a href=\"https://skytraxratings.com/a-z-of-airline-ratings\" target=\"_blank\">A-Z Airline Ratings</a>,\n",
       " <a href=\"https://skytraxratings.com/worlds-5-star-airlines\" target=\"_blank\">5-Star Airlines</a>,\n",
       " <a href=\"#\" target=\"\">Airport Rating</a>,\n",
       " <a href=\"https://skytraxratings.com/a-z-of-airport-ratings\" target=\"_blank\">A-Z Airport Ratings</a>,\n",
       " <a href=\"https://skytraxratings.com/airports?stars=5\" target=\"_blank\">5-Star Airports</a>,\n",
       " <a href=\"#\" target=\"\">Skytrax Awards</a>,\n",
       " <a href=\"#\" target=\"\">Airline Awards</a>,\n",
       " <a href=\"https://www.worldairlineawards.com/worlds-top-10-airlines-2023/\" target=\"_blank\">World's Best Airline</a>,\n",
       " <a href=\"https://www.worldairlineawards.com/worlds-top-100-airlines-2023/\" target=\"_blank\">World's Top 100 Airlines</a>,\n",
       " <a href=\"https://www.worldairlineawards.com/about-us/\" target=\"_blank\">About the Awards</a>,\n",
       " <a href=\"#\" target=\"\">Airport Awards</a>,\n",
       " <a href=\"https://www.worldairportawards.com/the-worlds-top-10-airports-of-2023/\" target=\"_blank\">World's Best Airport</a>,\n",
       " <a href=\"https://www.worldairportawards.com/worlds-top-100-airports-2023/\" target=\"_blank\">World's Top 100 Airports</a>,\n",
       " <a href=\"https://www.worldairportawards.com/about-us/\" target=\"_blank\">About the Awards</a>,\n",
       " <a href=\"#\" target=\"\">Information</a>,\n",
       " <a href=\"#\" target=\"\">Information</a>,\n",
       " <a href=\"https://www.airlinequality.com/about-us/\" target=\"\">About Us</a>,\n",
       " <a href=\"https://www.airlinequality.com/site-map/\" target=\"\">Site Map</a>,\n",
       " <a href=\"#\" target=\"\">Help &amp; Support</a>,\n",
       " <a href=\"https://www.airlinequality.com/contact-us/\" target=\"\">Contact Us</a>,\n",
       " <a href=\"https://www.airlinequality.com/info/support/\" target=\"\">FAQs</a>,\n",
       " <a href=\"https://www.airlinequality.com/info/reviewer-signup/\" target=\"\">Register as a Member</a>,\n",
       " <a href=\"https://www.airlinequality.com/info/editorial-policy/\" target=\"\">Editorial Policy</a>,\n",
       " <a href=\"https://www.airlinequality.com/info/skychat/\" target=\"\">Respond to Reviews</a>,\n",
       " <a href=\"https://www.airlinequality.com\" rel=\"nofollow\">\n",
       " <img alt=\"SKYTRAX\" onerror=\"this.src='https://www.airlinequality.com/wp-content/themes/airlinequality2014new/library/images/skytrax.png'\" src=\"https://www.airlinequality.com/wp-content/themes/airlinequality2014new/library/images/skytrax.svg\"/>\n",
       " </a>,\n",
       " <a class=\"menu-toggle\" href=\"#mainMenu\"><span>Menu</span></a>,\n",
       " <a href=\"/write-a-review?type=airline&amp;e=austrian-airlines\">Write\n",
       "                         a Review</a>,\n",
       " <a href=\"/airline-reviews/austrian-airlines\">Airline</a>,\n",
       " <a href=\"/seat-reviews/austrian-airlines\">Seat</a>,\n",
       " <a href=\"/lounge-reviews/austrian-airlines\">Lounge</a>,\n",
       " <a class=\"userStatus elite\" href=\"/reviewer/reviewer-signup\"><span class=\"userStatusReviewCount\">68 reviews</span><svg class=\"userStatusIcon\" version=\"1.1\" viewbox=\"0 0 307.3 193.5\" xmlns=\"http://www.w3.org/2000/svg\" xmlns:xlink=\"http://www.w3.org/1999/xlink\">\n",
       " <path d=\"M157.9,95c-13.1,5.5-26.3,11.1-38.5,16c-21,8.4-42.4,16-65.1,18.7c-16,1.5-26.5-1-31.6-9.7C15.6,104.3,8.2,88.7,1.1,72.9\n",
       "                 C-2.5,64.8,3.3,61.5,11,62c3.2,0.2,6.6,2.1,9.5,4c8.3,5.6,16.4,11.4,24.4,17.5c5,3.8,9.8,4.1,15.4,1.6c30.8-13.5,61.6-27,92.4-40.3\n",
       "                 c30.4-13.2,60.7-26.4,91.3-39.1c16.9-7,34.3-8.1,51.3-0.1c3.8,1.8,7.2,4.7,10.5,7.4c4.9,4.1-2.8,12.5-21.8,22.7\n",
       "                 c-20.9,10.7-46,22.5-67,33c0,0-31.8,67.3-46.9,99.2c-5.4,11.6-12.7,21.1-25.6,25c-4.4,1.3-5.9,0.5-5.1-4.2\n",
       "                 c1.3-8.1,2.8-16.1,4.4-24.1C147.8,143.9,157.1,98.5,157.9,95z\"></path>\n",
       " <path d=\"M151.7,31.5c-14.3,6.2-30.4,13.2-43.7,18.8c0,0-29.9-17.6-43.4-25.8c-1.6-0.9-2.5-2.8-3.8-4.3c1.4-1,2.6-2.2,4.1-3.1\n",
       "                 c9.9-5.7,20.4-5.7,31-2.8C113.6,19.3,138,27,151.7,31.5z\"></path>\n",
       " </svg></a>,\n",
       " <a href=\"https://www.airlinequality.com/verified-reviews/\"><em>Trip Verified</em></a>,\n",
       " <a class=\"toggle-click tc_mobile_only\" href=\"#anchor899035\"></a>,\n",
       " <a href=\"https://www.airlinequality.com/verified-reviews/\"><em>Trip Verified</em></a>,\n",
       " <a class=\"toggle-click tc_mobile_only\" href=\"#anchor899014\"></a>,\n",
       " <a class=\"userStatus elite\" href=\"/reviewer/reviewer-signup\"><span class=\"userStatusReviewCount\">28 reviews</span><svg class=\"userStatusIcon\" version=\"1.1\" viewbox=\"0 0 307.3 193.5\" xmlns=\"http://www.w3.org/2000/svg\" xmlns:xlink=\"http://www.w3.org/1999/xlink\">\n",
       " <path d=\"M157.9,95c-13.1,5.5-26.3,11.1-38.5,16c-21,8.4-42.4,16-65.1,18.7c-16,1.5-26.5-1-31.6-9.7C15.6,104.3,8.2,88.7,1.1,72.9\n",
       "                 C-2.5,64.8,3.3,61.5,11,62c3.2,0.2,6.6,2.1,9.5,4c8.3,5.6,16.4,11.4,24.4,17.5c5,3.8,9.8,4.1,15.4,1.6c30.8-13.5,61.6-27,92.4-40.3\n",
       "                 c30.4-13.2,60.7-26.4,91.3-39.1c16.9-7,34.3-8.1,51.3-0.1c3.8,1.8,7.2,4.7,10.5,7.4c4.9,4.1-2.8,12.5-21.8,22.7\n",
       "                 c-20.9,10.7-46,22.5-67,33c0,0-31.8,67.3-46.9,99.2c-5.4,11.6-12.7,21.1-25.6,25c-4.4,1.3-5.9,0.5-5.1-4.2\n",
       "                 c1.3-8.1,2.8-16.1,4.4-24.1C147.8,143.9,157.1,98.5,157.9,95z\"></path>\n",
       " <path d=\"M151.7,31.5c-14.3,6.2-30.4,13.2-43.7,18.8c0,0-29.9-17.6-43.4-25.8c-1.6-0.9-2.5-2.8-3.8-4.3c1.4-1,2.6-2.2,4.1-3.1\n",
       "                 c9.9-5.7,20.4-5.7,31-2.8C113.6,19.3,138,27,151.7,31.5z\"></path>\n",
       " </svg></a>,\n",
       " <a href=\"https://www.airlinequality.com/verified-reviews/\"><em>Trip Verified</em></a>,\n",
       " <a class=\"toggle-click tc_mobile_only\" href=\"#anchor898509\"></a>,\n",
       " <a href=\"https://www.airlinequality.com/verified-reviews/\"><em>Trip Verified</em></a>,\n",
       " <a class=\"toggle-click tc_mobile_only\" href=\"#anchor898208\"></a>,\n",
       " <a href=\"https://www.airlinequality.com/verified-reviews/\"><em>Trip Verified</em></a>,\n",
       " <a alt=\"\" href=\"https://www.airlinequality.com/wp-content/uploads/2024/05/IMG_1658-500x500.jpeg\"><img alt=\"\" data-id=\"897471\" src=\"https://www.airlinequality.com/wp-content/uploads/2024/05/IMG_1658-50x50.jpeg\"/></a>,\n",
       " <a class=\"toggle-click tc_mobile_only\" href=\"#anchor897469\"></a>,\n",
       " <a href=\"https://www.airlinequality.com/verified-reviews/\"><em>Trip Verified</em></a>,\n",
       " <a class=\"toggle-click tc_mobile_only\" href=\"#anchor896450\"></a>,\n",
       " <a href=\"https://www.airlinequality.com/verified-reviews/\"><em>Trip Verified</em></a>,\n",
       " <a class=\"toggle-click tc_mobile_only\" href=\"#anchor895684\"></a>,\n",
       " <a href=\"https://www.airlinequality.com/verified-reviews/\"><em>Trip Verified</em></a>,\n",
       " <a class=\"toggle-click tc_mobile_only\" href=\"#anchor892492\"></a>,\n",
       " <a href=\"https://www.airlinequality.com/verified-reviews/\"><em>Trip Verified</em></a>,\n",
       " <a class=\"toggle-click tc_mobile_only\" href=\"#anchor891236\"></a>,\n",
       " <a href=\"https://www.airlinequality.com/verified-reviews/\"><em>Trip Verified</em></a>,\n",
       " <a class=\"toggle-click tc_mobile_only\" href=\"#anchor890913\"></a>,\n",
       " <a class=\"active\" href=\"/airline-reviews/austrian-airlines/page/1/\">1</a>,\n",
       " <a href=\"/airline-reviews/austrian-airlines/page/2/\">2</a>,\n",
       " <a href=\"/airline-reviews/austrian-airlines/page/3/\">3</a>,\n",
       " <a href=\"/airline-reviews/austrian-airlines/page/74/\">74</a>,\n",
       " <a href=\"/airline-reviews/austrian-airlines/page/75/\">75</a>,\n",
       " <a href=\"/airline-reviews/austrian-airlines/page/76/\">76</a>,\n",
       " <a href=\"/airline-reviews/austrian-airlines/page/2/\">&gt;&gt;</a>,\n",
       " <a href=\"https://www.worldairlinesurvey.com/\" rel=\"noopener\" target=\"_blank\">» World Airline Survey</a>,\n",
       " <a href=\"https://www.worldairportsurvey.com/Surveys/Staff/staff_survey.html\" rel=\"noopener\" target=\"_blank\">» Submit your Nomination</a>,\n",
       " <a href=\"https://www.worldairlineawards.com/worlds-cleanest-airline-2023/\" rel=\"noopener\" target=\"_blank\">» View the 2023 results</a>,\n",
       " <a href=\"https://www.airlinequality.com/wp-content/uploads/2024/05/IMG_1658-scaled.jpeg\"><img alt=\"\" class=\"attachment-thumbnail size-thumbnail\" decoding=\"async\" height=\"150\" sizes=\"(max-width: 150px) 100vw, 150px\" src=\"https://www.airlinequality.com/wp-content/uploads/2024/05/IMG_1658-150x150.jpeg\" srcset=\"https://www.airlinequality.com/wp-content/uploads/2024/05/IMG_1658-150x150.jpeg 150w, https://www.airlinequality.com/wp-content/uploads/2024/05/IMG_1658-125x125.jpeg 125w, https://www.airlinequality.com/wp-content/uploads/2024/05/IMG_1658-120x120.jpeg 120w, https://www.airlinequality.com/wp-content/uploads/2024/05/IMG_1658-95x95.jpeg 95w, https://www.airlinequality.com/wp-content/uploads/2024/05/IMG_1658-180x180.jpeg 180w, https://www.airlinequality.com/wp-content/uploads/2024/05/IMG_1658-50x50.jpeg 50w, https://www.airlinequality.com/wp-content/uploads/2024/05/IMG_1658-500x500.jpeg 500w\" width=\"150\"/></a>,\n",
       " <a href=\"https://www.airlinequality.com/wp-content/uploads/2023/07/brave_SAQSCN6GYn.png\"><img alt=\"\" class=\"attachment-thumbnail size-thumbnail\" decoding=\"async\" height=\"150\" sizes=\"(max-width: 150px) 100vw, 150px\" src=\"https://www.airlinequality.com/wp-content/uploads/2023/07/brave_SAQSCN6GYn-150x150.png\" srcset=\"https://www.airlinequality.com/wp-content/uploads/2023/07/brave_SAQSCN6GYn-150x150.png 150w, https://www.airlinequality.com/wp-content/uploads/2023/07/brave_SAQSCN6GYn-125x125.png 125w, https://www.airlinequality.com/wp-content/uploads/2023/07/brave_SAQSCN6GYn-120x120.png 120w, https://www.airlinequality.com/wp-content/uploads/2023/07/brave_SAQSCN6GYn-95x95.png 95w, https://www.airlinequality.com/wp-content/uploads/2023/07/brave_SAQSCN6GYn-180x180.png 180w, https://www.airlinequality.com/wp-content/uploads/2023/07/brave_SAQSCN6GYn-50x50.png 50w, https://www.airlinequality.com/wp-content/uploads/2023/07/brave_SAQSCN6GYn-500x500.png 500w\" width=\"150\"/></a>,\n",
       " <a href=\"https://www.airlinequality.com/wp-content/uploads/2023/05/image-30-scaled.jpg\"><img alt=\"\" class=\"attachment-thumbnail size-thumbnail\" decoding=\"async\" height=\"150\" sizes=\"(max-width: 150px) 100vw, 150px\" src=\"https://www.airlinequality.com/wp-content/uploads/2023/05/image-30-150x150.jpg\" srcset=\"https://www.airlinequality.com/wp-content/uploads/2023/05/image-30-150x150.jpg 150w, https://www.airlinequality.com/wp-content/uploads/2023/05/image-30-125x125.jpg 125w, https://www.airlinequality.com/wp-content/uploads/2023/05/image-30-120x120.jpg 120w, https://www.airlinequality.com/wp-content/uploads/2023/05/image-30-95x95.jpg 95w, https://www.airlinequality.com/wp-content/uploads/2023/05/image-30-180x180.jpg 180w, https://www.airlinequality.com/wp-content/uploads/2023/05/image-30-50x50.jpg 50w, https://www.airlinequality.com/wp-content/uploads/2023/05/image-30-500x500.jpg 500w\" width=\"150\"/></a>,\n",
       " <a href=\"\"></a>,\n",
       " <a href=\"https://www.airlinequality.com/info/cookies/\">Cookies Policy</a>,\n",
       " <a href=\"https://www.airlinequality.com/info/privacy-policy/\">Privacy Policy</a>,\n",
       " <a href=\"https://www.airlinequality.com/info/legal-use/\">Terms &amp; Conditions</a>,\n",
       " <a href=\"https://www.airlinequality.com/info/editorial-policy/\">Editorial Policy</a>,\n",
       " <a href=\"https://www.airlinequality.com/contact-us/\">Contact &amp; Feedback</a>,\n",
       " <a href=\"https://www.airlinequality.com/info/support/\">Help &amp; Support</a>,\n",
       " <a href=\"https://www.airlinequality.com/about-us/\">About Us</a>,\n",
       " <a href=\"https://www.airlinequality.com/site-map/\">Site Map</a>,\n",
       " <a href=\"https://www.facebook.com/pages/Skytrax/110801075638605\" target=\"_blank\">Follow us on facebook</a>,\n",
       " <a href=\"https://twitter.com/airlinequality\" target=\"_blank\">Follow us on twitter</a>,\n",
       " <a href=\"https://www.youtube.com/channel/UCxnW-L6M9GZPeShvIq5x-Ug\" target=\"_blank\">Follow us on YouTube</a>,\n",
       " <a href=\"https://instagram.com/skytrax_uk/\" target=\"_blank\">Follow us on Instagram</a>]"
      ]
     },
     "execution_count": 56,
     "metadata": {},
     "output_type": "execute_result"
    }
   ],
   "source": [
    "soup.find_all('a')"
   ]
  },
  {
   "cell_type": "code",
   "execution_count": 57,
   "metadata": {},
   "outputs": [],
   "source": [
    "tags=soup.find_all('li', class_='menu_item')"
   ]
  },
  {
   "cell_type": "code",
   "execution_count": 58,
   "metadata": {},
   "outputs": [],
   "source": [
    "names=[]\n",
    "for i in tags:\n",
    "    a_tag=i.find('a')"
   ]
  },
  {
   "cell_type": "code",
   "execution_count": 59,
   "metadata": {},
   "outputs": [],
   "source": [
    "for name in names:\n",
    "    print(name.text)"
   ]
  },
  {
   "cell_type": "code",
   "execution_count": 60,
   "metadata": {},
   "outputs": [],
   "source": [
    "for name in names:\n",
    "    print(name.text,name['href'])"
   ]
  },
  {
   "cell_type": "code",
   "execution_count": null,
   "metadata": {},
   "outputs": [],
   "source": []
  }
 ],
 "metadata": {
  "kernelspec": {
   "display_name": "Python 3",
   "language": "python",
   "name": "python3"
  },
  "language_info": {
   "codemirror_mode": {
    "name": "ipython",
    "version": 3
   },
   "file_extension": ".py",
   "mimetype": "text/x-python",
   "name": "python",
   "nbconvert_exporter": "python",
   "pygments_lexer": "ipython3",
   "version": "3.12.3"
  }
 },
 "nbformat": 4,
 "nbformat_minor": 2
}
