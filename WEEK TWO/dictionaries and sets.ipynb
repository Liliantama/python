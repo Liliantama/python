{
 "cells": [
  {
   "cell_type": "code",
   "execution_count": null,
   "metadata": {},
   "outputs": [],
   "source": [
    "Write a Python program to sum up all the items in a dictionary.\n"
   ]
  },
  {
   "cell_type": "code",
   "execution_count": 1,
   "metadata": {},
   "outputs": [],
   "source": [
    "input_dict=('a:10','b:20','c:30','d:40','e:50')"
   ]
  },
  {
   "cell_type": "code",
   "execution_count": 2,
   "metadata": {},
   "outputs": [],
   "source": [
    "def sum_dictionary_values(input_dict):\n",
    "    # Use the sum function to calculate the sum of all values in the dictionary\n",
    "    total_sum = sum(input_dict.values())\n",
    "    return total_sum"
   ]
  },
  {
   "cell_type": "code",
   "execution_count": 14,
   "metadata": {},
   "outputs": [],
   "source": [
    "total_sum =('sum',input_dict)\n"
   ]
  },
  {
   "cell_type": "code",
   "execution_count": 15,
   "metadata": {},
   "outputs": [
    {
     "name": "stdout",
     "output_type": "stream",
     "text": [
      "The sum of all values in the dictionary is: ('+', ('a:10', 'b:20', 'c:30', 'd:40', 'e:50'))\n"
     ]
    }
   ],
   "source": [
    "print(\"The sum of all values in the dictionary is:\", total_sum)\n"
   ]
  },
  {
   "cell_type": "markdown",
   "metadata": {},
   "source": [
    "Create a dictionary to store product information (name, price, quantity). Allow users to add, update, and remove items from the inventory."
   ]
  },
  {
   "cell_type": "code",
   "execution_count": 16,
   "metadata": {},
   "outputs": [],
   "source": [
    "def add_product(inventory, name, price, quantity):\n",
    "    inventory[name] = {'price': price, 'quantity': quantity}\n",
    "    print(f\"Product {name} added to the inventory.\")\n"
   ]
  },
  {
   "cell_type": "code",
   "execution_count": 17,
   "metadata": {},
   "outputs": [],
   "source": [
    "def update_product(inventory, name, price=None, quantity=None):\n",
    "    if name in inventory:\n",
    "        if price is not None:\n",
    "            inventory[name]['price'] = price\n",
    "        if quantity is not None:\n",
    "            inventory[name]['quantity'] = quantity\n",
    "        print(f\"Product {name} updated in the inventory.\")\n",
    "    else:\n",
    "        print(f\"Product {name} not found in the inventory.\")\n"
   ]
  },
  {
   "cell_type": "code",
   "execution_count": 18,
   "metadata": {},
   "outputs": [],
   "source": [
    "def remove_product(inventory, name):\n",
    "    if name in inventory:\n",
    "        del inventory[name]\n",
    "        print(f\"Product {name} removed from the inventory.\")\n",
    "    else:\n",
    "        print(f\"Product {name} not found in the inventory.\")\n"
   ]
  },
  {
   "cell_type": "code",
   "execution_count": 19,
   "metadata": {},
   "outputs": [],
   "source": [
    "def display_inventory(inventory):\n",
    "    if inventory:\n",
    "        print(\"Current Inventory:\")\n",
    "        for name, info in inventory.items():\n",
    "            print(f\"Name: {name}, Price: {info['price']}, Quantity: {info['quantity']}\")\n",
    "    else:\n",
    "        print(\"Inventory is empty.\")\n"
   ]
  },
  {
   "cell_type": "code",
   "execution_count": 20,
   "metadata": {},
   "outputs": [],
   "source": [
    "inventory = {}\n"
   ]
  },
  {
   "cell_type": "code",
   "execution_count": 22,
   "metadata": {},
   "outputs": [
    {
     "name": "stdout",
     "output_type": "stream",
     "text": [
      "\n",
      "Inventory Management System\n",
      "1. Add Product\n",
      "2. Update Product\n",
      "3. Remove Product\n",
      "4. Display Inventory\n",
      "5. Exit\n"
     ]
    }
   ],
   "source": [
    "print(\"\\nInventory Management System\")\n",
    "print(\"1. Add Product\")\n",
    "print(\"2. Update Product\")\n",
    "print(\"3. Remove Product\")\n",
    "print(\"4. Display Inventory\")\n",
    "print(\"5. Exit\")"
   ]
  },
  {
   "cell_type": "code",
   "execution_count": null,
   "metadata": {},
   "outputs": [],
   "source": [
    "Create a dictionary where keys are departments in a company and values are nested dictionaries containing employee information (name, role).\n"
   ]
  },
  {
   "cell_type": "code",
   "execution_count": 23,
   "metadata": {},
   "outputs": [],
   "source": [
    "def add_employee(departments, department_name, employee_name, employee_role):\n",
    "    if department_name not in departments:\n",
    "        departments[department_name] = {}\n",
    "    departments[department_name][employee_name] = employee_role\n",
    "    print(f\"Employee {employee_name} added to department {department_name}.\")\n"
   ]
  },
  {
   "cell_type": "code",
   "execution_count": 24,
   "metadata": {},
   "outputs": [],
   "source": [
    "def update_employee_role(departments, department_name, employee_name, new_role):\n",
    "    if department_name in departments and employee_name in departments[department_name]:\n",
    "        departments[department_name][employee_name] = new_role\n",
    "        print(f\"Employee {employee_name}'s role updated to {new_role} in department {department_name}.\")\n",
    "    else:\n",
    "        print(f\"Employee {employee_name} not found in department {department_name}.\")\n"
   ]
  },
  {
   "cell_type": "code",
   "execution_count": 25,
   "metadata": {},
   "outputs": [],
   "source": [
    "def remove_employee(departments, department_name, employee_name):\n",
    "    if department_name in departments and employee_name in departments[department_name]:\n",
    "        del departments[department_name][employee_name]\n",
    "        print(f\"Employee {employee_name} removed from department {department_name}.\")\n",
    "    else:\n",
    "        print(f\"Employee {employee_name} not found in department {department_name}.\")\n"
   ]
  },
  {
   "cell_type": "code",
   "execution_count": 26,
   "metadata": {},
   "outputs": [],
   "source": [
    "def display_departments(departments):\n",
    "    if departments:\n",
    "        print(\"Company Departments and Employees:\")\n",
    "        for dept, employees in departments.items():\n",
    "            print(f\"Department: {dept}\")\n",
    "            for name, role in employees.items():\n",
    "                print(f\"  Name: {name}, Role: {role}\")\n",
    "    else:\n",
    "        print(\"No departments found.\")\n"
   ]
  },
  {
   "cell_type": "code",
   "execution_count": 31,
   "metadata": {},
   "outputs": [],
   "source": [
    "departments = {}\n"
   ]
  },
  {
   "cell_type": "markdown",
   "metadata": {},
   "source": [
    "Write a function to create a new set that contains the identical items from two given sets.\n",
    "\n",
    "Return the identical elements in the two given sets.\n",
    "For inputs with sets {1, 2, 3, 4} and {3, 4, 5, 6}, the return value should be either {3, 4} or {4, 3}."
   ]
  },
  {
   "cell_type": "code",
   "execution_count": 4,
   "metadata": {},
   "outputs": [],
   "source": [
    "set1 = {1, 2, 3, 4}\n",
    "set2 = {3, 4, 5, 6}"
   ]
  },
  {
   "cell_type": "code",
   "execution_count": 5,
   "metadata": {},
   "outputs": [],
   "source": [
    "def find_identical_elements(set1, set2):\n",
    "    # Find the intersection of the two sets\n",
    "    identical_elements = set1.intersection(set2)\n",
    "    return identical_elements\n"
   ]
  },
  {
   "cell_type": "code",
   "execution_count": 6,
   "metadata": {},
   "outputs": [],
   "source": [
    "identical_elements = find_identical_elements(set1, set2)\n"
   ]
  },
  {
   "cell_type": "code",
   "execution_count": 7,
   "metadata": {},
   "outputs": [
    {
     "name": "stdout",
     "output_type": "stream",
     "text": [
      "The identical elements in the two sets are: {3, 4}\n"
     ]
    }
   ],
   "source": [
    "print(\"The identical elements in the two sets are:\", identical_elements)\n"
   ]
  },
  {
   "cell_type": "code",
   "execution_count": null,
   "metadata": {},
   "outputs": [],
   "source": []
  }
 ],
 "metadata": {
  "kernelspec": {
   "display_name": "Python 3",
   "language": "python",
   "name": "python3"
  },
  "language_info": {
   "codemirror_mode": {
    "name": "ipython",
    "version": 3
   },
   "file_extension": ".py",
   "mimetype": "text/x-python",
   "name": "python",
   "nbconvert_exporter": "python",
   "pygments_lexer": "ipython3",
   "version": "3.12.3"
  }
 },
 "nbformat": 4,
 "nbformat_minor": 2
}
