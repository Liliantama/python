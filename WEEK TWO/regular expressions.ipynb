{
 "cells": [
  {
   "cell_type": "code",
   "execution_count": null,
   "metadata": {},
   "outputs": [],
   "source": [
    "Write a Python program to check that a string contains only a certain set of characters (in this case a-z, A-Z and 0-9)."
   ]
  },
  {
   "cell_type": "code",
   "execution_count": 1,
   "metadata": {},
   "outputs": [],
   "source": [
    "import re"
   ]
  },
  {
   "cell_type": "code",
   "execution_count": 9,
   "metadata": {},
   "outputs": [],
   "source": [
    "def is_allowed_string(input_string):\n",
    "    # Define the regex pattern to match only a-z, A-Z, and 0-9\n",
    "    pattern = re.compile(\"^[a-zA-Z0-9]+$\")\n",
    "    \n",
    "    # Use the pattern to search the input string\n",
    "    if pattern.match(input_string):\n",
    "        return True\n",
    "    else:\n",
    "        return False"
   ]
  },
  {
   "cell_type": "code",
   "execution_count": 10,
   "metadata": {},
   "outputs": [],
   "source": [
    "test_strings = [\"HelloWorld123\", \"Hello World!\", \"123456\", \"abcABC\", \"abc@123\"]\n"
   ]
  },
  {
   "cell_type": "code",
   "execution_count": 11,
   "metadata": {},
   "outputs": [
    {
     "name": "stdout",
     "output_type": "stream",
     "text": [
      "'HelloWorld123' contains only allowed characters.\n",
      "'Hello World!' contains disallowed characters.\n",
      "'123456' contains only allowed characters.\n",
      "'abcABC' contains only allowed characters.\n",
      "'abc@123' contains disallowed characters.\n"
     ]
    }
   ],
   "source": [
    "for string in test_strings:\n",
    "    if is_allowed_string(string):\n",
    "        print(f\"'{string}' contains only allowed characters.\")\n",
    "    else:\n",
    "        print(f\"'{string}' contains disallowed characters.\")"
   ]
  },
  {
   "cell_type": "markdown",
   "metadata": {},
   "source": [
    "Write a Python program that matches a string that has an ‘a’ followed by anything, ending in ‘b’."
   ]
  },
  {
   "cell_type": "code",
   "execution_count": 12,
   "metadata": {},
   "outputs": [],
   "source": [
    "def match_string(input_string):\n",
    "    # Define the regex pattern to match 'a' followed by anything and ending in 'b'\n",
    "    pattern = re.compile(r'a.*b$')\n",
    "    \n",
    "    # Use the pattern to search the input string\n",
    "    if pattern.match(input_string):\n",
    "        return True\n",
    "    else:\n",
    "        return False"
   ]
  },
  {
   "cell_type": "code",
   "execution_count": 13,
   "metadata": {},
   "outputs": [],
   "source": [
    "test_strings = [\"a123b\", \"acb\", \"a45678b\", \"b123a\", \"abc123\"]\n"
   ]
  },
  {
   "cell_type": "code",
   "execution_count": 14,
   "metadata": {},
   "outputs": [
    {
     "name": "stdout",
     "output_type": "stream",
     "text": [
      "'a123b' matches the pattern.\n",
      "'acb' matches the pattern.\n",
      "'a45678b' matches the pattern.\n",
      "'b123a' does not match the pattern.\n",
      "'abc123' does not match the pattern.\n"
     ]
    }
   ],
   "source": [
    "for string in test_strings:\n",
    "    if match_string(string):\n",
    "        print(f\"'{string}' matches the pattern.\")\n",
    "    else:\n",
    "        print(f\"'{string}' does not match the pattern.\")"
   ]
  },
  {
   "cell_type": "code",
   "execution_count": null,
   "metadata": {},
   "outputs": [],
   "source": [
    "Write a program that uses regex to validate user input. Examples:\n",
    "Check if a password meets certain criteria (e.g., minimum length, containing uppercase and lowercase letters).\n",
    "Validate a date format (e.g., DD/MM/YYYY)."
   ]
  },
  {
   "cell_type": "code",
   "execution_count": 15,
   "metadata": {},
   "outputs": [],
   "source": [
    "def validate_password(password):\n",
    "    # Password must be at least 8 characters long, contain uppercase, lowercase, and digit\n",
    "    pattern = re.compile(r'^(?=.*[a-z])(?=.*[A-Z])(?=.*\\d).{8,}$')\n",
    "    if pattern.match(password):\n",
    "        return True\n",
    "    else:\n",
    "        return False\n"
   ]
  },
  {
   "cell_type": "code",
   "execution_count": 16,
   "metadata": {},
   "outputs": [],
   "source": [
    "def validate_date(date):\n",
    "    # Date must follow the format DD/MM/YYYY\n",
    "    pattern = re.compile(r'^(0[1-9]|[12][0-9]|3[01])/(0[1-9]|1[0-2])/\\d{4}$')\n",
    "    if pattern.match(date):\n",
    "        return True\n",
    "    else:\n",
    "        return False"
   ]
  },
  {
   "cell_type": "code",
   "execution_count": 17,
   "metadata": {},
   "outputs": [],
   "source": [
    "password='Lillytama8'"
   ]
  },
  {
   "cell_type": "code",
   "execution_count": 18,
   "metadata": {},
   "outputs": [
    {
     "name": "stdout",
     "output_type": "stream",
     "text": [
      "Password is valid.\n"
     ]
    }
   ],
   "source": [
    "password='Lillytama8'\n",
    "if validate_password(password):\n",
    "            print(\"Password is valid.\")\n",
    "else:\n",
    "            print(\"Password is invalid. It must be at least 8 characters long and contain at least one uppercase letter, one lowercase letter, and one digit.\")\n"
   ]
  },
  {
   "cell_type": "code",
   "execution_count": 19,
   "metadata": {},
   "outputs": [
    {
     "name": "stdout",
     "output_type": "stream",
     "text": [
      "Date is invalid. It must be in the format DD/MM/YYYY.\n"
     ]
    }
   ],
   "source": [
    "date='23/6/2024'\n",
    "if validate_date(date):\n",
    "            print(\"Date is valid.\")\n",
    "else:\n",
    "            print(\"Date is invalid. It must be in the format DD/MM/YYYY.\")\n"
   ]
  },
  {
   "cell_type": "markdown",
   "metadata": {},
   "source": [
    "Write a program that uses regex to extract specific information from a string. Examples:\n",
    "Extract email addresses: Find all strings containing “@” and a dot (.).\n",
    "Extract phone numbers: Find all strings with a specific format (e.g., XXX-XXX-XXXX)."
   ]
  },
  {
   "cell_type": "code",
   "execution_count": 1,
   "metadata": {},
   "outputs": [],
   "source": [
    "def extract_emails(input_string):\n",
    "    # Define the regex pattern for email addresses\n",
    "    email_pattern = re.compile(r'[a-zA-Z0-9._%+-]+@[a-zA-Z0-9.-]+\\.[a-zA-Z]{2,}')\n",
    "    return email_pattern.findall(input_string)\n"
   ]
  },
  {
   "cell_type": "code",
   "execution_count": 2,
   "metadata": {},
   "outputs": [],
   "source": [
    "def extract_phone_numbers(input_string):\n",
    "    # Define the regex pattern for phone numbers (format: XXX-XXX-XXXX)\n",
    "    phone_pattern = re.compile(r'\\b\\d{3}[-]\\d{3}[-]\\d{4}\\b')\n",
    "    return phone_pattern.findall(input_string)\n"
   ]
  },
  {
   "cell_type": "code",
   "execution_count": 5,
   "metadata": {},
   "outputs": [
    {
     "name": "stdout",
     "output_type": "stream",
     "text": [
      "Extracted Email Addresses:\n",
      "l\n",
      "l\n",
      "n\n",
      "m\n",
      "w\n",
      "i\n",
      "k\n",
      "a\n",
      "l\n",
      "i\n",
      "@\n",
      "g\n",
      "m\n",
      "a\n",
      "i\n",
      "l\n",
      ".\n",
      "c\n",
      "o\n",
      "m\n"
     ]
    }
   ],
   "source": [
    "email='llnmwikali@gmail.com'\n",
    "print(\"Extracted Email Addresses:\")\n",
    "for email in email:\n",
    "    print(email)"
   ]
  },
  {
   "cell_type": "code",
   "execution_count": 6,
   "metadata": {},
   "outputs": [
    {
     "name": "stdout",
     "output_type": "stream",
     "text": [
      "\n",
      "Extracted Phone Numbers:\n",
      "0\n",
      "7\n",
      "0\n",
      "-\n",
      "0\n",
      "7\n",
      "5\n",
      "-\n",
      "0\n",
      "9\n",
      "7\n",
      "2\n"
     ]
    }
   ],
   "source": [
    "phone_number='070-075-0972'\n",
    "print(\"\\nExtracted Phone Numbers:\")\n",
    "for number in phone_number:\n",
    "    print(number)"
   ]
  },
  {
   "cell_type": "code",
   "execution_count": null,
   "metadata": {},
   "outputs": [],
   "source": [
    "Write a program that uses regex to search for and replace text in a string. Example:\n",
    "Replace all occurrences of “Mr.” with “Ms.”: text.replace(r”Mr.”, “Ms.”) (r prefix for raw string)\n",
    " "
   ]
  },
  {
   "cell_type": "code",
   "execution_count": 10,
   "metadata": {},
   "outputs": [],
   "source": [
    "import re"
   ]
  },
  {
   "cell_type": "code",
   "execution_count": 11,
   "metadata": {},
   "outputs": [],
   "source": [
    "def replace_text(input_string):\n",
    "    # Define the regex pattern for \"Mr.\"\n",
    "    pattern = re.compile(r'Mr\\.')\n",
    "\n",
    "    # Replace all occurrences of \"Mr.\" with \"Ms.\"\n",
    "    replaced_string = pattern.sub(\"Ms.\", input_string)\n",
    "    \n",
    "    return replaced_string"
   ]
  },
  {
   "cell_type": "code",
   "execution_count": 12,
   "metadata": {},
   "outputs": [],
   "source": [
    "input_string='Mr.jane chong is the appointed mayor'"
   ]
  },
  {
   "cell_type": "code",
   "execution_count": 13,
   "metadata": {},
   "outputs": [
    {
     "name": "stdout",
     "output_type": "stream",
     "text": [
      "\n",
      "Updated Text:\n",
      "Ms.jane chong is the appointed mayor\n"
     ]
    }
   ],
   "source": [
    "updated_string = replace_text(input_string)\n",
    "\n",
    "print(\"\\nUpdated Text:\")\n",
    "print(updated_string)"
   ]
  },
  {
   "cell_type": "code",
   "execution_count": null,
   "metadata": {},
   "outputs": [],
   "source": []
  }
 ],
 "metadata": {
  "kernelspec": {
   "display_name": "Python 3",
   "language": "python",
   "name": "python3"
  },
  "language_info": {
   "codemirror_mode": {
    "name": "ipython",
    "version": 3
   },
   "file_extension": ".py",
   "mimetype": "text/x-python",
   "name": "python",
   "nbconvert_exporter": "python",
   "pygments_lexer": "ipython3",
   "version": "3.12.3"
  }
 },
 "nbformat": 4,
 "nbformat_minor": 2
}
